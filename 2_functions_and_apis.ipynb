{
  "nbformat": 4,
  "nbformat_minor": 0,
  "metadata": {
    "colab": {
      "name": "2_functions_and_apis.ipynb",
      "provenance": [],
      "collapsed_sections": [
        "42ZeCQ35Zzy5",
        "GALCY1t-dlYU",
        "JPi719RCZB9h",
        "5SsaRk_Hexv1",
        "DEUqTeCvliTC"
      ],
      "toc_visible": true,
      "authorship_tag": "ABX9TyO/R1B+xC9Z7UN3Qwn3cKfT",
      "include_colab_link": true
    },
    "kernelspec": {
      "name": "python3",
      "display_name": "Python 3"
    },
    "language_info": {
      "name": "python"
    },
    "widgets": {
      "application/vnd.jupyter.widget-state+json": {
        "45152752a4fe46fc9fa96bea11a3d67a": {
          "model_module": "@jupyter-widgets/controls",
          "model_name": "HBoxModel",
          "model_module_version": "1.5.0",
          "state": {
            "_dom_classes": [],
            "_model_module": "@jupyter-widgets/controls",
            "_model_module_version": "1.5.0",
            "_model_name": "HBoxModel",
            "_view_count": null,
            "_view_module": "@jupyter-widgets/controls",
            "_view_module_version": "1.5.0",
            "_view_name": "HBoxView",
            "box_style": "",
            "children": [
              "IPY_MODEL_fdc8f72509694e908f16d602214fe913",
              "IPY_MODEL_f07b2f898e904b0eb812645e84be128b",
              "IPY_MODEL_d239052fe143488884f20bf928f02b31"
            ],
            "layout": "IPY_MODEL_1dcc3c5b6a92478b845c453752f5933b"
          }
        },
        "fdc8f72509694e908f16d602214fe913": {
          "model_module": "@jupyter-widgets/controls",
          "model_name": "HTMLModel",
          "model_module_version": "1.5.0",
          "state": {
            "_dom_classes": [],
            "_model_module": "@jupyter-widgets/controls",
            "_model_module_version": "1.5.0",
            "_model_name": "HTMLModel",
            "_view_count": null,
            "_view_module": "@jupyter-widgets/controls",
            "_view_module_version": "1.5.0",
            "_view_name": "HTMLView",
            "description": "",
            "description_tooltip": null,
            "layout": "IPY_MODEL_9daf7726bd924c409086953cf67e3c88",
            "placeholder": "​",
            "style": "IPY_MODEL_95ee8a835a224e3eafbdb32eb6569b70",
            "value": "Downloading: 100%"
          }
        },
        "f07b2f898e904b0eb812645e84be128b": {
          "model_module": "@jupyter-widgets/controls",
          "model_name": "FloatProgressModel",
          "model_module_version": "1.5.0",
          "state": {
            "_dom_classes": [],
            "_model_module": "@jupyter-widgets/controls",
            "_model_module_version": "1.5.0",
            "_model_name": "FloatProgressModel",
            "_view_count": null,
            "_view_module": "@jupyter-widgets/controls",
            "_view_module_version": "1.5.0",
            "_view_name": "ProgressView",
            "bar_style": "success",
            "description": "",
            "description_tooltip": null,
            "layout": "IPY_MODEL_e4a58ad961ef427c8007c5670b099588",
            "max": 747,
            "min": 0,
            "orientation": "horizontal",
            "style": "IPY_MODEL_68c40687077f47be967e59019176022e",
            "value": 747
          }
        },
        "d239052fe143488884f20bf928f02b31": {
          "model_module": "@jupyter-widgets/controls",
          "model_name": "HTMLModel",
          "model_module_version": "1.5.0",
          "state": {
            "_dom_classes": [],
            "_model_module": "@jupyter-widgets/controls",
            "_model_module_version": "1.5.0",
            "_model_name": "HTMLModel",
            "_view_count": null,
            "_view_module": "@jupyter-widgets/controls",
            "_view_module_version": "1.5.0",
            "_view_name": "HTMLView",
            "description": "",
            "description_tooltip": null,
            "layout": "IPY_MODEL_811a613d00fd461b9c7eac159ca23d7a",
            "placeholder": "​",
            "style": "IPY_MODEL_fb5dcb39992a4f118bc31c17d45b3703",
            "value": " 747/747 [00:00&lt;00:00, 5.79kB/s]"
          }
        },
        "1dcc3c5b6a92478b845c453752f5933b": {
          "model_module": "@jupyter-widgets/base",
          "model_name": "LayoutModel",
          "model_module_version": "1.2.0",
          "state": {
            "_model_module": "@jupyter-widgets/base",
            "_model_module_version": "1.2.0",
            "_model_name": "LayoutModel",
            "_view_count": null,
            "_view_module": "@jupyter-widgets/base",
            "_view_module_version": "1.2.0",
            "_view_name": "LayoutView",
            "align_content": null,
            "align_items": null,
            "align_self": null,
            "border": null,
            "bottom": null,
            "display": null,
            "flex": null,
            "flex_flow": null,
            "grid_area": null,
            "grid_auto_columns": null,
            "grid_auto_flow": null,
            "grid_auto_rows": null,
            "grid_column": null,
            "grid_gap": null,
            "grid_row": null,
            "grid_template_areas": null,
            "grid_template_columns": null,
            "grid_template_rows": null,
            "height": null,
            "justify_content": null,
            "justify_items": null,
            "left": null,
            "margin": null,
            "max_height": null,
            "max_width": null,
            "min_height": null,
            "min_width": null,
            "object_fit": null,
            "object_position": null,
            "order": null,
            "overflow": null,
            "overflow_x": null,
            "overflow_y": null,
            "padding": null,
            "right": null,
            "top": null,
            "visibility": null,
            "width": null
          }
        },
        "9daf7726bd924c409086953cf67e3c88": {
          "model_module": "@jupyter-widgets/base",
          "model_name": "LayoutModel",
          "model_module_version": "1.2.0",
          "state": {
            "_model_module": "@jupyter-widgets/base",
            "_model_module_version": "1.2.0",
            "_model_name": "LayoutModel",
            "_view_count": null,
            "_view_module": "@jupyter-widgets/base",
            "_view_module_version": "1.2.0",
            "_view_name": "LayoutView",
            "align_content": null,
            "align_items": null,
            "align_self": null,
            "border": null,
            "bottom": null,
            "display": null,
            "flex": null,
            "flex_flow": null,
            "grid_area": null,
            "grid_auto_columns": null,
            "grid_auto_flow": null,
            "grid_auto_rows": null,
            "grid_column": null,
            "grid_gap": null,
            "grid_row": null,
            "grid_template_areas": null,
            "grid_template_columns": null,
            "grid_template_rows": null,
            "height": null,
            "justify_content": null,
            "justify_items": null,
            "left": null,
            "margin": null,
            "max_height": null,
            "max_width": null,
            "min_height": null,
            "min_width": null,
            "object_fit": null,
            "object_position": null,
            "order": null,
            "overflow": null,
            "overflow_x": null,
            "overflow_y": null,
            "padding": null,
            "right": null,
            "top": null,
            "visibility": null,
            "width": null
          }
        },
        "95ee8a835a224e3eafbdb32eb6569b70": {
          "model_module": "@jupyter-widgets/controls",
          "model_name": "DescriptionStyleModel",
          "model_module_version": "1.5.0",
          "state": {
            "_model_module": "@jupyter-widgets/controls",
            "_model_module_version": "1.5.0",
            "_model_name": "DescriptionStyleModel",
            "_view_count": null,
            "_view_module": "@jupyter-widgets/base",
            "_view_module_version": "1.2.0",
            "_view_name": "StyleView",
            "description_width": ""
          }
        },
        "e4a58ad961ef427c8007c5670b099588": {
          "model_module": "@jupyter-widgets/base",
          "model_name": "LayoutModel",
          "model_module_version": "1.2.0",
          "state": {
            "_model_module": "@jupyter-widgets/base",
            "_model_module_version": "1.2.0",
            "_model_name": "LayoutModel",
            "_view_count": null,
            "_view_module": "@jupyter-widgets/base",
            "_view_module_version": "1.2.0",
            "_view_name": "LayoutView",
            "align_content": null,
            "align_items": null,
            "align_self": null,
            "border": null,
            "bottom": null,
            "display": null,
            "flex": null,
            "flex_flow": null,
            "grid_area": null,
            "grid_auto_columns": null,
            "grid_auto_flow": null,
            "grid_auto_rows": null,
            "grid_column": null,
            "grid_gap": null,
            "grid_row": null,
            "grid_template_areas": null,
            "grid_template_columns": null,
            "grid_template_rows": null,
            "height": null,
            "justify_content": null,
            "justify_items": null,
            "left": null,
            "margin": null,
            "max_height": null,
            "max_width": null,
            "min_height": null,
            "min_width": null,
            "object_fit": null,
            "object_position": null,
            "order": null,
            "overflow": null,
            "overflow_x": null,
            "overflow_y": null,
            "padding": null,
            "right": null,
            "top": null,
            "visibility": null,
            "width": null
          }
        },
        "68c40687077f47be967e59019176022e": {
          "model_module": "@jupyter-widgets/controls",
          "model_name": "ProgressStyleModel",
          "model_module_version": "1.5.0",
          "state": {
            "_model_module": "@jupyter-widgets/controls",
            "_model_module_version": "1.5.0",
            "_model_name": "ProgressStyleModel",
            "_view_count": null,
            "_view_module": "@jupyter-widgets/base",
            "_view_module_version": "1.2.0",
            "_view_name": "StyleView",
            "bar_color": null,
            "description_width": ""
          }
        },
        "811a613d00fd461b9c7eac159ca23d7a": {
          "model_module": "@jupyter-widgets/base",
          "model_name": "LayoutModel",
          "model_module_version": "1.2.0",
          "state": {
            "_model_module": "@jupyter-widgets/base",
            "_model_module_version": "1.2.0",
            "_model_name": "LayoutModel",
            "_view_count": null,
            "_view_module": "@jupyter-widgets/base",
            "_view_module_version": "1.2.0",
            "_view_name": "LayoutView",
            "align_content": null,
            "align_items": null,
            "align_self": null,
            "border": null,
            "bottom": null,
            "display": null,
            "flex": null,
            "flex_flow": null,
            "grid_area": null,
            "grid_auto_columns": null,
            "grid_auto_flow": null,
            "grid_auto_rows": null,
            "grid_column": null,
            "grid_gap": null,
            "grid_row": null,
            "grid_template_areas": null,
            "grid_template_columns": null,
            "grid_template_rows": null,
            "height": null,
            "justify_content": null,
            "justify_items": null,
            "left": null,
            "margin": null,
            "max_height": null,
            "max_width": null,
            "min_height": null,
            "min_width": null,
            "object_fit": null,
            "object_position": null,
            "order": null,
            "overflow": null,
            "overflow_x": null,
            "overflow_y": null,
            "padding": null,
            "right": null,
            "top": null,
            "visibility": null,
            "width": null
          }
        },
        "fb5dcb39992a4f118bc31c17d45b3703": {
          "model_module": "@jupyter-widgets/controls",
          "model_name": "DescriptionStyleModel",
          "model_module_version": "1.5.0",
          "state": {
            "_model_module": "@jupyter-widgets/controls",
            "_model_module_version": "1.5.0",
            "_model_name": "DescriptionStyleModel",
            "_view_count": null,
            "_view_module": "@jupyter-widgets/base",
            "_view_module_version": "1.2.0",
            "_view_name": "StyleView",
            "description_width": ""
          }
        },
        "481486eb124443e6b7b517389f0cb84f": {
          "model_module": "@jupyter-widgets/controls",
          "model_name": "HBoxModel",
          "model_module_version": "1.5.0",
          "state": {
            "_dom_classes": [],
            "_model_module": "@jupyter-widgets/controls",
            "_model_module_version": "1.5.0",
            "_model_name": "HBoxModel",
            "_view_count": null,
            "_view_module": "@jupyter-widgets/controls",
            "_view_module_version": "1.5.0",
            "_view_name": "HBoxView",
            "box_style": "",
            "children": [
              "IPY_MODEL_762ee736a1774e43a5dff8dfea38303c",
              "IPY_MODEL_09bec974d216487495f189067d2438d6",
              "IPY_MODEL_530965774edf4c1f92aafe10339cc9e6"
            ],
            "layout": "IPY_MODEL_7cee804af05449b7b620e2fbc98a88ba"
          }
        },
        "762ee736a1774e43a5dff8dfea38303c": {
          "model_module": "@jupyter-widgets/controls",
          "model_name": "HTMLModel",
          "model_module_version": "1.5.0",
          "state": {
            "_dom_classes": [],
            "_model_module": "@jupyter-widgets/controls",
            "_model_module_version": "1.5.0",
            "_model_name": "HTMLModel",
            "_view_count": null,
            "_view_module": "@jupyter-widgets/controls",
            "_view_module_version": "1.5.0",
            "_view_name": "HTMLView",
            "description": "",
            "description_tooltip": null,
            "layout": "IPY_MODEL_a8d51ef27f8648f6be20ff8d4e02c987",
            "placeholder": "​",
            "style": "IPY_MODEL_ea9a9d05dac04c9481d7cf6b463d6efd",
            "value": "Downloading: 100%"
          }
        },
        "09bec974d216487495f189067d2438d6": {
          "model_module": "@jupyter-widgets/controls",
          "model_name": "FloatProgressModel",
          "model_module_version": "1.5.0",
          "state": {
            "_dom_classes": [],
            "_model_module": "@jupyter-widgets/controls",
            "_model_module_version": "1.5.0",
            "_model_name": "FloatProgressModel",
            "_view_count": null,
            "_view_module": "@jupyter-widgets/controls",
            "_view_module_version": "1.5.0",
            "_view_name": "ProgressView",
            "bar_style": "success",
            "description": "",
            "description_tooltip": null,
            "layout": "IPY_MODEL_04ae57a0e83f41beae691405cc093b2e",
            "max": 498679497,
            "min": 0,
            "orientation": "horizontal",
            "style": "IPY_MODEL_aef59ce0c43f427db4df6bbe2f7077e4",
            "value": 498679497
          }
        },
        "530965774edf4c1f92aafe10339cc9e6": {
          "model_module": "@jupyter-widgets/controls",
          "model_name": "HTMLModel",
          "model_module_version": "1.5.0",
          "state": {
            "_dom_classes": [],
            "_model_module": "@jupyter-widgets/controls",
            "_model_module_version": "1.5.0",
            "_model_name": "HTMLModel",
            "_view_count": null,
            "_view_module": "@jupyter-widgets/controls",
            "_view_module_version": "1.5.0",
            "_view_name": "HTMLView",
            "description": "",
            "description_tooltip": null,
            "layout": "IPY_MODEL_21c4ef6799654992ab0dbcf52c02dcb8",
            "placeholder": "​",
            "style": "IPY_MODEL_e94306a409e6480c81f6df8d9c402c40",
            "value": " 476M/476M [00:17&lt;00:00, 50.0MB/s]"
          }
        },
        "7cee804af05449b7b620e2fbc98a88ba": {
          "model_module": "@jupyter-widgets/base",
          "model_name": "LayoutModel",
          "model_module_version": "1.2.0",
          "state": {
            "_model_module": "@jupyter-widgets/base",
            "_model_module_version": "1.2.0",
            "_model_name": "LayoutModel",
            "_view_count": null,
            "_view_module": "@jupyter-widgets/base",
            "_view_module_version": "1.2.0",
            "_view_name": "LayoutView",
            "align_content": null,
            "align_items": null,
            "align_self": null,
            "border": null,
            "bottom": null,
            "display": null,
            "flex": null,
            "flex_flow": null,
            "grid_area": null,
            "grid_auto_columns": null,
            "grid_auto_flow": null,
            "grid_auto_rows": null,
            "grid_column": null,
            "grid_gap": null,
            "grid_row": null,
            "grid_template_areas": null,
            "grid_template_columns": null,
            "grid_template_rows": null,
            "height": null,
            "justify_content": null,
            "justify_items": null,
            "left": null,
            "margin": null,
            "max_height": null,
            "max_width": null,
            "min_height": null,
            "min_width": null,
            "object_fit": null,
            "object_position": null,
            "order": null,
            "overflow": null,
            "overflow_x": null,
            "overflow_y": null,
            "padding": null,
            "right": null,
            "top": null,
            "visibility": null,
            "width": null
          }
        },
        "a8d51ef27f8648f6be20ff8d4e02c987": {
          "model_module": "@jupyter-widgets/base",
          "model_name": "LayoutModel",
          "model_module_version": "1.2.0",
          "state": {
            "_model_module": "@jupyter-widgets/base",
            "_model_module_version": "1.2.0",
            "_model_name": "LayoutModel",
            "_view_count": null,
            "_view_module": "@jupyter-widgets/base",
            "_view_module_version": "1.2.0",
            "_view_name": "LayoutView",
            "align_content": null,
            "align_items": null,
            "align_self": null,
            "border": null,
            "bottom": null,
            "display": null,
            "flex": null,
            "flex_flow": null,
            "grid_area": null,
            "grid_auto_columns": null,
            "grid_auto_flow": null,
            "grid_auto_rows": null,
            "grid_column": null,
            "grid_gap": null,
            "grid_row": null,
            "grid_template_areas": null,
            "grid_template_columns": null,
            "grid_template_rows": null,
            "height": null,
            "justify_content": null,
            "justify_items": null,
            "left": null,
            "margin": null,
            "max_height": null,
            "max_width": null,
            "min_height": null,
            "min_width": null,
            "object_fit": null,
            "object_position": null,
            "order": null,
            "overflow": null,
            "overflow_x": null,
            "overflow_y": null,
            "padding": null,
            "right": null,
            "top": null,
            "visibility": null,
            "width": null
          }
        },
        "ea9a9d05dac04c9481d7cf6b463d6efd": {
          "model_module": "@jupyter-widgets/controls",
          "model_name": "DescriptionStyleModel",
          "model_module_version": "1.5.0",
          "state": {
            "_model_module": "@jupyter-widgets/controls",
            "_model_module_version": "1.5.0",
            "_model_name": "DescriptionStyleModel",
            "_view_count": null,
            "_view_module": "@jupyter-widgets/base",
            "_view_module_version": "1.2.0",
            "_view_name": "StyleView",
            "description_width": ""
          }
        },
        "04ae57a0e83f41beae691405cc093b2e": {
          "model_module": "@jupyter-widgets/base",
          "model_name": "LayoutModel",
          "model_module_version": "1.2.0",
          "state": {
            "_model_module": "@jupyter-widgets/base",
            "_model_module_version": "1.2.0",
            "_model_name": "LayoutModel",
            "_view_count": null,
            "_view_module": "@jupyter-widgets/base",
            "_view_module_version": "1.2.0",
            "_view_name": "LayoutView",
            "align_content": null,
            "align_items": null,
            "align_self": null,
            "border": null,
            "bottom": null,
            "display": null,
            "flex": null,
            "flex_flow": null,
            "grid_area": null,
            "grid_auto_columns": null,
            "grid_auto_flow": null,
            "grid_auto_rows": null,
            "grid_column": null,
            "grid_gap": null,
            "grid_row": null,
            "grid_template_areas": null,
            "grid_template_columns": null,
            "grid_template_rows": null,
            "height": null,
            "justify_content": null,
            "justify_items": null,
            "left": null,
            "margin": null,
            "max_height": null,
            "max_width": null,
            "min_height": null,
            "min_width": null,
            "object_fit": null,
            "object_position": null,
            "order": null,
            "overflow": null,
            "overflow_x": null,
            "overflow_y": null,
            "padding": null,
            "right": null,
            "top": null,
            "visibility": null,
            "width": null
          }
        },
        "aef59ce0c43f427db4df6bbe2f7077e4": {
          "model_module": "@jupyter-widgets/controls",
          "model_name": "ProgressStyleModel",
          "model_module_version": "1.5.0",
          "state": {
            "_model_module": "@jupyter-widgets/controls",
            "_model_module_version": "1.5.0",
            "_model_name": "ProgressStyleModel",
            "_view_count": null,
            "_view_module": "@jupyter-widgets/base",
            "_view_module_version": "1.2.0",
            "_view_name": "StyleView",
            "bar_color": null,
            "description_width": ""
          }
        },
        "21c4ef6799654992ab0dbcf52c02dcb8": {
          "model_module": "@jupyter-widgets/base",
          "model_name": "LayoutModel",
          "model_module_version": "1.2.0",
          "state": {
            "_model_module": "@jupyter-widgets/base",
            "_model_module_version": "1.2.0",
            "_model_name": "LayoutModel",
            "_view_count": null,
            "_view_module": "@jupyter-widgets/base",
            "_view_module_version": "1.2.0",
            "_view_name": "LayoutView",
            "align_content": null,
            "align_items": null,
            "align_self": null,
            "border": null,
            "bottom": null,
            "display": null,
            "flex": null,
            "flex_flow": null,
            "grid_area": null,
            "grid_auto_columns": null,
            "grid_auto_flow": null,
            "grid_auto_rows": null,
            "grid_column": null,
            "grid_gap": null,
            "grid_row": null,
            "grid_template_areas": null,
            "grid_template_columns": null,
            "grid_template_rows": null,
            "height": null,
            "justify_content": null,
            "justify_items": null,
            "left": null,
            "margin": null,
            "max_height": null,
            "max_width": null,
            "min_height": null,
            "min_width": null,
            "object_fit": null,
            "object_position": null,
            "order": null,
            "overflow": null,
            "overflow_x": null,
            "overflow_y": null,
            "padding": null,
            "right": null,
            "top": null,
            "visibility": null,
            "width": null
          }
        },
        "e94306a409e6480c81f6df8d9c402c40": {
          "model_module": "@jupyter-widgets/controls",
          "model_name": "DescriptionStyleModel",
          "model_module_version": "1.5.0",
          "state": {
            "_model_module": "@jupyter-widgets/controls",
            "_model_module_version": "1.5.0",
            "_model_name": "DescriptionStyleModel",
            "_view_count": null,
            "_view_module": "@jupyter-widgets/base",
            "_view_module_version": "1.2.0",
            "_view_name": "StyleView",
            "description_width": ""
          }
        },
        "57dbd670b6fb4b009c67f5b550d3f513": {
          "model_module": "@jupyter-widgets/controls",
          "model_name": "HBoxModel",
          "model_module_version": "1.5.0",
          "state": {
            "_dom_classes": [],
            "_model_module": "@jupyter-widgets/controls",
            "_model_module_version": "1.5.0",
            "_model_name": "HBoxModel",
            "_view_count": null,
            "_view_module": "@jupyter-widgets/controls",
            "_view_module_version": "1.5.0",
            "_view_name": "HBoxView",
            "box_style": "",
            "children": [
              "IPY_MODEL_69afb6842e0648018310a31b16a353fc",
              "IPY_MODEL_8b7812c0b510432c89e1e0931f81f734",
              "IPY_MODEL_e45085cf8fc847e9be8e1d3694fc73f0"
            ],
            "layout": "IPY_MODEL_d0439888bab946b8a97525e3002f12ab"
          }
        },
        "69afb6842e0648018310a31b16a353fc": {
          "model_module": "@jupyter-widgets/controls",
          "model_name": "HTMLModel",
          "model_module_version": "1.5.0",
          "state": {
            "_dom_classes": [],
            "_model_module": "@jupyter-widgets/controls",
            "_model_module_version": "1.5.0",
            "_model_name": "HTMLModel",
            "_view_count": null,
            "_view_module": "@jupyter-widgets/controls",
            "_view_module_version": "1.5.0",
            "_view_name": "HTMLView",
            "description": "",
            "description_tooltip": null,
            "layout": "IPY_MODEL_649b98f6c7bb4174a8abd2ea97a0a1be",
            "placeholder": "​",
            "style": "IPY_MODEL_6f5a0dab72f2440b919231053e9e19dd",
            "value": "Downloading: 100%"
          }
        },
        "8b7812c0b510432c89e1e0931f81f734": {
          "model_module": "@jupyter-widgets/controls",
          "model_name": "FloatProgressModel",
          "model_module_version": "1.5.0",
          "state": {
            "_dom_classes": [],
            "_model_module": "@jupyter-widgets/controls",
            "_model_module_version": "1.5.0",
            "_model_name": "FloatProgressModel",
            "_view_count": null,
            "_view_module": "@jupyter-widgets/controls",
            "_view_module_version": "1.5.0",
            "_view_name": "ProgressView",
            "bar_style": "success",
            "description": "",
            "description_tooltip": null,
            "layout": "IPY_MODEL_e9d5a3096a2c4529b271ef027ea26c6f",
            "max": 898822,
            "min": 0,
            "orientation": "horizontal",
            "style": "IPY_MODEL_2f39cd86ed64428a95308645903d33e5",
            "value": 898822
          }
        },
        "e45085cf8fc847e9be8e1d3694fc73f0": {
          "model_module": "@jupyter-widgets/controls",
          "model_name": "HTMLModel",
          "model_module_version": "1.5.0",
          "state": {
            "_dom_classes": [],
            "_model_module": "@jupyter-widgets/controls",
            "_model_module_version": "1.5.0",
            "_model_name": "HTMLModel",
            "_view_count": null,
            "_view_module": "@jupyter-widgets/controls",
            "_view_module_version": "1.5.0",
            "_view_name": "HTMLView",
            "description": "",
            "description_tooltip": null,
            "layout": "IPY_MODEL_32b472fc510642108ec74aee89ffcecc",
            "placeholder": "​",
            "style": "IPY_MODEL_d88346ff84dc45738d1862e48e3b3430",
            "value": " 878k/878k [00:00&lt;00:00, 2.91MB/s]"
          }
        },
        "d0439888bab946b8a97525e3002f12ab": {
          "model_module": "@jupyter-widgets/base",
          "model_name": "LayoutModel",
          "model_module_version": "1.2.0",
          "state": {
            "_model_module": "@jupyter-widgets/base",
            "_model_module_version": "1.2.0",
            "_model_name": "LayoutModel",
            "_view_count": null,
            "_view_module": "@jupyter-widgets/base",
            "_view_module_version": "1.2.0",
            "_view_name": "LayoutView",
            "align_content": null,
            "align_items": null,
            "align_self": null,
            "border": null,
            "bottom": null,
            "display": null,
            "flex": null,
            "flex_flow": null,
            "grid_area": null,
            "grid_auto_columns": null,
            "grid_auto_flow": null,
            "grid_auto_rows": null,
            "grid_column": null,
            "grid_gap": null,
            "grid_row": null,
            "grid_template_areas": null,
            "grid_template_columns": null,
            "grid_template_rows": null,
            "height": null,
            "justify_content": null,
            "justify_items": null,
            "left": null,
            "margin": null,
            "max_height": null,
            "max_width": null,
            "min_height": null,
            "min_width": null,
            "object_fit": null,
            "object_position": null,
            "order": null,
            "overflow": null,
            "overflow_x": null,
            "overflow_y": null,
            "padding": null,
            "right": null,
            "top": null,
            "visibility": null,
            "width": null
          }
        },
        "649b98f6c7bb4174a8abd2ea97a0a1be": {
          "model_module": "@jupyter-widgets/base",
          "model_name": "LayoutModel",
          "model_module_version": "1.2.0",
          "state": {
            "_model_module": "@jupyter-widgets/base",
            "_model_module_version": "1.2.0",
            "_model_name": "LayoutModel",
            "_view_count": null,
            "_view_module": "@jupyter-widgets/base",
            "_view_module_version": "1.2.0",
            "_view_name": "LayoutView",
            "align_content": null,
            "align_items": null,
            "align_self": null,
            "border": null,
            "bottom": null,
            "display": null,
            "flex": null,
            "flex_flow": null,
            "grid_area": null,
            "grid_auto_columns": null,
            "grid_auto_flow": null,
            "grid_auto_rows": null,
            "grid_column": null,
            "grid_gap": null,
            "grid_row": null,
            "grid_template_areas": null,
            "grid_template_columns": null,
            "grid_template_rows": null,
            "height": null,
            "justify_content": null,
            "justify_items": null,
            "left": null,
            "margin": null,
            "max_height": null,
            "max_width": null,
            "min_height": null,
            "min_width": null,
            "object_fit": null,
            "object_position": null,
            "order": null,
            "overflow": null,
            "overflow_x": null,
            "overflow_y": null,
            "padding": null,
            "right": null,
            "top": null,
            "visibility": null,
            "width": null
          }
        },
        "6f5a0dab72f2440b919231053e9e19dd": {
          "model_module": "@jupyter-widgets/controls",
          "model_name": "DescriptionStyleModel",
          "model_module_version": "1.5.0",
          "state": {
            "_model_module": "@jupyter-widgets/controls",
            "_model_module_version": "1.5.0",
            "_model_name": "DescriptionStyleModel",
            "_view_count": null,
            "_view_module": "@jupyter-widgets/base",
            "_view_module_version": "1.2.0",
            "_view_name": "StyleView",
            "description_width": ""
          }
        },
        "e9d5a3096a2c4529b271ef027ea26c6f": {
          "model_module": "@jupyter-widgets/base",
          "model_name": "LayoutModel",
          "model_module_version": "1.2.0",
          "state": {
            "_model_module": "@jupyter-widgets/base",
            "_model_module_version": "1.2.0",
            "_model_name": "LayoutModel",
            "_view_count": null,
            "_view_module": "@jupyter-widgets/base",
            "_view_module_version": "1.2.0",
            "_view_name": "LayoutView",
            "align_content": null,
            "align_items": null,
            "align_self": null,
            "border": null,
            "bottom": null,
            "display": null,
            "flex": null,
            "flex_flow": null,
            "grid_area": null,
            "grid_auto_columns": null,
            "grid_auto_flow": null,
            "grid_auto_rows": null,
            "grid_column": null,
            "grid_gap": null,
            "grid_row": null,
            "grid_template_areas": null,
            "grid_template_columns": null,
            "grid_template_rows": null,
            "height": null,
            "justify_content": null,
            "justify_items": null,
            "left": null,
            "margin": null,
            "max_height": null,
            "max_width": null,
            "min_height": null,
            "min_width": null,
            "object_fit": null,
            "object_position": null,
            "order": null,
            "overflow": null,
            "overflow_x": null,
            "overflow_y": null,
            "padding": null,
            "right": null,
            "top": null,
            "visibility": null,
            "width": null
          }
        },
        "2f39cd86ed64428a95308645903d33e5": {
          "model_module": "@jupyter-widgets/controls",
          "model_name": "ProgressStyleModel",
          "model_module_version": "1.5.0",
          "state": {
            "_model_module": "@jupyter-widgets/controls",
            "_model_module_version": "1.5.0",
            "_model_name": "ProgressStyleModel",
            "_view_count": null,
            "_view_module": "@jupyter-widgets/base",
            "_view_module_version": "1.2.0",
            "_view_name": "StyleView",
            "bar_color": null,
            "description_width": ""
          }
        },
        "32b472fc510642108ec74aee89ffcecc": {
          "model_module": "@jupyter-widgets/base",
          "model_name": "LayoutModel",
          "model_module_version": "1.2.0",
          "state": {
            "_model_module": "@jupyter-widgets/base",
            "_model_module_version": "1.2.0",
            "_model_name": "LayoutModel",
            "_view_count": null,
            "_view_module": "@jupyter-widgets/base",
            "_view_module_version": "1.2.0",
            "_view_name": "LayoutView",
            "align_content": null,
            "align_items": null,
            "align_self": null,
            "border": null,
            "bottom": null,
            "display": null,
            "flex": null,
            "flex_flow": null,
            "grid_area": null,
            "grid_auto_columns": null,
            "grid_auto_flow": null,
            "grid_auto_rows": null,
            "grid_column": null,
            "grid_gap": null,
            "grid_row": null,
            "grid_template_areas": null,
            "grid_template_columns": null,
            "grid_template_rows": null,
            "height": null,
            "justify_content": null,
            "justify_items": null,
            "left": null,
            "margin": null,
            "max_height": null,
            "max_width": null,
            "min_height": null,
            "min_width": null,
            "object_fit": null,
            "object_position": null,
            "order": null,
            "overflow": null,
            "overflow_x": null,
            "overflow_y": null,
            "padding": null,
            "right": null,
            "top": null,
            "visibility": null,
            "width": null
          }
        },
        "d88346ff84dc45738d1862e48e3b3430": {
          "model_module": "@jupyter-widgets/controls",
          "model_name": "DescriptionStyleModel",
          "model_module_version": "1.5.0",
          "state": {
            "_model_module": "@jupyter-widgets/controls",
            "_model_module_version": "1.5.0",
            "_model_name": "DescriptionStyleModel",
            "_view_count": null,
            "_view_module": "@jupyter-widgets/base",
            "_view_module_version": "1.2.0",
            "_view_name": "StyleView",
            "description_width": ""
          }
        },
        "0790e53f2dc04b0c98415423d563830e": {
          "model_module": "@jupyter-widgets/controls",
          "model_name": "HBoxModel",
          "model_module_version": "1.5.0",
          "state": {
            "_dom_classes": [],
            "_model_module": "@jupyter-widgets/controls",
            "_model_module_version": "1.5.0",
            "_model_name": "HBoxModel",
            "_view_count": null,
            "_view_module": "@jupyter-widgets/controls",
            "_view_module_version": "1.5.0",
            "_view_name": "HBoxView",
            "box_style": "",
            "children": [
              "IPY_MODEL_485492bce68b441b9d4a81535f7fbeb1",
              "IPY_MODEL_6cf5ac9e61cb4bf6a6ef726ea465b37b",
              "IPY_MODEL_3cbbd27006a44de4ab557575205768bc"
            ],
            "layout": "IPY_MODEL_e1dacc12a6e14d8cb319a97bca27cd81"
          }
        },
        "485492bce68b441b9d4a81535f7fbeb1": {
          "model_module": "@jupyter-widgets/controls",
          "model_name": "HTMLModel",
          "model_module_version": "1.5.0",
          "state": {
            "_dom_classes": [],
            "_model_module": "@jupyter-widgets/controls",
            "_model_module_version": "1.5.0",
            "_model_name": "HTMLModel",
            "_view_count": null,
            "_view_module": "@jupyter-widgets/controls",
            "_view_module_version": "1.5.0",
            "_view_name": "HTMLView",
            "description": "",
            "description_tooltip": null,
            "layout": "IPY_MODEL_e34b10d878ad4c128c29c0424b8022eb",
            "placeholder": "​",
            "style": "IPY_MODEL_62a8127a366543229c51469db955fb58",
            "value": "Downloading: 100%"
          }
        },
        "6cf5ac9e61cb4bf6a6ef726ea465b37b": {
          "model_module": "@jupyter-widgets/controls",
          "model_name": "FloatProgressModel",
          "model_module_version": "1.5.0",
          "state": {
            "_dom_classes": [],
            "_model_module": "@jupyter-widgets/controls",
            "_model_module_version": "1.5.0",
            "_model_name": "FloatProgressModel",
            "_view_count": null,
            "_view_module": "@jupyter-widgets/controls",
            "_view_module_version": "1.5.0",
            "_view_name": "ProgressView",
            "bar_style": "success",
            "description": "",
            "description_tooltip": null,
            "layout": "IPY_MODEL_f58fc451d77442a19036472f77bf959e",
            "max": 456318,
            "min": 0,
            "orientation": "horizontal",
            "style": "IPY_MODEL_ab62a2dafcde482596c2b58fc3f75129",
            "value": 456318
          }
        },
        "3cbbd27006a44de4ab557575205768bc": {
          "model_module": "@jupyter-widgets/controls",
          "model_name": "HTMLModel",
          "model_module_version": "1.5.0",
          "state": {
            "_dom_classes": [],
            "_model_module": "@jupyter-widgets/controls",
            "_model_module_version": "1.5.0",
            "_model_name": "HTMLModel",
            "_view_count": null,
            "_view_module": "@jupyter-widgets/controls",
            "_view_module_version": "1.5.0",
            "_view_name": "HTMLView",
            "description": "",
            "description_tooltip": null,
            "layout": "IPY_MODEL_f01ef22cdc6145f98bf2bba03a564ce8",
            "placeholder": "​",
            "style": "IPY_MODEL_c803a9764184427bbd910de12455c5dc",
            "value": " 446k/446k [00:00&lt;00:00, 549kB/s]"
          }
        },
        "e1dacc12a6e14d8cb319a97bca27cd81": {
          "model_module": "@jupyter-widgets/base",
          "model_name": "LayoutModel",
          "model_module_version": "1.2.0",
          "state": {
            "_model_module": "@jupyter-widgets/base",
            "_model_module_version": "1.2.0",
            "_model_name": "LayoutModel",
            "_view_count": null,
            "_view_module": "@jupyter-widgets/base",
            "_view_module_version": "1.2.0",
            "_view_name": "LayoutView",
            "align_content": null,
            "align_items": null,
            "align_self": null,
            "border": null,
            "bottom": null,
            "display": null,
            "flex": null,
            "flex_flow": null,
            "grid_area": null,
            "grid_auto_columns": null,
            "grid_auto_flow": null,
            "grid_auto_rows": null,
            "grid_column": null,
            "grid_gap": null,
            "grid_row": null,
            "grid_template_areas": null,
            "grid_template_columns": null,
            "grid_template_rows": null,
            "height": null,
            "justify_content": null,
            "justify_items": null,
            "left": null,
            "margin": null,
            "max_height": null,
            "max_width": null,
            "min_height": null,
            "min_width": null,
            "object_fit": null,
            "object_position": null,
            "order": null,
            "overflow": null,
            "overflow_x": null,
            "overflow_y": null,
            "padding": null,
            "right": null,
            "top": null,
            "visibility": null,
            "width": null
          }
        },
        "e34b10d878ad4c128c29c0424b8022eb": {
          "model_module": "@jupyter-widgets/base",
          "model_name": "LayoutModel",
          "model_module_version": "1.2.0",
          "state": {
            "_model_module": "@jupyter-widgets/base",
            "_model_module_version": "1.2.0",
            "_model_name": "LayoutModel",
            "_view_count": null,
            "_view_module": "@jupyter-widgets/base",
            "_view_module_version": "1.2.0",
            "_view_name": "LayoutView",
            "align_content": null,
            "align_items": null,
            "align_self": null,
            "border": null,
            "bottom": null,
            "display": null,
            "flex": null,
            "flex_flow": null,
            "grid_area": null,
            "grid_auto_columns": null,
            "grid_auto_flow": null,
            "grid_auto_rows": null,
            "grid_column": null,
            "grid_gap": null,
            "grid_row": null,
            "grid_template_areas": null,
            "grid_template_columns": null,
            "grid_template_rows": null,
            "height": null,
            "justify_content": null,
            "justify_items": null,
            "left": null,
            "margin": null,
            "max_height": null,
            "max_width": null,
            "min_height": null,
            "min_width": null,
            "object_fit": null,
            "object_position": null,
            "order": null,
            "overflow": null,
            "overflow_x": null,
            "overflow_y": null,
            "padding": null,
            "right": null,
            "top": null,
            "visibility": null,
            "width": null
          }
        },
        "62a8127a366543229c51469db955fb58": {
          "model_module": "@jupyter-widgets/controls",
          "model_name": "DescriptionStyleModel",
          "model_module_version": "1.5.0",
          "state": {
            "_model_module": "@jupyter-widgets/controls",
            "_model_module_version": "1.5.0",
            "_model_name": "DescriptionStyleModel",
            "_view_count": null,
            "_view_module": "@jupyter-widgets/base",
            "_view_module_version": "1.2.0",
            "_view_name": "StyleView",
            "description_width": ""
          }
        },
        "f58fc451d77442a19036472f77bf959e": {
          "model_module": "@jupyter-widgets/base",
          "model_name": "LayoutModel",
          "model_module_version": "1.2.0",
          "state": {
            "_model_module": "@jupyter-widgets/base",
            "_model_module_version": "1.2.0",
            "_model_name": "LayoutModel",
            "_view_count": null,
            "_view_module": "@jupyter-widgets/base",
            "_view_module_version": "1.2.0",
            "_view_name": "LayoutView",
            "align_content": null,
            "align_items": null,
            "align_self": null,
            "border": null,
            "bottom": null,
            "display": null,
            "flex": null,
            "flex_flow": null,
            "grid_area": null,
            "grid_auto_columns": null,
            "grid_auto_flow": null,
            "grid_auto_rows": null,
            "grid_column": null,
            "grid_gap": null,
            "grid_row": null,
            "grid_template_areas": null,
            "grid_template_columns": null,
            "grid_template_rows": null,
            "height": null,
            "justify_content": null,
            "justify_items": null,
            "left": null,
            "margin": null,
            "max_height": null,
            "max_width": null,
            "min_height": null,
            "min_width": null,
            "object_fit": null,
            "object_position": null,
            "order": null,
            "overflow": null,
            "overflow_x": null,
            "overflow_y": null,
            "padding": null,
            "right": null,
            "top": null,
            "visibility": null,
            "width": null
          }
        },
        "ab62a2dafcde482596c2b58fc3f75129": {
          "model_module": "@jupyter-widgets/controls",
          "model_name": "ProgressStyleModel",
          "model_module_version": "1.5.0",
          "state": {
            "_model_module": "@jupyter-widgets/controls",
            "_model_module_version": "1.5.0",
            "_model_name": "ProgressStyleModel",
            "_view_count": null,
            "_view_module": "@jupyter-widgets/base",
            "_view_module_version": "1.2.0",
            "_view_name": "StyleView",
            "bar_color": null,
            "description_width": ""
          }
        },
        "f01ef22cdc6145f98bf2bba03a564ce8": {
          "model_module": "@jupyter-widgets/base",
          "model_name": "LayoutModel",
          "model_module_version": "1.2.0",
          "state": {
            "_model_module": "@jupyter-widgets/base",
            "_model_module_version": "1.2.0",
            "_model_name": "LayoutModel",
            "_view_count": null,
            "_view_module": "@jupyter-widgets/base",
            "_view_module_version": "1.2.0",
            "_view_name": "LayoutView",
            "align_content": null,
            "align_items": null,
            "align_self": null,
            "border": null,
            "bottom": null,
            "display": null,
            "flex": null,
            "flex_flow": null,
            "grid_area": null,
            "grid_auto_columns": null,
            "grid_auto_flow": null,
            "grid_auto_rows": null,
            "grid_column": null,
            "grid_gap": null,
            "grid_row": null,
            "grid_template_areas": null,
            "grid_template_columns": null,
            "grid_template_rows": null,
            "height": null,
            "justify_content": null,
            "justify_items": null,
            "left": null,
            "margin": null,
            "max_height": null,
            "max_width": null,
            "min_height": null,
            "min_width": null,
            "object_fit": null,
            "object_position": null,
            "order": null,
            "overflow": null,
            "overflow_x": null,
            "overflow_y": null,
            "padding": null,
            "right": null,
            "top": null,
            "visibility": null,
            "width": null
          }
        },
        "c803a9764184427bbd910de12455c5dc": {
          "model_module": "@jupyter-widgets/controls",
          "model_name": "DescriptionStyleModel",
          "model_module_version": "1.5.0",
          "state": {
            "_model_module": "@jupyter-widgets/controls",
            "_model_module_version": "1.5.0",
            "_model_name": "DescriptionStyleModel",
            "_view_count": null,
            "_view_module": "@jupyter-widgets/base",
            "_view_module_version": "1.2.0",
            "_view_name": "StyleView",
            "description_width": ""
          }
        },
        "535f605a8bb140d7aa5063a216ee21b3": {
          "model_module": "@jupyter-widgets/controls",
          "model_name": "HBoxModel",
          "model_module_version": "1.5.0",
          "state": {
            "_dom_classes": [],
            "_model_module": "@jupyter-widgets/controls",
            "_model_module_version": "1.5.0",
            "_model_name": "HBoxModel",
            "_view_count": null,
            "_view_module": "@jupyter-widgets/controls",
            "_view_module_version": "1.5.0",
            "_view_name": "HBoxView",
            "box_style": "",
            "children": [
              "IPY_MODEL_67ef07c05cc440a38b52f78a68466e36",
              "IPY_MODEL_bac125df33e84d8496d23318b4398073",
              "IPY_MODEL_ee35a3ace2c84acf92666c594653081d"
            ],
            "layout": "IPY_MODEL_c6f3bd47d25640f2a2297cff21da6441"
          }
        },
        "67ef07c05cc440a38b52f78a68466e36": {
          "model_module": "@jupyter-widgets/controls",
          "model_name": "HTMLModel",
          "model_module_version": "1.5.0",
          "state": {
            "_dom_classes": [],
            "_model_module": "@jupyter-widgets/controls",
            "_model_module_version": "1.5.0",
            "_model_name": "HTMLModel",
            "_view_count": null,
            "_view_module": "@jupyter-widgets/controls",
            "_view_module_version": "1.5.0",
            "_view_name": "HTMLView",
            "description": "",
            "description_tooltip": null,
            "layout": "IPY_MODEL_e21b11eedfd74179ab25baf1e7cea389",
            "placeholder": "​",
            "style": "IPY_MODEL_1e5912062c8b4aec8d8fde21670c9650",
            "value": "Downloading: 100%"
          }
        },
        "bac125df33e84d8496d23318b4398073": {
          "model_module": "@jupyter-widgets/controls",
          "model_name": "FloatProgressModel",
          "model_module_version": "1.5.0",
          "state": {
            "_dom_classes": [],
            "_model_module": "@jupyter-widgets/controls",
            "_model_module_version": "1.5.0",
            "_model_name": "FloatProgressModel",
            "_view_count": null,
            "_view_module": "@jupyter-widgets/controls",
            "_view_module_version": "1.5.0",
            "_view_name": "ProgressView",
            "bar_style": "success",
            "description": "",
            "description_tooltip": null,
            "layout": "IPY_MODEL_e53985b605a54d06ba1922a0cb467a00",
            "max": 150,
            "min": 0,
            "orientation": "horizontal",
            "style": "IPY_MODEL_08d289829dd949ccae451deb6e8a40c7",
            "value": 150
          }
        },
        "ee35a3ace2c84acf92666c594653081d": {
          "model_module": "@jupyter-widgets/controls",
          "model_name": "HTMLModel",
          "model_module_version": "1.5.0",
          "state": {
            "_dom_classes": [],
            "_model_module": "@jupyter-widgets/controls",
            "_model_module_version": "1.5.0",
            "_model_name": "HTMLModel",
            "_view_count": null,
            "_view_module": "@jupyter-widgets/controls",
            "_view_module_version": "1.5.0",
            "_view_name": "HTMLView",
            "description": "",
            "description_tooltip": null,
            "layout": "IPY_MODEL_b540ac3cb9074b4fbe1b3dafec1896c3",
            "placeholder": "​",
            "style": "IPY_MODEL_eeb9994bf49747bbbf75ac4550b34fd4",
            "value": " 150/150 [00:00&lt;00:00, 3.06kB/s]"
          }
        },
        "c6f3bd47d25640f2a2297cff21da6441": {
          "model_module": "@jupyter-widgets/base",
          "model_name": "LayoutModel",
          "model_module_version": "1.2.0",
          "state": {
            "_model_module": "@jupyter-widgets/base",
            "_model_module_version": "1.2.0",
            "_model_name": "LayoutModel",
            "_view_count": null,
            "_view_module": "@jupyter-widgets/base",
            "_view_module_version": "1.2.0",
            "_view_name": "LayoutView",
            "align_content": null,
            "align_items": null,
            "align_self": null,
            "border": null,
            "bottom": null,
            "display": null,
            "flex": null,
            "flex_flow": null,
            "grid_area": null,
            "grid_auto_columns": null,
            "grid_auto_flow": null,
            "grid_auto_rows": null,
            "grid_column": null,
            "grid_gap": null,
            "grid_row": null,
            "grid_template_areas": null,
            "grid_template_columns": null,
            "grid_template_rows": null,
            "height": null,
            "justify_content": null,
            "justify_items": null,
            "left": null,
            "margin": null,
            "max_height": null,
            "max_width": null,
            "min_height": null,
            "min_width": null,
            "object_fit": null,
            "object_position": null,
            "order": null,
            "overflow": null,
            "overflow_x": null,
            "overflow_y": null,
            "padding": null,
            "right": null,
            "top": null,
            "visibility": null,
            "width": null
          }
        },
        "e21b11eedfd74179ab25baf1e7cea389": {
          "model_module": "@jupyter-widgets/base",
          "model_name": "LayoutModel",
          "model_module_version": "1.2.0",
          "state": {
            "_model_module": "@jupyter-widgets/base",
            "_model_module_version": "1.2.0",
            "_model_name": "LayoutModel",
            "_view_count": null,
            "_view_module": "@jupyter-widgets/base",
            "_view_module_version": "1.2.0",
            "_view_name": "LayoutView",
            "align_content": null,
            "align_items": null,
            "align_self": null,
            "border": null,
            "bottom": null,
            "display": null,
            "flex": null,
            "flex_flow": null,
            "grid_area": null,
            "grid_auto_columns": null,
            "grid_auto_flow": null,
            "grid_auto_rows": null,
            "grid_column": null,
            "grid_gap": null,
            "grid_row": null,
            "grid_template_areas": null,
            "grid_template_columns": null,
            "grid_template_rows": null,
            "height": null,
            "justify_content": null,
            "justify_items": null,
            "left": null,
            "margin": null,
            "max_height": null,
            "max_width": null,
            "min_height": null,
            "min_width": null,
            "object_fit": null,
            "object_position": null,
            "order": null,
            "overflow": null,
            "overflow_x": null,
            "overflow_y": null,
            "padding": null,
            "right": null,
            "top": null,
            "visibility": null,
            "width": null
          }
        },
        "1e5912062c8b4aec8d8fde21670c9650": {
          "model_module": "@jupyter-widgets/controls",
          "model_name": "DescriptionStyleModel",
          "model_module_version": "1.5.0",
          "state": {
            "_model_module": "@jupyter-widgets/controls",
            "_model_module_version": "1.5.0",
            "_model_name": "DescriptionStyleModel",
            "_view_count": null,
            "_view_module": "@jupyter-widgets/base",
            "_view_module_version": "1.2.0",
            "_view_name": "StyleView",
            "description_width": ""
          }
        },
        "e53985b605a54d06ba1922a0cb467a00": {
          "model_module": "@jupyter-widgets/base",
          "model_name": "LayoutModel",
          "model_module_version": "1.2.0",
          "state": {
            "_model_module": "@jupyter-widgets/base",
            "_model_module_version": "1.2.0",
            "_model_name": "LayoutModel",
            "_view_count": null,
            "_view_module": "@jupyter-widgets/base",
            "_view_module_version": "1.2.0",
            "_view_name": "LayoutView",
            "align_content": null,
            "align_items": null,
            "align_self": null,
            "border": null,
            "bottom": null,
            "display": null,
            "flex": null,
            "flex_flow": null,
            "grid_area": null,
            "grid_auto_columns": null,
            "grid_auto_flow": null,
            "grid_auto_rows": null,
            "grid_column": null,
            "grid_gap": null,
            "grid_row": null,
            "grid_template_areas": null,
            "grid_template_columns": null,
            "grid_template_rows": null,
            "height": null,
            "justify_content": null,
            "justify_items": null,
            "left": null,
            "margin": null,
            "max_height": null,
            "max_width": null,
            "min_height": null,
            "min_width": null,
            "object_fit": null,
            "object_position": null,
            "order": null,
            "overflow": null,
            "overflow_x": null,
            "overflow_y": null,
            "padding": null,
            "right": null,
            "top": null,
            "visibility": null,
            "width": null
          }
        },
        "08d289829dd949ccae451deb6e8a40c7": {
          "model_module": "@jupyter-widgets/controls",
          "model_name": "ProgressStyleModel",
          "model_module_version": "1.5.0",
          "state": {
            "_model_module": "@jupyter-widgets/controls",
            "_model_module_version": "1.5.0",
            "_model_name": "ProgressStyleModel",
            "_view_count": null,
            "_view_module": "@jupyter-widgets/base",
            "_view_module_version": "1.2.0",
            "_view_name": "StyleView",
            "bar_color": null,
            "description_width": ""
          }
        },
        "b540ac3cb9074b4fbe1b3dafec1896c3": {
          "model_module": "@jupyter-widgets/base",
          "model_name": "LayoutModel",
          "model_module_version": "1.2.0",
          "state": {
            "_model_module": "@jupyter-widgets/base",
            "_model_module_version": "1.2.0",
            "_model_name": "LayoutModel",
            "_view_count": null,
            "_view_module": "@jupyter-widgets/base",
            "_view_module_version": "1.2.0",
            "_view_name": "LayoutView",
            "align_content": null,
            "align_items": null,
            "align_self": null,
            "border": null,
            "bottom": null,
            "display": null,
            "flex": null,
            "flex_flow": null,
            "grid_area": null,
            "grid_auto_columns": null,
            "grid_auto_flow": null,
            "grid_auto_rows": null,
            "grid_column": null,
            "grid_gap": null,
            "grid_row": null,
            "grid_template_areas": null,
            "grid_template_columns": null,
            "grid_template_rows": null,
            "height": null,
            "justify_content": null,
            "justify_items": null,
            "left": null,
            "margin": null,
            "max_height": null,
            "max_width": null,
            "min_height": null,
            "min_width": null,
            "object_fit": null,
            "object_position": null,
            "order": null,
            "overflow": null,
            "overflow_x": null,
            "overflow_y": null,
            "padding": null,
            "right": null,
            "top": null,
            "visibility": null,
            "width": null
          }
        },
        "eeb9994bf49747bbbf75ac4550b34fd4": {
          "model_module": "@jupyter-widgets/controls",
          "model_name": "DescriptionStyleModel",
          "model_module_version": "1.5.0",
          "state": {
            "_model_module": "@jupyter-widgets/controls",
            "_model_module_version": "1.5.0",
            "_model_name": "DescriptionStyleModel",
            "_view_count": null,
            "_view_module": "@jupyter-widgets/base",
            "_view_module_version": "1.2.0",
            "_view_name": "StyleView",
            "description_width": ""
          }
        }
      }
    }
  },
  "cells": [
    {
      "cell_type": "markdown",
      "metadata": {
        "id": "view-in-github",
        "colab_type": "text"
      },
      "source": [
        "<a href=\"https://colab.research.google.com/github/vanderbilt-data-science/p4ai-essentials/blob/main/2_functions_and_apis.ipynb\" target=\"_parent\"><img src=\"https://colab.research.google.com/assets/colab-badge.svg\" alt=\"Open In Colab\"/></a>"
      ]
    },
    {
      "cell_type": "markdown",
      "source": [
        "# Functions and APIs\n",
        "> Expanding things Python \"Already Knows\"\n",
        "\n",
        "In the last lesson, we learned about Google Colab, Python, and built-in data types and data structures. We talked about how there are some tasks/instructions/data that Python already knows how to do, and then others which we need to tell Python about. Today, we'll learn the syntax and grammar of how to communicate higher-order tasks to Python.\n",
        "\n",
        "## Lesson Objectives\n",
        "At the end of today's lesson, you should be able to:\n",
        "* Describe the purpose of a function\n",
        "* Describe the different input/output relationships of functions\n",
        "* Write a function\n",
        "* Describe what it means to install packages/modules/libraries\n",
        "* Describe what it means to import packages/modules/libraries\n",
        "* Use an API to accomplish a task\n",
        "\n",
        "Let's get started!"
      ],
      "metadata": {
        "id": "mMBdFRMzYuea"
      }
    },
    {
      "cell_type": "markdown",
      "source": [
        "# What are functions?\n",
        "\n",
        "A function is essentially a programming apparatus which:\n",
        "* Optionally receives some data as inputs\n",
        "* Performs some operation\n",
        "* Optionally returns some values\n",
        "\n",
        "What? \n",
        "\n",
        "One can conceptualize a function to objects we use in everyday life. Let's explore an example of an oven.\n",
        "\n",
        "<center>\n",
        "<img src=\"https://live.staticflickr.com/65535/49670670063_9ca1e9ac31_b.jpg\" width=\"600\">\n",
        "</center>\n",
        "\n",
        "Describe how you use an oven."
      ],
      "metadata": {
        "id": "42ZeCQ35Zzy5"
      }
    },
    {
      "cell_type": "code",
      "source": [
        "#@title Writing an Oven Function\n",
        "#@markdown Let's begin to codify how one might write an oven function.\n",
        "\n",
        "#@markdown **Description.** What will the oven function do (in plain words)?\n",
        "oven_description = \"\" #@param {type:\"string\"}\n",
        "\n",
        "#@markdown **Function Name.** What would you like to call this oven function? It should be descriptive but concise.\n",
        "function_name = \"\" #@param {type:\"string\"}\n",
        "\n",
        "#@markdown **Parameters.** What things affect how the oven cooks the food?\n",
        "oven_input_parameters = \"\" #@param {type:\"string\"}\n",
        "\n",
        "#@markdown **Main object.** What food will be passed in?\n",
        "oven_main_object = \"\" #@param {type:\"string\"}\n",
        "\n",
        "#@markdown **Outputs.** What will be returned from the oven after cooking?\n",
        "oven_outputs = \"\" #@param {type:\"string\"}\n",
        "\n",
        "#@markdown **Oven Behavior.** What does the oven itself need to do to cook the food? You can write something short,\n",
        "#@markdown and broad, given that writing how an oven works sounds terrible.\n",
        "oven_behavior = \"\" #@param {type:\"string\"}\n",
        "\n"
      ],
      "metadata": {
        "id": "G8n9U0cpbrfT",
        "cellView": "form"
      },
      "execution_count": null,
      "outputs": []
    },
    {
      "cell_type": "markdown",
      "source": [
        "If you've filled out the previous form, you've got all the components necessary to actually write an oven function. Now, you just need the syntax and grammar of how to communicate it to Python. The syntax for a function looks like this, using your defined parameters above:\n",
        "\n",
        "```\n",
        "# def, paretheses, commas, and colon are syntax elements to communicate a function\n",
        "def function_name(oven_main_object, oven_input_parameters):\n",
        "  '''\n",
        "  oven_description\n",
        "  '''\n",
        "  \n",
        "  #lines of code operating on the oven_main_object and using the oven_input_parameters, note indentation\n",
        "  oven_behavior\n",
        "\n",
        "  #'return' keyword communicates the object(s) to be returned\n",
        "  return oven_outputs\n",
        "```\n",
        "\n",
        "Let's try this with code...."
      ],
      "metadata": {
        "id": "6SbRaSdseooj"
      }
    },
    {
      "cell_type": "code",
      "source": [
        "# A function to cook in oven\n"
      ],
      "metadata": {
        "id": "CtovnLxdfp6A"
      },
      "execution_count": null,
      "outputs": []
    },
    {
      "cell_type": "code",
      "source": [
        "#@markdown Run the cell above. What happened? What did you expect to happen?\n",
        "\n",
        "#@markdown Click `Show Code` below for an explanation.\n",
        "\n",
        "#Answer\n",
        "#Nothing appeared to happen, but the code was merely stored in the kernel to be used later.\n",
        "#When you buy an oven, is the food automatically cooked? No, you have to intentionally apply the\n",
        "#oven to something."
      ],
      "metadata": {
        "cellView": "form",
        "id": "NGExBd4fuXv1"
      },
      "execution_count": null,
      "outputs": []
    },
    {
      "cell_type": "markdown",
      "source": [
        "## Calling the oven function\n",
        "Let's actually use the oven. Let's see how we can do this."
      ],
      "metadata": {
        "id": "plfrDnIFxuXF"
      }
    },
    {
      "cell_type": "code",
      "source": [
        "#set parameters and inputs for cooking\n",
        "\n",
        "\n",
        "#call function and get returned result\n"
      ],
      "metadata": {
        "id": "QWgOi8sIx56x"
      },
      "execution_count": null,
      "outputs": []
    },
    {
      "cell_type": "markdown",
      "source": [
        "## Setting default parameters and keywords\n",
        "It can sometimes be pretty annoying to specify long lists of configuration/parameter settings in the input. Thinking of digital ovens, they often come with default settings when you turn them on, e.g.:\n",
        "* The default temperature is 350\n",
        "* The default time is 20 minutes\n",
        "* The default rack is the 3rd rack.\n",
        "\n",
        "Can we mirror this behavior into a function?"
      ],
      "metadata": {
        "id": "jkiF_FxJz447"
      }
    },
    {
      "cell_type": "code",
      "source": [
        "# We can change the following code to have default value for parameters\n"
      ],
      "metadata": {
        "id": "FSVhS74bz4fg"
      },
      "execution_count": null,
      "outputs": []
    },
    {
      "cell_type": "code",
      "source": [
        "# Try our new function"
      ],
      "metadata": {
        "id": "kp7tdViI0X4C"
      },
      "execution_count": null,
      "outputs": []
    },
    {
      "cell_type": "markdown",
      "source": [
        "Fantastic. We learned that a function:\n",
        "* does something\n",
        "* can have inputs\n",
        "* can have outputs\n",
        "* should be defined in memory\n",
        "* must be called on something to operate\n",
        "\n",
        "Let's try a real example."
      ],
      "metadata": {
        "id": "x9v9jqGdyhXj"
      }
    },
    {
      "cell_type": "markdown",
      "source": [
        "## Practical Examples"
      ],
      "metadata": {
        "id": "b2KFnmXPXcBg"
      }
    },
    {
      "cell_type": "code",
      "source": [
        "#@title Guided Example\n",
        "\n",
        "#@markdown In this example, we'll leverage some more built-in string functionality\n",
        "#@markdown from Python. You can learn more about string methods from [The Python String API](https://docs.python.org/3/library/stdtypes.html#text-sequence-type-str).\n",
        "\n",
        "#@markdown You currently have a list of class labels. However, all of the class labels are uppercase,\n",
        "#@markdown and you prefer them to be lowercase.\n",
        "\n",
        "#@markdown 1. Write a function called `class_names_lower` that does this. The input should be a single\n",
        "#@markdown string, and the output should be the same string, but lowercased.\n",
        "#@markdown 2. Demonstrate that the function works as expected. This essentially means that you should\n",
        "#@markdown call your function on some input value."
      ],
      "metadata": {
        "cellView": "form",
        "id": "4_215NO1Z7rs"
      },
      "execution_count": null,
      "outputs": []
    },
    {
      "cell_type": "code",
      "source": [
        "# Exercise 1 Answer\n"
      ],
      "metadata": {
        "id": "tiXDvSU3c1bQ"
      },
      "execution_count": null,
      "outputs": []
    },
    {
      "cell_type": "code",
      "source": [
        "# Demo for Answer 2\n"
      ],
      "metadata": {
        "id": "RhAs9E16dEkC"
      },
      "execution_count": null,
      "outputs": []
    },
    {
      "cell_type": "code",
      "source": [
        "#@title In-class Exercise - Try it yourself!\n",
        "#@markdown You currently have a list of class ids, loaded from a file. Don't worry about the\n",
        "#@markdown logistics of this statement, it's just setting the stage. However, the values aren't 0-indexed and you want them to be. The starting index given is 1, and you realize that you need to subtract 1 from each of the input values.\n",
        "\n",
        "#@markdown 1. Write a function called `adjust_label_values` that does this. The input should be a single integer,\n",
        "#@markdown and the output should be the integer minus 1.\n",
        "#@markdown 2. Demonstrate that the function works as expected. This essentially means\n",
        "#@markdown that you should call your function on some input value. If you get stuck\n",
        "#@markdown you can reveal some hints by clicking the `Show Code` button below.\n",
        "\n",
        "# Answer for #1\n",
        "def adjust_label_values(label_in):\n",
        "\n",
        "  #adjust value\n",
        "  label_in = label_in - 1\n",
        "\n",
        "  #return the value\n",
        "  return label_in\n",
        "\n",
        "# Demonstration for #2\n",
        "print(adjust_label_values(1))\n",
        "\n",
        "print(adjust_label_values(0))"
      ],
      "metadata": {
        "id": "BdtNT76wzBkr",
        "cellView": "form"
      },
      "execution_count": null,
      "outputs": []
    },
    {
      "cell_type": "code",
      "source": [
        "# Answer for #1\n"
      ],
      "metadata": {
        "id": "M_fxy4BcYHPA"
      },
      "execution_count": null,
      "outputs": []
    },
    {
      "cell_type": "code",
      "source": [
        "# Demonstration for #2\n"
      ],
      "metadata": {
        "id": "KC4bomhzYf_S"
      },
      "execution_count": null,
      "outputs": []
    },
    {
      "cell_type": "code",
      "source": [
        "#@title Catching Unwanted behavior\n",
        "#@markdown Sometimes, it will be the case that you want to make sure that certain\n",
        "#@markdown things don't happen in your code, or at least be notified that they have\n",
        "#@markdown occurred.\n",
        "\n",
        "#@markdown This can be achieved through:\n",
        "#@markdown 1. **warnings**: continue code execution, but notify the user\n",
        "#@markdown 2. **Exceptions**: halt code execution and notify the user\n",
        "\n",
        "#@markdown To see how this can be implemented for the code above click the `Show Code` button below.\n",
        "#@markdown Here, we'll be generating an error if the resultant ID would be less than 0.\n",
        "\n",
        "def adjust_label_values_werr(label_in):\n",
        "  label_in = label_in - 1\n",
        "\n",
        "  if label_in < 0:\n",
        "    raise ValueError('Label id ' + str(label_in) + ' generates a label less than 0')\n",
        "  \n",
        "  return label_in\n",
        "\n",
        "adjust_label_values_werr(0)"
      ],
      "metadata": {
        "cellView": "form",
        "id": "e5CbT6V0YiwA"
      },
      "execution_count": null,
      "outputs": []
    },
    {
      "cell_type": "markdown",
      "source": [
        "# API Structure"
      ],
      "metadata": {
        "id": "GALCY1t-dlYU"
      }
    },
    {
      "cell_type": "markdown",
      "source": [
        "## Functions, Methods, and Classes\n",
        "We just now wrote our own function, but Python is chocked full of lots of different built-in functions that you can already use! We just now used some:\n",
        "* `print()`\n",
        "* `lower()`\n",
        "\n",
        "And saw several others in Python's API for math operations and strings.\n",
        "\n",
        "Most strictly speaking, the code we just wrote was a function, but when we call \"operations\" relevant to the object they're working on, this is called a _method_. This distinction matters to the extent to which you can capitalize upon this knowledge.\n",
        "\n",
        "What? I know, that was a confusing statement, so lets take an example.\n",
        "\n",
        "<center>\n",
        "<figure>\n",
        "<img src=\"https://github.com/vanderbilt-data-science/p4ai-essentials/blob/main/img/oven_class.png?raw=true\" width=\"600\"/>\n",
        "<figcaption>Not all methods should apply to all objects. Sometimes, it helps for the specification of a particular object to come grouped with its attributes as well.</figcaption>\n",
        "</figure>\n",
        "</center>\n"
      ],
      "metadata": {
        "id": "TCtSVP_yxWmW"
      }
    },
    {
      "cell_type": "markdown",
      "source": [
        "\n",
        "## Packages and Libraries\n",
        "This leads to the practical structuring of tons of functions and classes. These tend to take shape through **packages**, **libraries**, **modules**, and **classes**.\n",
        "\n",
        "<center>\n",
        "<table>\n",
        "  <tr>\n",
        "    <th>Package  Hierarchy  Model</th>\n",
        "    <th>Kitchen Package Application</th>\n",
        "  </tr>\n",
        "  <tr>\n",
        "    <th><img style=\"vertical-align: bottom;\" src=\"https://github.com/vanderbilt-data-science/p4ai-essentials/blob/main/img/class_package_hierarchy.png?raw=true\" width=100% /></th>\n",
        "    <th><img style=\"vertical-align: bottom;\" src=\"https://github.com/vanderbilt-data-science/p4ai-essentials/blob/main/img/kitchen_package_hierarchy.png?raw=true\" width=100% /></th>\n",
        "  </tr>\n",
        "</table>\n",
        "</center>"
      ],
      "metadata": {
        "id": "TroHymrdxReH"
      }
    },
    {
      "cell_type": "markdown",
      "source": [
        "## APIs\n",
        "\n",
        "APIs define the way in which you can programmatically interact with a codebase, server, etc. It's essentially a contract outlining:\n",
        "* The available tasks that can be done by the framework and the names these operations are called by\n",
        "* The required and optional inputs to these operations\n",
        "* The required and optional outputs from these operations.\n",
        "\n",
        "APIs often come in the form of **libraries**, **packages**, and **modules**. Libraries are a great way of quickly infusing Python with LOTS more functionality.\n",
        "\n",
        "<center>\n",
        "<figure>\n",
        "<img src=\"https://cdn.mos.cms.futurecdn.net/GSkcxRqtHam58T5URwTN7c-1024-80.jpg.webp\" width=\"300\"/>\n",
        "<figcaption>Image from livescience.com</figcaption>\n",
        "</figure>\n",
        "</center>\n",
        "\n",
        "I always think of importing modules similarly to this scene in The Matrix. Information \"packages\" on how to fly a helicopter or kung fu are downloaded instantly into the user's \"kernel\". Then, we need to use the functions from these packages.\n",
        "\n",
        "Let's start with looking at [HuggingFace's API](https://huggingface.co)."
      ],
      "metadata": {
        "id": "H8Hkqoq5fEpi"
      }
    },
    {
      "cell_type": "markdown",
      "source": [
        "# Guided Exploration of HF API\n",
        "\n",
        "We can see that most of the time, we see code that looks sort of like functions. We see the \"contract\" components of the new functions that are available to us - the function name, the inputs required and available, and the outputs. Let's experiment with one!"
      ],
      "metadata": {
        "id": "JPi719RCZB9h"
      }
    },
    {
      "cell_type": "code",
      "source": [
        "#install packages\n"
      ],
      "metadata": {
        "id": "mWln3rT4Z_RG"
      },
      "execution_count": null,
      "outputs": []
    },
    {
      "cell_type": "code",
      "source": [
        "#make package available to python kernel\n"
      ],
      "metadata": {
        "id": "S_4DXki4Z39b"
      },
      "execution_count": null,
      "outputs": []
    },
    {
      "cell_type": "code",
      "source": [
        "# create a pipeline\n"
      ],
      "metadata": {
        "id": "VEa7dYDrZcN8"
      },
      "execution_count": null,
      "outputs": []
    },
    {
      "cell_type": "code",
      "source": [
        "#when in doubt, check the type\n"
      ],
      "metadata": {
        "id": "mQvkv2RzaTpv"
      },
      "execution_count": null,
      "outputs": []
    },
    {
      "cell_type": "code",
      "source": [
        "#Use the pipeline for inference\n"
      ],
      "metadata": {
        "id": "9YNeVlZGaUud"
      },
      "execution_count": null,
      "outputs": []
    },
    {
      "cell_type": "markdown",
      "source": [
        "## Guided Example 1\n",
        "What if we want to return all scores?"
      ],
      "metadata": {
        "id": "pUUBedAidIwO"
      }
    },
    {
      "cell_type": "code",
      "source": [
        "#Modify code to return all scores\n",
        "a_text_scores = mdl_pipe(a_text)\n",
        "a_text_scores"
      ],
      "metadata": {
        "id": "Ok2TGs4ebgSr"
      },
      "execution_count": null,
      "outputs": []
    },
    {
      "cell_type": "markdown",
      "source": [
        "## Guided Example 2\n",
        "What if we had a list of texts, loaded, for example, from file?"
      ],
      "metadata": {
        "id": "4h_4Pr6zdNzI"
      }
    },
    {
      "cell_type": "code",
      "source": [
        "#Using lists\n",
        "texts = ['The dog was happy and ran along playfully.',\n",
        "         'The cat glared at me, judging me from afar.',\n",
        "         'The groundhog peeked its head above the ground.',\n",
        "         'Opposums are criminally underrated.']\n"
      ],
      "metadata": {
        "id": "LaV_9sQ_cC5Q"
      },
      "execution_count": null,
      "outputs": []
    },
    {
      "cell_type": "markdown",
      "source": [
        "## Guided Example 3\n",
        "Maybe we don't like how this model is performing. Can we use a different model? How?\n",
        "\n",
        "Reference: [Huggingface Models](https://huggingface.co/models)"
      ],
      "metadata": {
        "id": "IfXOkWeWdXoV"
      }
    },
    {
      "cell_type": "code",
      "source": [
        "#modify code to use different model\n",
        "cardiff_pipe = pipeline('text-classification')\n"
      ],
      "metadata": {
        "colab": {
          "base_uri": "https://localhost:8080/",
          "height": 177,
          "referenced_widgets": [
            "45152752a4fe46fc9fa96bea11a3d67a",
            "fdc8f72509694e908f16d602214fe913",
            "f07b2f898e904b0eb812645e84be128b",
            "d239052fe143488884f20bf928f02b31",
            "1dcc3c5b6a92478b845c453752f5933b",
            "9daf7726bd924c409086953cf67e3c88",
            "95ee8a835a224e3eafbdb32eb6569b70",
            "e4a58ad961ef427c8007c5670b099588",
            "68c40687077f47be967e59019176022e",
            "811a613d00fd461b9c7eac159ca23d7a",
            "fb5dcb39992a4f118bc31c17d45b3703",
            "481486eb124443e6b7b517389f0cb84f",
            "762ee736a1774e43a5dff8dfea38303c",
            "09bec974d216487495f189067d2438d6",
            "530965774edf4c1f92aafe10339cc9e6",
            "7cee804af05449b7b620e2fbc98a88ba",
            "a8d51ef27f8648f6be20ff8d4e02c987",
            "ea9a9d05dac04c9481d7cf6b463d6efd",
            "04ae57a0e83f41beae691405cc093b2e",
            "aef59ce0c43f427db4df6bbe2f7077e4",
            "21c4ef6799654992ab0dbcf52c02dcb8",
            "e94306a409e6480c81f6df8d9c402c40",
            "57dbd670b6fb4b009c67f5b550d3f513",
            "69afb6842e0648018310a31b16a353fc",
            "8b7812c0b510432c89e1e0931f81f734",
            "e45085cf8fc847e9be8e1d3694fc73f0",
            "d0439888bab946b8a97525e3002f12ab",
            "649b98f6c7bb4174a8abd2ea97a0a1be",
            "6f5a0dab72f2440b919231053e9e19dd",
            "e9d5a3096a2c4529b271ef027ea26c6f",
            "2f39cd86ed64428a95308645903d33e5",
            "32b472fc510642108ec74aee89ffcecc",
            "d88346ff84dc45738d1862e48e3b3430",
            "0790e53f2dc04b0c98415423d563830e",
            "485492bce68b441b9d4a81535f7fbeb1",
            "6cf5ac9e61cb4bf6a6ef726ea465b37b",
            "3cbbd27006a44de4ab557575205768bc",
            "e1dacc12a6e14d8cb319a97bca27cd81",
            "e34b10d878ad4c128c29c0424b8022eb",
            "62a8127a366543229c51469db955fb58",
            "f58fc451d77442a19036472f77bf959e",
            "ab62a2dafcde482596c2b58fc3f75129",
            "f01ef22cdc6145f98bf2bba03a564ce8",
            "c803a9764184427bbd910de12455c5dc",
            "535f605a8bb140d7aa5063a216ee21b3",
            "67ef07c05cc440a38b52f78a68466e36",
            "bac125df33e84d8496d23318b4398073",
            "ee35a3ace2c84acf92666c594653081d",
            "c6f3bd47d25640f2a2297cff21da6441",
            "e21b11eedfd74179ab25baf1e7cea389",
            "1e5912062c8b4aec8d8fde21670c9650",
            "e53985b605a54d06ba1922a0cb467a00",
            "08d289829dd949ccae451deb6e8a40c7",
            "b540ac3cb9074b4fbe1b3dafec1896c3",
            "eeb9994bf49747bbbf75ac4550b34fd4"
          ]
        },
        "id": "wsRh3FXBchAu",
        "outputId": "b4e41295-8ef6-478e-eac0-78fdd1ac0c19"
      },
      "execution_count": null,
      "outputs": [
        {
          "output_type": "display_data",
          "data": {
            "text/plain": [
              "Downloading:   0%|          | 0.00/747 [00:00<?, ?B/s]"
            ],
            "application/vnd.jupyter.widget-view+json": {
              "version_major": 2,
              "version_minor": 0,
              "model_id": "45152752a4fe46fc9fa96bea11a3d67a"
            }
          },
          "metadata": {}
        },
        {
          "output_type": "display_data",
          "data": {
            "text/plain": [
              "Downloading:   0%|          | 0.00/476M [00:00<?, ?B/s]"
            ],
            "application/vnd.jupyter.widget-view+json": {
              "version_major": 2,
              "version_minor": 0,
              "model_id": "481486eb124443e6b7b517389f0cb84f"
            }
          },
          "metadata": {}
        },
        {
          "output_type": "display_data",
          "data": {
            "text/plain": [
              "Downloading:   0%|          | 0.00/878k [00:00<?, ?B/s]"
            ],
            "application/vnd.jupyter.widget-view+json": {
              "version_major": 2,
              "version_minor": 0,
              "model_id": "57dbd670b6fb4b009c67f5b550d3f513"
            }
          },
          "metadata": {}
        },
        {
          "output_type": "display_data",
          "data": {
            "text/plain": [
              "Downloading:   0%|          | 0.00/446k [00:00<?, ?B/s]"
            ],
            "application/vnd.jupyter.widget-view+json": {
              "version_major": 2,
              "version_minor": 0,
              "model_id": "0790e53f2dc04b0c98415423d563830e"
            }
          },
          "metadata": {}
        },
        {
          "output_type": "display_data",
          "data": {
            "text/plain": [
              "Downloading:   0%|          | 0.00/150 [00:00<?, ?B/s]"
            ],
            "application/vnd.jupyter.widget-view+json": {
              "version_major": 2,
              "version_minor": 0,
              "model_id": "535f605a8bb140d7aa5063a216ee21b3"
            }
          },
          "metadata": {}
        }
      ]
    },
    {
      "cell_type": "code",
      "source": [
        "#see results\n"
      ],
      "metadata": {
        "id": "bWIlDJKNeoDP"
      },
      "execution_count": null,
      "outputs": []
    },
    {
      "cell_type": "markdown",
      "source": [
        "# Practical Example: Try it Yourself!\n",
        "Now, you'll try this on your own or in small groups! Let's try a different pipeline and explore using the pipeline API to realize our goal."
      ],
      "metadata": {
        "id": "5SsaRk_Hexv1"
      }
    },
    {
      "cell_type": "code",
      "source": [
        "#@title Exercise: Text Generation\n",
        "#@markdown In this example, you'll create a text generation pipeline. Use the API to answer\n",
        "#@markdown the following questions:\n",
        "#@markdown 1. What is the expected behavior of the text generation pipeline in plain words?\n",
        "#@markdown 2. What types of main arguments (`args`) can you pass in?\n",
        "#@markdown 3. What do you expect to be returned by TextGenerationPipeline?\n",
        "#@markdown 4. Create a text generation pipeline\n",
        "#@markdown 5. Use a simple input (e.g., a string rather than a list of strings) to generate and view the output\n",
        "#@markdown 6. If you didn't want to return the full text, and only the added text, what parameter would you change? Change this parameter to the appropriate value and observe the results.\n",
        "#@markdown 7. Use a different model and explore the resultant performance of Question 5.\n",
        "\n",
        "#@markdown Use the `Show Code` button for hints if you get stuck!\n",
        "\n",
        "#1\n",
        "#The expected behavior is that based on the input text, more text will be generated to \"complete\" the given input text\n",
        "\n",
        "#2\n",
        "# You can pass in a single string or a list of strings. These strings are the prompts from which\n",
        "# the model will base its text generation.\n",
        "\n",
        "#3\n",
        "#The returned type will be a list or a list of list of dict\n",
        "\n",
        "#4\n",
        "tgen_pipe = pipeline('text-generation')\n",
        "\n",
        "#5\n",
        "textgen_input = 'The dog was on a leisurely stroll, walking through the neighborhood when'\n",
        "textgen_out = tgen_pipe(textgen_input)\n",
        "\n",
        "#6\n",
        "textgen_out_added = tgen_pipe(textgen_input, return_full_text = False)\n",
        "\n",
        "#7\n",
        "gpt2_pipe = pipeline('text-generation', model = 'distilgpt2')\n",
        "gpt2_out = gpt2_pipe(textgen_input)"
      ],
      "metadata": {
        "cellView": "form",
        "id": "dwCgzJPqfuyh"
      },
      "execution_count": null,
      "outputs": []
    },
    {
      "cell_type": "markdown",
      "source": [
        "Answers to #1 through #3 here:\n",
        "1. \n",
        "2. \n",
        "3. "
      ],
      "metadata": {
        "id": "jZ7m63y9jyM_"
      }
    },
    {
      "cell_type": "code",
      "source": [
        "# 4. Create text generation pipeline\n"
      ],
      "metadata": {
        "id": "RaPJIEwsj3zW"
      },
      "execution_count": null,
      "outputs": []
    },
    {
      "cell_type": "code",
      "source": [
        "#5. Perform inference on a simple input\n"
      ],
      "metadata": {
        "id": "dUsJnxKej8aD"
      },
      "execution_count": null,
      "outputs": []
    },
    {
      "cell_type": "code",
      "source": [
        "#6. Choose to return only added text and not full text\n"
      ],
      "metadata": {
        "id": "j3_WUMGLkBkc"
      },
      "execution_count": null,
      "outputs": []
    },
    {
      "cell_type": "code",
      "source": [
        "#7. Create a new pipeline using a model of your choice and repeat #5 on it\n"
      ],
      "metadata": {
        "id": "rbfdP6ngkGkg"
      },
      "execution_count": null,
      "outputs": []
    },
    {
      "cell_type": "markdown",
      "source": [
        "# Homework Exercises\n",
        "Remember that you can always click the `Show Code` button for help or to check your answers. Now that you're more familiar with the Google Colab interface, creat your own cells - markdown or code - to answer the questions below."
      ],
      "metadata": {
        "id": "DEUqTeCvliTC"
      }
    },
    {
      "cell_type": "markdown",
      "source": [
        "## Connection to Day 1: Data Types and Data Structures"
      ],
      "metadata": {
        "id": "O1-D7K7mfb8I"
      }
    },
    {
      "cell_type": "code",
      "source": [
        "#@title Reflect: Data Types\n",
        "#@markdown Recall Day 1, where we learned about data types. Recall that in\n",
        "#@markdown today's content, we observed a function call of the form:\n",
        "\n",
        "#@markdown ```\n",
        "#@markdown pipe = pipeline('text-generation', model='gpt2')\n",
        "#@markdown result = pipe('The cat ran merrily with its prey to', return_full_text=False)\n",
        "#@markdown ```\n",
        "\n",
        "#@markdown 1. In line 1, what are the datatypes of the two input arguments?\n",
        "#@markdown 2. In line 2, what are the datatypes of the two input arguments?\n",
        "\n",
        "#1\n",
        "# 'text-generation' is a string\n",
        "# The argument provided as the model parameter, 'gpt2', is also a string.\n",
        "\n",
        "#2\n",
        "# 'The cat ran merrily with its prey to' is a string\n",
        "# The argument provided as the return_full_text parameter, False, is a Boolean.\n"
      ],
      "metadata": {
        "cellView": "form",
        "id": "LO785NErhbFX"
      },
      "execution_count": null,
      "outputs": []
    },
    {
      "cell_type": "code",
      "source": [
        "#@title Reflect: Data Structures and Visual Presentation\n",
        "#@markdown The code below differs a bit in visual format than what we've seen,\n",
        "#@markdown but performs the expected behavior. It may look unfamiliar, but\n",
        "#@markdown let's explore why it does look different yet it's the same as\n",
        "#@markdown anything we've seen.\n",
        "\n",
        "#@markdown ```\n",
        "#@markdown # Use text generation pipeline\n",
        "#@markdown result = pipe(['The dog is adorable and so',\n",
        "#@markdown                'the cat meowed sleepily and'],\n",
        "#@markdown               return_full_text=False)\n",
        "#@markdown ```\n",
        "\n",
        "#@markdown 1. What is the data type of the first argument to `pipe`?\n",
        "#@markdown 2. What is different about the visual presentation of this list, if anything?\n",
        "#@markdown 3. Do you think this affects the behavior of the code? In other words, would it\n",
        "#@markdown return the same results, regardless of how this is formatted?\n",
        "\n",
        "#1\n",
        "# The first argument to pipe is a list of strings. The list has 2 elements.\n",
        "\n",
        "#2\n",
        "# We haven't seen a list whose contents are split across multiple lines, particularly\n",
        "# within a function call\n",
        "\n",
        "#3\n",
        "# This does not affect the behavior of the code, given that all of the indentation is correct.\n",
        "# This type of visual formatting is acceptable syntax for Python and most IDEs (like Google Colab)\n",
        "# will support this type of functionality by correctly indenting any line when it is\n",
        "# enclosed by parentheses (function arguments, tuples), brackets (creation of lists),\n",
        "# or curly braces (creation of dictionaries)"
      ],
      "metadata": {
        "cellView": "form",
        "id": "t3kpT9Izfi9X"
      },
      "execution_count": null,
      "outputs": []
    },
    {
      "cell_type": "code",
      "source": [
        "#@title Reflect: Data Structures - Part 1\n",
        "#@markdown Recall the output of our text classification pipeline, shown below:\n",
        "#@markdown ```\n",
        "#@markdown [{'label': 'POSITIVE', 'score': 0.9997424483299255},\n",
        "#@markdown {'label': 'NEGATIVE', 'score': 0.8735086917877197},\n",
        "#@markdown {'label': 'POSITIVE', 'score': 0.9485796689987183},\n",
        "#@markdown {'label': 'NEGATIVE', 'score': 0.9712409377098083}]\n",
        "#@markdown ```\n",
        "\n",
        "#@markdown Perhaps this looks terrifying, but let us convince ourselves that\n",
        "#@markdown it is nothing that we haven't seen before and we know what it is.\n",
        "\n",
        "#@markdown 1. What is data structure of this output? How do we know?\n",
        "#@markdown 2. How many elements does this data structure have?\n",
        "#@markdown 3. Look at element 0. What is its data structure? How do we know?\n",
        "#@markdown 4. How many elements does the element 0 data structure have?\n",
        "#@markdown 5. What are the keys of this data structure?\n",
        "#@markdown 6. What are the values of this data structure?\n",
        "\n",
        "#1\n",
        "# This data structure is a list. We know because the brackets tend to indicate\n",
        "# a list, and we can see that the contents are a sequence of elements, separated\n",
        "# by commas\n",
        "\n",
        "#2\n",
        "# The list has 4 elements\n",
        "\n",
        "#3\n",
        "# The data structure of element 0 is a dictionary. We know because it is\n",
        "# indicated by the presence of curly braces, its key-value pairs are separated\n",
        "# by commas, and each element is a key-value pair, specified by colons\n",
        "\n",
        "#4\n",
        "# Each dictionary has 2 elements (2 key-value pairs)\n",
        "\n",
        "#5\n",
        "# The keys of this data structure are 'label' and 'score'\n",
        "\n",
        "#6\n",
        "# The values of this data structure are the string of the inferenced label\n",
        "# and the probability associated with this prediction.\n",
        "\n"
      ],
      "metadata": {
        "cellView": "form",
        "id": "B2IGExFdkRyg"
      },
      "execution_count": null,
      "outputs": []
    },
    {
      "cell_type": "code",
      "source": [
        "#@title Reflect: Data Structures - Part 2\n",
        "\n",
        "#@markdown Recall the output of our text classification pipeline, shown below:\n",
        "#@markdown ```\n",
        "#@markdown output = [{'label': 'POSITIVE', 'score': 0.9997424483299255},\n",
        "#@markdown           {'label': 'NEGATIVE', 'score': 0.8735086917877197},\n",
        "#@markdown           {'label': 'POSITIVE', 'score': 0.9485796689987183},\n",
        "#@markdown           {'label': 'NEGATIVE', 'score': 0.9712409377098083}]\n",
        "#@markdown ```\n",
        "\n",
        "#@markdown Given the answers to the previous question, let's do some programming\n",
        "#@markdown with these known data structures. Note that we have assigned this data\n",
        "#@markdown data structure to the variable name `output`.\n",
        "\n",
        "#@markdown Recall that we can retrieve individual elements of lists and dictionaries.\n",
        "#@markdown 1. What was the syntax for retrieving an individual element of a list given a position (e.g., index/position 0)?\n",
        "#@markdown 2. Write the code that will retrieve the 0th element of the list\n",
        "#@markdown 3. What was the syntax for retrieving an individual element of a dictionary given a key?\n",
        "#@markdown 4. This one is a little harder. Return the label value (e.g., positive, negative)\n",
        "#@markdown for the dictionary at list element 0. Hint: The answer to question 2 will\n",
        "#@markdown return the dictionary; use this to lookup values\n",
        "\n",
        "#\n",
        "output = [{'label': 'POSITIVE', 'score': 0.9997424483299255},\n",
        "          {'label': 'NEGATIVE', 'score': 0.8735086917877197},\n",
        "          {'label': 'POSITIVE', 'score': 0.9485796689987183},\n",
        "          {'label': 'NEGATIVE', 'score': 0.9712409377098083}]\n",
        "\n",
        "#1\n",
        "# We use brackets to indicate that a particular position of the variable\n",
        "# is in our cross-hairs\n",
        "\n",
        "#2\n",
        "output[0]\n",
        "\n",
        "#3\n",
        "# We again use brackets to indicate that a particular key in the dictionary\n",
        "# is in our cross-hairs\n",
        "\n",
        "#4\n",
        "output[0]['label']\n",
        "#or\n",
        "out_dict = output[0]\n",
        "out_dict['label']\n",
        "# You'll see the syntax for the first option a lot, so convince yourself about\n",
        "# what it means\n"
      ],
      "metadata": {
        "cellView": "form",
        "id": "Mei8dZq8nH8-"
      },
      "execution_count": null,
      "outputs": []
    },
    {
      "cell_type": "markdown",
      "source": [
        "## Connection to Day 1: APIs and Functions\n",
        "On day 1, we could have used Python APIs and built-in functions to help us achieve more built-in functionality. Let's check that out."
      ],
      "metadata": {
        "id": "iGe_A_AdpmzZ"
      }
    },
    {
      "cell_type": "code",
      "source": [
        "#@title Code: Built-in Math API\n",
        "#@markdown On Day 1, we explored operators, e.g., `+`, `-`, etc. However, there's\n",
        "#@markdown lots more that we can do now that we can use functions!\n",
        "\n",
        "#@markdown Using the documentation on [built-in Numeric Types](https://docs.python.org/3/library/stdtypes.html#numeric-types-int-float-complex),\n",
        "#@markdown answer the following questions:\n",
        "#@markdown 1. Compute the absolute value of -2\n",
        "#@markdown 2. Convert the float 3.7 to an integer\n",
        "#@markdown 3. Use a function to raise 2 to the power of 3 (e.g., 8)\n",
        "\n",
        "#1\n",
        "abs(-2)\n",
        "\n",
        "#2\n",
        "int(3.7)\n",
        "\n",
        "#3\n",
        "pow(2,3)"
      ],
      "metadata": {
        "cellView": "form",
        "id": "xwgsN6eFpu6y"
      },
      "execution_count": null,
      "outputs": []
    },
    {
      "cell_type": "code",
      "source": [
        "#@title Code: Built-in String API\n",
        "#@markdown Today, we explored using the `lower` function to lowercase an input string.\n",
        "\n",
        "#@markdown Using the documentation on [built-in String methods](https://docs.python.org/3/library/stdtypes.html#string-methods),\n",
        "#@markdown answer the following questions using string methods:\n",
        "#@markdown 1. Capitalize the first letter of the word 'huggingface'\n",
        "#@markdown 2. Determine whether the string '6 dogs and a cat' is alphanumeric\n",
        "#@markdown 3. Determine whether the string '2341' is numeric\n",
        "#@markdown 4. Determine whether the string 'BJORN' contains all uppercase letters\n",
        "\n",
        "#1\n",
        "'huggingface'.capitalize()\n",
        "\n",
        "#2\n",
        "'6 dogs and a cat'.isalnum() #note that this is not alphanumeric ONLY because it contains spaces\n",
        "\n",
        "#3\n",
        "'2341'.isnumeric()\n",
        "\n",
        "#4\n",
        "'BJORN'.isupper()"
      ],
      "metadata": {
        "cellView": "form",
        "id": "H24-8T2QrKlY"
      },
      "execution_count": null,
      "outputs": []
    },
    {
      "cell_type": "markdown",
      "source": [
        "## Huggingface API Practice\n",
        "In this section, you'll continue exploring the [Pipeline API from Huggingface](https://huggingface.co/docs/transformers/v4.18.0/en/main_classes/pipelines). "
      ],
      "metadata": {
        "id": "nA4-vnDpt1gh"
      }
    },
    {
      "cell_type": "code",
      "source": [
        "#@title Exercise: Question Answering\n",
        "#@markdown In this example, you'll create a question answering pipeline. Use the API to answer\n",
        "#@markdown the following questions:\n",
        "#@markdown 1. What is the expected behavior of the question-answer pipeline in plain words?\n",
        "#@markdown 2. What types of main arguments can you pass in _that are something that you have_?\n",
        "#@markdown e.g., if you don't have `SquadExample` inputs, what other parameters can you use?\n",
        "#@markdown 3. What do you expect to be returned by QuestionAnsweringPipeline?\n",
        "#@markdown 4. Create a question answering generation pipeline\n",
        "#@markdown 5. Use simple inputs (e.g., a string rather than a list of strings) to generate and view the output\n",
        "#@markdown 6. If you wanted to allow 'impossible' as an answer, what parameter would you change? Change this parameter to the appropriate value and observe the results.\n",
        "#@markdown 7. Use a different model and explore the resultant performance of Question 5.\n",
        "\n",
        "#1\n",
        "# The question answering pipeline uses the context information provided to answer questions\n",
        "\n",
        "#2\n",
        "# You can pass in question, which is a string or a list of strings, and\n",
        "# context, which is a string or list of strings.\n",
        "\n",
        "#3\n",
        "# The return type is a dict or a list of dicts. Each dict will contain the keys\n",
        "# score, start, end, and answer.\n",
        "\n",
        "#4\n",
        "qpipe = pipeline('question-answering')\n",
        "\n",
        "#5\n",
        "qpipe(context = 'Jack is 26 years old and is from Algeria',\n",
        "      question='Where is Jack from?')\n",
        "\n",
        "#6\n",
        "qpipe(context = 'Jack is 26 years old and is from Algeria',\n",
        "      question=\"Where is Jack from?\",\n",
        "      allow_impossible_answer = True)\n",
        "\n",
        "#7\n",
        "qpipe = pipeline('question-answering', model='valhalla/bart-large-finetuned-squadv1')\n",
        "qpipe(context = 'Jack is 26 years old and is from Algeria',\n",
        "      question=\"What is Jack's job?\")\n"
      ],
      "metadata": {
        "cellView": "form",
        "id": "hRF2BNwmsx4j"
      },
      "execution_count": null,
      "outputs": []
    },
    {
      "cell_type": "code",
      "source": [
        "#@title Exercise: Image Classification\n",
        "#@markdown In this example, you'll create an Image Classification pipeline. Use the API to answer\n",
        "#@markdown the following questions:\n",
        "#@markdown 1. What is the expected behavior of the image classification pipeline in plain words?\n",
        "#@markdown 2. What types of main arguments can you pass in?\n",
        "#@markdown 3. What do you expect to be returned by the pipeline?\n",
        "#@markdown 4. Create the pipeline\n",
        "#@markdown 5. Use simple inputs (e.g., a string rather than a list of strings) to generate and view the output\n",
        "#@markdown 6. If you wanted to see the 2 top labels only, what parameter would you change? Change this parameter to the appropriate value and observe the results.\n",
        "#@markdown 7. Use a different model and explore the resultant performance of Question 5.\n",
        "#@markdown 8. Interpret the meaning of the outputs\n",
        "\n",
        "#1\n",
        "# This pipeline predicts the class of an image\n",
        "\n",
        "#2\n",
        "# You can pass images, which is a single string or a list of strings where are\n",
        "# image URLs. You can also pass a PIL image or a list of PIL images.\n",
        "\n",
        "#3\n",
        "# The return type is unclear from the API, but some representation of the\n",
        "# labels of the images is expected\n",
        "\n",
        "#4\n",
        "icpipe = pipeline('image-classification')\n",
        "\n",
        "#5\n",
        "icpipe('https://live.staticflickr.com/65535/50881797506_176f3d534f_z.jpg')\n",
        "\n",
        "#6\n",
        "icpipe('https://live.staticflickr.com/65535/50881797506_176f3d534f_z.jpg',\n",
        "       top_k = 2)\n",
        "\n",
        "#7\n",
        "icpipe = pipeline('image-classification', model='microsoft/swin-tiny-patch4-window7-224')\n",
        "icpipe('https://live.staticflickr.com/65535/50881797506_176f3d534f_z.jpg')\n",
        "\n",
        "#8\n",
        "# This is an image classification pipeline, meaning that the model is trying\n",
        "# to come up with a classification for the whole image. We have several labels\n",
        "# returned because of the top_k parameter, which by default is 5. Essentially,\n",
        "# it would classify the image as the top result."
      ],
      "metadata": {
        "cellView": "form",
        "id": "FV0086bVzkFA"
      },
      "execution_count": null,
      "outputs": []
    }
  ]
}