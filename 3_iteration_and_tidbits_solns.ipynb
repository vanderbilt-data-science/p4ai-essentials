{
  "nbformat": 4,
  "nbformat_minor": 0,
  "metadata": {
    "colab": {
      "name": "3_iteration_and_tidbits_solns.ipynb",
      "provenance": [],
      "collapsed_sections": [],
      "toc_visible": true,
      "authorship_tag": "ABX9TyOM+4eX+XzrG2Q9OsRrQhDO",
      "include_colab_link": true
    },
    "kernelspec": {
      "name": "python3",
      "display_name": "Python 3"
    },
    "language_info": {
      "name": "python"
    },
    "widgets": {
      "application/vnd.jupyter.widget-state+json": {
        "f399aa7bb90348c1aefefa5c07c1eaa5": {
          "model_module": "@jupyter-widgets/controls",
          "model_name": "HBoxModel",
          "model_module_version": "1.5.0",
          "state": {
            "_dom_classes": [],
            "_model_module": "@jupyter-widgets/controls",
            "_model_module_version": "1.5.0",
            "_model_name": "HBoxModel",
            "_view_count": null,
            "_view_module": "@jupyter-widgets/controls",
            "_view_module_version": "1.5.0",
            "_view_name": "HBoxView",
            "box_style": "",
            "children": [
              "IPY_MODEL_74279b240d2745669076d991e29442fd",
              "IPY_MODEL_04d366ffcebc40c586922f5a634b59ef",
              "IPY_MODEL_98f182339d25471889f73e69c32da85a"
            ],
            "layout": "IPY_MODEL_977593a9081f4d419922e0f973f4f697"
          }
        },
        "74279b240d2745669076d991e29442fd": {
          "model_module": "@jupyter-widgets/controls",
          "model_name": "HTMLModel",
          "model_module_version": "1.5.0",
          "state": {
            "_dom_classes": [],
            "_model_module": "@jupyter-widgets/controls",
            "_model_module_version": "1.5.0",
            "_model_name": "HTMLModel",
            "_view_count": null,
            "_view_module": "@jupyter-widgets/controls",
            "_view_module_version": "1.5.0",
            "_view_name": "HTMLView",
            "description": "",
            "description_tooltip": null,
            "layout": "IPY_MODEL_5f49b2f241454d68b1472b1d3f7cf199",
            "placeholder": "​",
            "style": "IPY_MODEL_b92b57bf8d144906a707fa60ba3c8fc4",
            "value": "100%"
          }
        },
        "04d366ffcebc40c586922f5a634b59ef": {
          "model_module": "@jupyter-widgets/controls",
          "model_name": "FloatProgressModel",
          "model_module_version": "1.5.0",
          "state": {
            "_dom_classes": [],
            "_model_module": "@jupyter-widgets/controls",
            "_model_module_version": "1.5.0",
            "_model_name": "FloatProgressModel",
            "_view_count": null,
            "_view_module": "@jupyter-widgets/controls",
            "_view_module_version": "1.5.0",
            "_view_name": "ProgressView",
            "bar_style": "success",
            "description": "",
            "description_tooltip": null,
            "layout": "IPY_MODEL_c4afcb47f5d448eeaacd448ba180c480",
            "max": 4,
            "min": 0,
            "orientation": "horizontal",
            "style": "IPY_MODEL_e85151d428cd44f58bac44bc7cb343aa",
            "value": 4
          }
        },
        "98f182339d25471889f73e69c32da85a": {
          "model_module": "@jupyter-widgets/controls",
          "model_name": "HTMLModel",
          "model_module_version": "1.5.0",
          "state": {
            "_dom_classes": [],
            "_model_module": "@jupyter-widgets/controls",
            "_model_module_version": "1.5.0",
            "_model_name": "HTMLModel",
            "_view_count": null,
            "_view_module": "@jupyter-widgets/controls",
            "_view_module_version": "1.5.0",
            "_view_name": "HTMLView",
            "description": "",
            "description_tooltip": null,
            "layout": "IPY_MODEL_69aba2c1503d4eafaf10ec0a56361e5f",
            "placeholder": "​",
            "style": "IPY_MODEL_80303d083c4f4593bdceaf0a89d201c8",
            "value": " 4/4 [00:00&lt;00:00, 64.99ex/s]"
          }
        },
        "977593a9081f4d419922e0f973f4f697": {
          "model_module": "@jupyter-widgets/base",
          "model_name": "LayoutModel",
          "model_module_version": "1.2.0",
          "state": {
            "_model_module": "@jupyter-widgets/base",
            "_model_module_version": "1.2.0",
            "_model_name": "LayoutModel",
            "_view_count": null,
            "_view_module": "@jupyter-widgets/base",
            "_view_module_version": "1.2.0",
            "_view_name": "LayoutView",
            "align_content": null,
            "align_items": null,
            "align_self": null,
            "border": null,
            "bottom": null,
            "display": null,
            "flex": null,
            "flex_flow": null,
            "grid_area": null,
            "grid_auto_columns": null,
            "grid_auto_flow": null,
            "grid_auto_rows": null,
            "grid_column": null,
            "grid_gap": null,
            "grid_row": null,
            "grid_template_areas": null,
            "grid_template_columns": null,
            "grid_template_rows": null,
            "height": null,
            "justify_content": null,
            "justify_items": null,
            "left": null,
            "margin": null,
            "max_height": null,
            "max_width": null,
            "min_height": null,
            "min_width": null,
            "object_fit": null,
            "object_position": null,
            "order": null,
            "overflow": null,
            "overflow_x": null,
            "overflow_y": null,
            "padding": null,
            "right": null,
            "top": null,
            "visibility": null,
            "width": null
          }
        },
        "5f49b2f241454d68b1472b1d3f7cf199": {
          "model_module": "@jupyter-widgets/base",
          "model_name": "LayoutModel",
          "model_module_version": "1.2.0",
          "state": {
            "_model_module": "@jupyter-widgets/base",
            "_model_module_version": "1.2.0",
            "_model_name": "LayoutModel",
            "_view_count": null,
            "_view_module": "@jupyter-widgets/base",
            "_view_module_version": "1.2.0",
            "_view_name": "LayoutView",
            "align_content": null,
            "align_items": null,
            "align_self": null,
            "border": null,
            "bottom": null,
            "display": null,
            "flex": null,
            "flex_flow": null,
            "grid_area": null,
            "grid_auto_columns": null,
            "grid_auto_flow": null,
            "grid_auto_rows": null,
            "grid_column": null,
            "grid_gap": null,
            "grid_row": null,
            "grid_template_areas": null,
            "grid_template_columns": null,
            "grid_template_rows": null,
            "height": null,
            "justify_content": null,
            "justify_items": null,
            "left": null,
            "margin": null,
            "max_height": null,
            "max_width": null,
            "min_height": null,
            "min_width": null,
            "object_fit": null,
            "object_position": null,
            "order": null,
            "overflow": null,
            "overflow_x": null,
            "overflow_y": null,
            "padding": null,
            "right": null,
            "top": null,
            "visibility": null,
            "width": null
          }
        },
        "b92b57bf8d144906a707fa60ba3c8fc4": {
          "model_module": "@jupyter-widgets/controls",
          "model_name": "DescriptionStyleModel",
          "model_module_version": "1.5.0",
          "state": {
            "_model_module": "@jupyter-widgets/controls",
            "_model_module_version": "1.5.0",
            "_model_name": "DescriptionStyleModel",
            "_view_count": null,
            "_view_module": "@jupyter-widgets/base",
            "_view_module_version": "1.2.0",
            "_view_name": "StyleView",
            "description_width": ""
          }
        },
        "c4afcb47f5d448eeaacd448ba180c480": {
          "model_module": "@jupyter-widgets/base",
          "model_name": "LayoutModel",
          "model_module_version": "1.2.0",
          "state": {
            "_model_module": "@jupyter-widgets/base",
            "_model_module_version": "1.2.0",
            "_model_name": "LayoutModel",
            "_view_count": null,
            "_view_module": "@jupyter-widgets/base",
            "_view_module_version": "1.2.0",
            "_view_name": "LayoutView",
            "align_content": null,
            "align_items": null,
            "align_self": null,
            "border": null,
            "bottom": null,
            "display": null,
            "flex": null,
            "flex_flow": null,
            "grid_area": null,
            "grid_auto_columns": null,
            "grid_auto_flow": null,
            "grid_auto_rows": null,
            "grid_column": null,
            "grid_gap": null,
            "grid_row": null,
            "grid_template_areas": null,
            "grid_template_columns": null,
            "grid_template_rows": null,
            "height": null,
            "justify_content": null,
            "justify_items": null,
            "left": null,
            "margin": null,
            "max_height": null,
            "max_width": null,
            "min_height": null,
            "min_width": null,
            "object_fit": null,
            "object_position": null,
            "order": null,
            "overflow": null,
            "overflow_x": null,
            "overflow_y": null,
            "padding": null,
            "right": null,
            "top": null,
            "visibility": null,
            "width": null
          }
        },
        "e85151d428cd44f58bac44bc7cb343aa": {
          "model_module": "@jupyter-widgets/controls",
          "model_name": "ProgressStyleModel",
          "model_module_version": "1.5.0",
          "state": {
            "_model_module": "@jupyter-widgets/controls",
            "_model_module_version": "1.5.0",
            "_model_name": "ProgressStyleModel",
            "_view_count": null,
            "_view_module": "@jupyter-widgets/base",
            "_view_module_version": "1.2.0",
            "_view_name": "StyleView",
            "bar_color": null,
            "description_width": ""
          }
        },
        "69aba2c1503d4eafaf10ec0a56361e5f": {
          "model_module": "@jupyter-widgets/base",
          "model_name": "LayoutModel",
          "model_module_version": "1.2.0",
          "state": {
            "_model_module": "@jupyter-widgets/base",
            "_model_module_version": "1.2.0",
            "_model_name": "LayoutModel",
            "_view_count": null,
            "_view_module": "@jupyter-widgets/base",
            "_view_module_version": "1.2.0",
            "_view_name": "LayoutView",
            "align_content": null,
            "align_items": null,
            "align_self": null,
            "border": null,
            "bottom": null,
            "display": null,
            "flex": null,
            "flex_flow": null,
            "grid_area": null,
            "grid_auto_columns": null,
            "grid_auto_flow": null,
            "grid_auto_rows": null,
            "grid_column": null,
            "grid_gap": null,
            "grid_row": null,
            "grid_template_areas": null,
            "grid_template_columns": null,
            "grid_template_rows": null,
            "height": null,
            "justify_content": null,
            "justify_items": null,
            "left": null,
            "margin": null,
            "max_height": null,
            "max_width": null,
            "min_height": null,
            "min_width": null,
            "object_fit": null,
            "object_position": null,
            "order": null,
            "overflow": null,
            "overflow_x": null,
            "overflow_y": null,
            "padding": null,
            "right": null,
            "top": null,
            "visibility": null,
            "width": null
          }
        },
        "80303d083c4f4593bdceaf0a89d201c8": {
          "model_module": "@jupyter-widgets/controls",
          "model_name": "DescriptionStyleModel",
          "model_module_version": "1.5.0",
          "state": {
            "_model_module": "@jupyter-widgets/controls",
            "_model_module_version": "1.5.0",
            "_model_name": "DescriptionStyleModel",
            "_view_count": null,
            "_view_module": "@jupyter-widgets/base",
            "_view_module_version": "1.2.0",
            "_view_name": "StyleView",
            "description_width": ""
          }
        },
        "79f7b1aba32f4e0cb400cf72c3cfef1a": {
          "model_module": "@jupyter-widgets/controls",
          "model_name": "HBoxModel",
          "model_module_version": "1.5.0",
          "state": {
            "_dom_classes": [],
            "_model_module": "@jupyter-widgets/controls",
            "_model_module_version": "1.5.0",
            "_model_name": "HBoxModel",
            "_view_count": null,
            "_view_module": "@jupyter-widgets/controls",
            "_view_module_version": "1.5.0",
            "_view_name": "HBoxView",
            "box_style": "",
            "children": [
              "IPY_MODEL_b89ee5fec6a34c28bf363fe7d72d5dd8",
              "IPY_MODEL_0896551a2f494eb79bcfdc737d04fa74",
              "IPY_MODEL_5d859b9cf4c94d30b772ba6b021b9a9b"
            ],
            "layout": "IPY_MODEL_0e33c45e8b7f4ba2abf6b0e68e456304"
          }
        },
        "b89ee5fec6a34c28bf363fe7d72d5dd8": {
          "model_module": "@jupyter-widgets/controls",
          "model_name": "HTMLModel",
          "model_module_version": "1.5.0",
          "state": {
            "_dom_classes": [],
            "_model_module": "@jupyter-widgets/controls",
            "_model_module_version": "1.5.0",
            "_model_name": "HTMLModel",
            "_view_count": null,
            "_view_module": "@jupyter-widgets/controls",
            "_view_module_version": "1.5.0",
            "_view_name": "HTMLView",
            "description": "",
            "description_tooltip": null,
            "layout": "IPY_MODEL_fbf023ff9ab9446ca9e5763a0bd6b07c",
            "placeholder": "​",
            "style": "IPY_MODEL_ce416f72b106445dbf460027c5406b79",
            "value": "Downloading: 100%"
          }
        },
        "0896551a2f494eb79bcfdc737d04fa74": {
          "model_module": "@jupyter-widgets/controls",
          "model_name": "FloatProgressModel",
          "model_module_version": "1.5.0",
          "state": {
            "_dom_classes": [],
            "_model_module": "@jupyter-widgets/controls",
            "_model_module_version": "1.5.0",
            "_model_name": "FloatProgressModel",
            "_view_count": null,
            "_view_module": "@jupyter-widgets/controls",
            "_view_module_version": "1.5.0",
            "_view_name": "ProgressView",
            "bar_style": "success",
            "description": "",
            "description_tooltip": null,
            "layout": "IPY_MODEL_65287e4b9ab448c4add4bb3e47b23398",
            "max": 747,
            "min": 0,
            "orientation": "horizontal",
            "style": "IPY_MODEL_ac71fe35a43f43e5ba73ef2414923791",
            "value": 747
          }
        },
        "5d859b9cf4c94d30b772ba6b021b9a9b": {
          "model_module": "@jupyter-widgets/controls",
          "model_name": "HTMLModel",
          "model_module_version": "1.5.0",
          "state": {
            "_dom_classes": [],
            "_model_module": "@jupyter-widgets/controls",
            "_model_module_version": "1.5.0",
            "_model_name": "HTMLModel",
            "_view_count": null,
            "_view_module": "@jupyter-widgets/controls",
            "_view_module_version": "1.5.0",
            "_view_name": "HTMLView",
            "description": "",
            "description_tooltip": null,
            "layout": "IPY_MODEL_005b11f7e41543f7828d38c4ef07b988",
            "placeholder": "​",
            "style": "IPY_MODEL_a53bc7c79e344d74af7a6420b30288b4",
            "value": " 747/747 [00:00&lt;00:00, 17.8kB/s]"
          }
        },
        "0e33c45e8b7f4ba2abf6b0e68e456304": {
          "model_module": "@jupyter-widgets/base",
          "model_name": "LayoutModel",
          "model_module_version": "1.2.0",
          "state": {
            "_model_module": "@jupyter-widgets/base",
            "_model_module_version": "1.2.0",
            "_model_name": "LayoutModel",
            "_view_count": null,
            "_view_module": "@jupyter-widgets/base",
            "_view_module_version": "1.2.0",
            "_view_name": "LayoutView",
            "align_content": null,
            "align_items": null,
            "align_self": null,
            "border": null,
            "bottom": null,
            "display": null,
            "flex": null,
            "flex_flow": null,
            "grid_area": null,
            "grid_auto_columns": null,
            "grid_auto_flow": null,
            "grid_auto_rows": null,
            "grid_column": null,
            "grid_gap": null,
            "grid_row": null,
            "grid_template_areas": null,
            "grid_template_columns": null,
            "grid_template_rows": null,
            "height": null,
            "justify_content": null,
            "justify_items": null,
            "left": null,
            "margin": null,
            "max_height": null,
            "max_width": null,
            "min_height": null,
            "min_width": null,
            "object_fit": null,
            "object_position": null,
            "order": null,
            "overflow": null,
            "overflow_x": null,
            "overflow_y": null,
            "padding": null,
            "right": null,
            "top": null,
            "visibility": null,
            "width": null
          }
        },
        "fbf023ff9ab9446ca9e5763a0bd6b07c": {
          "model_module": "@jupyter-widgets/base",
          "model_name": "LayoutModel",
          "model_module_version": "1.2.0",
          "state": {
            "_model_module": "@jupyter-widgets/base",
            "_model_module_version": "1.2.0",
            "_model_name": "LayoutModel",
            "_view_count": null,
            "_view_module": "@jupyter-widgets/base",
            "_view_module_version": "1.2.0",
            "_view_name": "LayoutView",
            "align_content": null,
            "align_items": null,
            "align_self": null,
            "border": null,
            "bottom": null,
            "display": null,
            "flex": null,
            "flex_flow": null,
            "grid_area": null,
            "grid_auto_columns": null,
            "grid_auto_flow": null,
            "grid_auto_rows": null,
            "grid_column": null,
            "grid_gap": null,
            "grid_row": null,
            "grid_template_areas": null,
            "grid_template_columns": null,
            "grid_template_rows": null,
            "height": null,
            "justify_content": null,
            "justify_items": null,
            "left": null,
            "margin": null,
            "max_height": null,
            "max_width": null,
            "min_height": null,
            "min_width": null,
            "object_fit": null,
            "object_position": null,
            "order": null,
            "overflow": null,
            "overflow_x": null,
            "overflow_y": null,
            "padding": null,
            "right": null,
            "top": null,
            "visibility": null,
            "width": null
          }
        },
        "ce416f72b106445dbf460027c5406b79": {
          "model_module": "@jupyter-widgets/controls",
          "model_name": "DescriptionStyleModel",
          "model_module_version": "1.5.0",
          "state": {
            "_model_module": "@jupyter-widgets/controls",
            "_model_module_version": "1.5.0",
            "_model_name": "DescriptionStyleModel",
            "_view_count": null,
            "_view_module": "@jupyter-widgets/base",
            "_view_module_version": "1.2.0",
            "_view_name": "StyleView",
            "description_width": ""
          }
        },
        "65287e4b9ab448c4add4bb3e47b23398": {
          "model_module": "@jupyter-widgets/base",
          "model_name": "LayoutModel",
          "model_module_version": "1.2.0",
          "state": {
            "_model_module": "@jupyter-widgets/base",
            "_model_module_version": "1.2.0",
            "_model_name": "LayoutModel",
            "_view_count": null,
            "_view_module": "@jupyter-widgets/base",
            "_view_module_version": "1.2.0",
            "_view_name": "LayoutView",
            "align_content": null,
            "align_items": null,
            "align_self": null,
            "border": null,
            "bottom": null,
            "display": null,
            "flex": null,
            "flex_flow": null,
            "grid_area": null,
            "grid_auto_columns": null,
            "grid_auto_flow": null,
            "grid_auto_rows": null,
            "grid_column": null,
            "grid_gap": null,
            "grid_row": null,
            "grid_template_areas": null,
            "grid_template_columns": null,
            "grid_template_rows": null,
            "height": null,
            "justify_content": null,
            "justify_items": null,
            "left": null,
            "margin": null,
            "max_height": null,
            "max_width": null,
            "min_height": null,
            "min_width": null,
            "object_fit": null,
            "object_position": null,
            "order": null,
            "overflow": null,
            "overflow_x": null,
            "overflow_y": null,
            "padding": null,
            "right": null,
            "top": null,
            "visibility": null,
            "width": null
          }
        },
        "ac71fe35a43f43e5ba73ef2414923791": {
          "model_module": "@jupyter-widgets/controls",
          "model_name": "ProgressStyleModel",
          "model_module_version": "1.5.0",
          "state": {
            "_model_module": "@jupyter-widgets/controls",
            "_model_module_version": "1.5.0",
            "_model_name": "ProgressStyleModel",
            "_view_count": null,
            "_view_module": "@jupyter-widgets/base",
            "_view_module_version": "1.2.0",
            "_view_name": "StyleView",
            "bar_color": null,
            "description_width": ""
          }
        },
        "005b11f7e41543f7828d38c4ef07b988": {
          "model_module": "@jupyter-widgets/base",
          "model_name": "LayoutModel",
          "model_module_version": "1.2.0",
          "state": {
            "_model_module": "@jupyter-widgets/base",
            "_model_module_version": "1.2.0",
            "_model_name": "LayoutModel",
            "_view_count": null,
            "_view_module": "@jupyter-widgets/base",
            "_view_module_version": "1.2.0",
            "_view_name": "LayoutView",
            "align_content": null,
            "align_items": null,
            "align_self": null,
            "border": null,
            "bottom": null,
            "display": null,
            "flex": null,
            "flex_flow": null,
            "grid_area": null,
            "grid_auto_columns": null,
            "grid_auto_flow": null,
            "grid_auto_rows": null,
            "grid_column": null,
            "grid_gap": null,
            "grid_row": null,
            "grid_template_areas": null,
            "grid_template_columns": null,
            "grid_template_rows": null,
            "height": null,
            "justify_content": null,
            "justify_items": null,
            "left": null,
            "margin": null,
            "max_height": null,
            "max_width": null,
            "min_height": null,
            "min_width": null,
            "object_fit": null,
            "object_position": null,
            "order": null,
            "overflow": null,
            "overflow_x": null,
            "overflow_y": null,
            "padding": null,
            "right": null,
            "top": null,
            "visibility": null,
            "width": null
          }
        },
        "a53bc7c79e344d74af7a6420b30288b4": {
          "model_module": "@jupyter-widgets/controls",
          "model_name": "DescriptionStyleModel",
          "model_module_version": "1.5.0",
          "state": {
            "_model_module": "@jupyter-widgets/controls",
            "_model_module_version": "1.5.0",
            "_model_name": "DescriptionStyleModel",
            "_view_count": null,
            "_view_module": "@jupyter-widgets/base",
            "_view_module_version": "1.2.0",
            "_view_name": "StyleView",
            "description_width": ""
          }
        },
        "3b55fc71905f482ba2a212ad55d2b9e0": {
          "model_module": "@jupyter-widgets/controls",
          "model_name": "HBoxModel",
          "model_module_version": "1.5.0",
          "state": {
            "_dom_classes": [],
            "_model_module": "@jupyter-widgets/controls",
            "_model_module_version": "1.5.0",
            "_model_name": "HBoxModel",
            "_view_count": null,
            "_view_module": "@jupyter-widgets/controls",
            "_view_module_version": "1.5.0",
            "_view_name": "HBoxView",
            "box_style": "",
            "children": [
              "IPY_MODEL_29e1ae36619d42d8a3211b870d66ee4b",
              "IPY_MODEL_66cde47f8b964624ad23c0f64deb3bad",
              "IPY_MODEL_da61a3a3c026422682e083679b3d0dab"
            ],
            "layout": "IPY_MODEL_58a9f2ea861f4e798a03a9e14581c778"
          }
        },
        "29e1ae36619d42d8a3211b870d66ee4b": {
          "model_module": "@jupyter-widgets/controls",
          "model_name": "HTMLModel",
          "model_module_version": "1.5.0",
          "state": {
            "_dom_classes": [],
            "_model_module": "@jupyter-widgets/controls",
            "_model_module_version": "1.5.0",
            "_model_name": "HTMLModel",
            "_view_count": null,
            "_view_module": "@jupyter-widgets/controls",
            "_view_module_version": "1.5.0",
            "_view_name": "HTMLView",
            "description": "",
            "description_tooltip": null,
            "layout": "IPY_MODEL_7933efa5f66b40118775c267dc315f99",
            "placeholder": "​",
            "style": "IPY_MODEL_7ecc04eea9e646c4a728ac879f9dd2f8",
            "value": "Downloading: 100%"
          }
        },
        "66cde47f8b964624ad23c0f64deb3bad": {
          "model_module": "@jupyter-widgets/controls",
          "model_name": "FloatProgressModel",
          "model_module_version": "1.5.0",
          "state": {
            "_dom_classes": [],
            "_model_module": "@jupyter-widgets/controls",
            "_model_module_version": "1.5.0",
            "_model_name": "FloatProgressModel",
            "_view_count": null,
            "_view_module": "@jupyter-widgets/controls",
            "_view_module_version": "1.5.0",
            "_view_name": "ProgressView",
            "bar_style": "success",
            "description": "",
            "description_tooltip": null,
            "layout": "IPY_MODEL_100524b60a0b4ce5b7bdc5ca83462d2e",
            "max": 498679497,
            "min": 0,
            "orientation": "horizontal",
            "style": "IPY_MODEL_f17e6dc8b02d49ca8659412b8429fee3",
            "value": 498679497
          }
        },
        "da61a3a3c026422682e083679b3d0dab": {
          "model_module": "@jupyter-widgets/controls",
          "model_name": "HTMLModel",
          "model_module_version": "1.5.0",
          "state": {
            "_dom_classes": [],
            "_model_module": "@jupyter-widgets/controls",
            "_model_module_version": "1.5.0",
            "_model_name": "HTMLModel",
            "_view_count": null,
            "_view_module": "@jupyter-widgets/controls",
            "_view_module_version": "1.5.0",
            "_view_name": "HTMLView",
            "description": "",
            "description_tooltip": null,
            "layout": "IPY_MODEL_5dba6787ffca47e8b7316c8387cedbed",
            "placeholder": "​",
            "style": "IPY_MODEL_0435c705ee7f44448829adcbc9acfcc1",
            "value": " 476M/476M [00:10&lt;00:00, 48.4MB/s]"
          }
        },
        "58a9f2ea861f4e798a03a9e14581c778": {
          "model_module": "@jupyter-widgets/base",
          "model_name": "LayoutModel",
          "model_module_version": "1.2.0",
          "state": {
            "_model_module": "@jupyter-widgets/base",
            "_model_module_version": "1.2.0",
            "_model_name": "LayoutModel",
            "_view_count": null,
            "_view_module": "@jupyter-widgets/base",
            "_view_module_version": "1.2.0",
            "_view_name": "LayoutView",
            "align_content": null,
            "align_items": null,
            "align_self": null,
            "border": null,
            "bottom": null,
            "display": null,
            "flex": null,
            "flex_flow": null,
            "grid_area": null,
            "grid_auto_columns": null,
            "grid_auto_flow": null,
            "grid_auto_rows": null,
            "grid_column": null,
            "grid_gap": null,
            "grid_row": null,
            "grid_template_areas": null,
            "grid_template_columns": null,
            "grid_template_rows": null,
            "height": null,
            "justify_content": null,
            "justify_items": null,
            "left": null,
            "margin": null,
            "max_height": null,
            "max_width": null,
            "min_height": null,
            "min_width": null,
            "object_fit": null,
            "object_position": null,
            "order": null,
            "overflow": null,
            "overflow_x": null,
            "overflow_y": null,
            "padding": null,
            "right": null,
            "top": null,
            "visibility": null,
            "width": null
          }
        },
        "7933efa5f66b40118775c267dc315f99": {
          "model_module": "@jupyter-widgets/base",
          "model_name": "LayoutModel",
          "model_module_version": "1.2.0",
          "state": {
            "_model_module": "@jupyter-widgets/base",
            "_model_module_version": "1.2.0",
            "_model_name": "LayoutModel",
            "_view_count": null,
            "_view_module": "@jupyter-widgets/base",
            "_view_module_version": "1.2.0",
            "_view_name": "LayoutView",
            "align_content": null,
            "align_items": null,
            "align_self": null,
            "border": null,
            "bottom": null,
            "display": null,
            "flex": null,
            "flex_flow": null,
            "grid_area": null,
            "grid_auto_columns": null,
            "grid_auto_flow": null,
            "grid_auto_rows": null,
            "grid_column": null,
            "grid_gap": null,
            "grid_row": null,
            "grid_template_areas": null,
            "grid_template_columns": null,
            "grid_template_rows": null,
            "height": null,
            "justify_content": null,
            "justify_items": null,
            "left": null,
            "margin": null,
            "max_height": null,
            "max_width": null,
            "min_height": null,
            "min_width": null,
            "object_fit": null,
            "object_position": null,
            "order": null,
            "overflow": null,
            "overflow_x": null,
            "overflow_y": null,
            "padding": null,
            "right": null,
            "top": null,
            "visibility": null,
            "width": null
          }
        },
        "7ecc04eea9e646c4a728ac879f9dd2f8": {
          "model_module": "@jupyter-widgets/controls",
          "model_name": "DescriptionStyleModel",
          "model_module_version": "1.5.0",
          "state": {
            "_model_module": "@jupyter-widgets/controls",
            "_model_module_version": "1.5.0",
            "_model_name": "DescriptionStyleModel",
            "_view_count": null,
            "_view_module": "@jupyter-widgets/base",
            "_view_module_version": "1.2.0",
            "_view_name": "StyleView",
            "description_width": ""
          }
        },
        "100524b60a0b4ce5b7bdc5ca83462d2e": {
          "model_module": "@jupyter-widgets/base",
          "model_name": "LayoutModel",
          "model_module_version": "1.2.0",
          "state": {
            "_model_module": "@jupyter-widgets/base",
            "_model_module_version": "1.2.0",
            "_model_name": "LayoutModel",
            "_view_count": null,
            "_view_module": "@jupyter-widgets/base",
            "_view_module_version": "1.2.0",
            "_view_name": "LayoutView",
            "align_content": null,
            "align_items": null,
            "align_self": null,
            "border": null,
            "bottom": null,
            "display": null,
            "flex": null,
            "flex_flow": null,
            "grid_area": null,
            "grid_auto_columns": null,
            "grid_auto_flow": null,
            "grid_auto_rows": null,
            "grid_column": null,
            "grid_gap": null,
            "grid_row": null,
            "grid_template_areas": null,
            "grid_template_columns": null,
            "grid_template_rows": null,
            "height": null,
            "justify_content": null,
            "justify_items": null,
            "left": null,
            "margin": null,
            "max_height": null,
            "max_width": null,
            "min_height": null,
            "min_width": null,
            "object_fit": null,
            "object_position": null,
            "order": null,
            "overflow": null,
            "overflow_x": null,
            "overflow_y": null,
            "padding": null,
            "right": null,
            "top": null,
            "visibility": null,
            "width": null
          }
        },
        "f17e6dc8b02d49ca8659412b8429fee3": {
          "model_module": "@jupyter-widgets/controls",
          "model_name": "ProgressStyleModel",
          "model_module_version": "1.5.0",
          "state": {
            "_model_module": "@jupyter-widgets/controls",
            "_model_module_version": "1.5.0",
            "_model_name": "ProgressStyleModel",
            "_view_count": null,
            "_view_module": "@jupyter-widgets/base",
            "_view_module_version": "1.2.0",
            "_view_name": "StyleView",
            "bar_color": null,
            "description_width": ""
          }
        },
        "5dba6787ffca47e8b7316c8387cedbed": {
          "model_module": "@jupyter-widgets/base",
          "model_name": "LayoutModel",
          "model_module_version": "1.2.0",
          "state": {
            "_model_module": "@jupyter-widgets/base",
            "_model_module_version": "1.2.0",
            "_model_name": "LayoutModel",
            "_view_count": null,
            "_view_module": "@jupyter-widgets/base",
            "_view_module_version": "1.2.0",
            "_view_name": "LayoutView",
            "align_content": null,
            "align_items": null,
            "align_self": null,
            "border": null,
            "bottom": null,
            "display": null,
            "flex": null,
            "flex_flow": null,
            "grid_area": null,
            "grid_auto_columns": null,
            "grid_auto_flow": null,
            "grid_auto_rows": null,
            "grid_column": null,
            "grid_gap": null,
            "grid_row": null,
            "grid_template_areas": null,
            "grid_template_columns": null,
            "grid_template_rows": null,
            "height": null,
            "justify_content": null,
            "justify_items": null,
            "left": null,
            "margin": null,
            "max_height": null,
            "max_width": null,
            "min_height": null,
            "min_width": null,
            "object_fit": null,
            "object_position": null,
            "order": null,
            "overflow": null,
            "overflow_x": null,
            "overflow_y": null,
            "padding": null,
            "right": null,
            "top": null,
            "visibility": null,
            "width": null
          }
        },
        "0435c705ee7f44448829adcbc9acfcc1": {
          "model_module": "@jupyter-widgets/controls",
          "model_name": "DescriptionStyleModel",
          "model_module_version": "1.5.0",
          "state": {
            "_model_module": "@jupyter-widgets/controls",
            "_model_module_version": "1.5.0",
            "_model_name": "DescriptionStyleModel",
            "_view_count": null,
            "_view_module": "@jupyter-widgets/base",
            "_view_module_version": "1.2.0",
            "_view_name": "StyleView",
            "description_width": ""
          }
        },
        "4dd85d65d5cf4ff0a88c2e5822033db1": {
          "model_module": "@jupyter-widgets/controls",
          "model_name": "HBoxModel",
          "model_module_version": "1.5.0",
          "state": {
            "_dom_classes": [],
            "_model_module": "@jupyter-widgets/controls",
            "_model_module_version": "1.5.0",
            "_model_name": "HBoxModel",
            "_view_count": null,
            "_view_module": "@jupyter-widgets/controls",
            "_view_module_version": "1.5.0",
            "_view_name": "HBoxView",
            "box_style": "",
            "children": [
              "IPY_MODEL_b04637cd2366431b8f39988e9e6b90f7",
              "IPY_MODEL_0a063b4a562c41daa7d4270a219692d7",
              "IPY_MODEL_5442181657534beaa1f06a2f973cf299"
            ],
            "layout": "IPY_MODEL_5967567ec162470dbc6b16c792f02ee6"
          }
        },
        "b04637cd2366431b8f39988e9e6b90f7": {
          "model_module": "@jupyter-widgets/controls",
          "model_name": "HTMLModel",
          "model_module_version": "1.5.0",
          "state": {
            "_dom_classes": [],
            "_model_module": "@jupyter-widgets/controls",
            "_model_module_version": "1.5.0",
            "_model_name": "HTMLModel",
            "_view_count": null,
            "_view_module": "@jupyter-widgets/controls",
            "_view_module_version": "1.5.0",
            "_view_name": "HTMLView",
            "description": "",
            "description_tooltip": null,
            "layout": "IPY_MODEL_b3f652e28a754e699fe23ba36a856233",
            "placeholder": "​",
            "style": "IPY_MODEL_62d8fb592dd04ce9b958188016a41912",
            "value": "Downloading: 100%"
          }
        },
        "0a063b4a562c41daa7d4270a219692d7": {
          "model_module": "@jupyter-widgets/controls",
          "model_name": "FloatProgressModel",
          "model_module_version": "1.5.0",
          "state": {
            "_dom_classes": [],
            "_model_module": "@jupyter-widgets/controls",
            "_model_module_version": "1.5.0",
            "_model_name": "FloatProgressModel",
            "_view_count": null,
            "_view_module": "@jupyter-widgets/controls",
            "_view_module_version": "1.5.0",
            "_view_name": "ProgressView",
            "bar_style": "success",
            "description": "",
            "description_tooltip": null,
            "layout": "IPY_MODEL_363cba8d3b694a698f42cd123958a42c",
            "max": 898822,
            "min": 0,
            "orientation": "horizontal",
            "style": "IPY_MODEL_8fd917cd00cd4f48a63ef983593ad1b2",
            "value": 898822
          }
        },
        "5442181657534beaa1f06a2f973cf299": {
          "model_module": "@jupyter-widgets/controls",
          "model_name": "HTMLModel",
          "model_module_version": "1.5.0",
          "state": {
            "_dom_classes": [],
            "_model_module": "@jupyter-widgets/controls",
            "_model_module_version": "1.5.0",
            "_model_name": "HTMLModel",
            "_view_count": null,
            "_view_module": "@jupyter-widgets/controls",
            "_view_module_version": "1.5.0",
            "_view_name": "HTMLView",
            "description": "",
            "description_tooltip": null,
            "layout": "IPY_MODEL_6f5b61bc271f4c48bef58cbf4e72884c",
            "placeholder": "​",
            "style": "IPY_MODEL_85cf19c3c4aa4bd593cf0610053a2984",
            "value": " 878k/878k [00:00&lt;00:00, 1.42MB/s]"
          }
        },
        "5967567ec162470dbc6b16c792f02ee6": {
          "model_module": "@jupyter-widgets/base",
          "model_name": "LayoutModel",
          "model_module_version": "1.2.0",
          "state": {
            "_model_module": "@jupyter-widgets/base",
            "_model_module_version": "1.2.0",
            "_model_name": "LayoutModel",
            "_view_count": null,
            "_view_module": "@jupyter-widgets/base",
            "_view_module_version": "1.2.0",
            "_view_name": "LayoutView",
            "align_content": null,
            "align_items": null,
            "align_self": null,
            "border": null,
            "bottom": null,
            "display": null,
            "flex": null,
            "flex_flow": null,
            "grid_area": null,
            "grid_auto_columns": null,
            "grid_auto_flow": null,
            "grid_auto_rows": null,
            "grid_column": null,
            "grid_gap": null,
            "grid_row": null,
            "grid_template_areas": null,
            "grid_template_columns": null,
            "grid_template_rows": null,
            "height": null,
            "justify_content": null,
            "justify_items": null,
            "left": null,
            "margin": null,
            "max_height": null,
            "max_width": null,
            "min_height": null,
            "min_width": null,
            "object_fit": null,
            "object_position": null,
            "order": null,
            "overflow": null,
            "overflow_x": null,
            "overflow_y": null,
            "padding": null,
            "right": null,
            "top": null,
            "visibility": null,
            "width": null
          }
        },
        "b3f652e28a754e699fe23ba36a856233": {
          "model_module": "@jupyter-widgets/base",
          "model_name": "LayoutModel",
          "model_module_version": "1.2.0",
          "state": {
            "_model_module": "@jupyter-widgets/base",
            "_model_module_version": "1.2.0",
            "_model_name": "LayoutModel",
            "_view_count": null,
            "_view_module": "@jupyter-widgets/base",
            "_view_module_version": "1.2.0",
            "_view_name": "LayoutView",
            "align_content": null,
            "align_items": null,
            "align_self": null,
            "border": null,
            "bottom": null,
            "display": null,
            "flex": null,
            "flex_flow": null,
            "grid_area": null,
            "grid_auto_columns": null,
            "grid_auto_flow": null,
            "grid_auto_rows": null,
            "grid_column": null,
            "grid_gap": null,
            "grid_row": null,
            "grid_template_areas": null,
            "grid_template_columns": null,
            "grid_template_rows": null,
            "height": null,
            "justify_content": null,
            "justify_items": null,
            "left": null,
            "margin": null,
            "max_height": null,
            "max_width": null,
            "min_height": null,
            "min_width": null,
            "object_fit": null,
            "object_position": null,
            "order": null,
            "overflow": null,
            "overflow_x": null,
            "overflow_y": null,
            "padding": null,
            "right": null,
            "top": null,
            "visibility": null,
            "width": null
          }
        },
        "62d8fb592dd04ce9b958188016a41912": {
          "model_module": "@jupyter-widgets/controls",
          "model_name": "DescriptionStyleModel",
          "model_module_version": "1.5.0",
          "state": {
            "_model_module": "@jupyter-widgets/controls",
            "_model_module_version": "1.5.0",
            "_model_name": "DescriptionStyleModel",
            "_view_count": null,
            "_view_module": "@jupyter-widgets/base",
            "_view_module_version": "1.2.0",
            "_view_name": "StyleView",
            "description_width": ""
          }
        },
        "363cba8d3b694a698f42cd123958a42c": {
          "model_module": "@jupyter-widgets/base",
          "model_name": "LayoutModel",
          "model_module_version": "1.2.0",
          "state": {
            "_model_module": "@jupyter-widgets/base",
            "_model_module_version": "1.2.0",
            "_model_name": "LayoutModel",
            "_view_count": null,
            "_view_module": "@jupyter-widgets/base",
            "_view_module_version": "1.2.0",
            "_view_name": "LayoutView",
            "align_content": null,
            "align_items": null,
            "align_self": null,
            "border": null,
            "bottom": null,
            "display": null,
            "flex": null,
            "flex_flow": null,
            "grid_area": null,
            "grid_auto_columns": null,
            "grid_auto_flow": null,
            "grid_auto_rows": null,
            "grid_column": null,
            "grid_gap": null,
            "grid_row": null,
            "grid_template_areas": null,
            "grid_template_columns": null,
            "grid_template_rows": null,
            "height": null,
            "justify_content": null,
            "justify_items": null,
            "left": null,
            "margin": null,
            "max_height": null,
            "max_width": null,
            "min_height": null,
            "min_width": null,
            "object_fit": null,
            "object_position": null,
            "order": null,
            "overflow": null,
            "overflow_x": null,
            "overflow_y": null,
            "padding": null,
            "right": null,
            "top": null,
            "visibility": null,
            "width": null
          }
        },
        "8fd917cd00cd4f48a63ef983593ad1b2": {
          "model_module": "@jupyter-widgets/controls",
          "model_name": "ProgressStyleModel",
          "model_module_version": "1.5.0",
          "state": {
            "_model_module": "@jupyter-widgets/controls",
            "_model_module_version": "1.5.0",
            "_model_name": "ProgressStyleModel",
            "_view_count": null,
            "_view_module": "@jupyter-widgets/base",
            "_view_module_version": "1.2.0",
            "_view_name": "StyleView",
            "bar_color": null,
            "description_width": ""
          }
        },
        "6f5b61bc271f4c48bef58cbf4e72884c": {
          "model_module": "@jupyter-widgets/base",
          "model_name": "LayoutModel",
          "model_module_version": "1.2.0",
          "state": {
            "_model_module": "@jupyter-widgets/base",
            "_model_module_version": "1.2.0",
            "_model_name": "LayoutModel",
            "_view_count": null,
            "_view_module": "@jupyter-widgets/base",
            "_view_module_version": "1.2.0",
            "_view_name": "LayoutView",
            "align_content": null,
            "align_items": null,
            "align_self": null,
            "border": null,
            "bottom": null,
            "display": null,
            "flex": null,
            "flex_flow": null,
            "grid_area": null,
            "grid_auto_columns": null,
            "grid_auto_flow": null,
            "grid_auto_rows": null,
            "grid_column": null,
            "grid_gap": null,
            "grid_row": null,
            "grid_template_areas": null,
            "grid_template_columns": null,
            "grid_template_rows": null,
            "height": null,
            "justify_content": null,
            "justify_items": null,
            "left": null,
            "margin": null,
            "max_height": null,
            "max_width": null,
            "min_height": null,
            "min_width": null,
            "object_fit": null,
            "object_position": null,
            "order": null,
            "overflow": null,
            "overflow_x": null,
            "overflow_y": null,
            "padding": null,
            "right": null,
            "top": null,
            "visibility": null,
            "width": null
          }
        },
        "85cf19c3c4aa4bd593cf0610053a2984": {
          "model_module": "@jupyter-widgets/controls",
          "model_name": "DescriptionStyleModel",
          "model_module_version": "1.5.0",
          "state": {
            "_model_module": "@jupyter-widgets/controls",
            "_model_module_version": "1.5.0",
            "_model_name": "DescriptionStyleModel",
            "_view_count": null,
            "_view_module": "@jupyter-widgets/base",
            "_view_module_version": "1.2.0",
            "_view_name": "StyleView",
            "description_width": ""
          }
        },
        "b228553782574060b1ccb722da0689f7": {
          "model_module": "@jupyter-widgets/controls",
          "model_name": "HBoxModel",
          "model_module_version": "1.5.0",
          "state": {
            "_dom_classes": [],
            "_model_module": "@jupyter-widgets/controls",
            "_model_module_version": "1.5.0",
            "_model_name": "HBoxModel",
            "_view_count": null,
            "_view_module": "@jupyter-widgets/controls",
            "_view_module_version": "1.5.0",
            "_view_name": "HBoxView",
            "box_style": "",
            "children": [
              "IPY_MODEL_637fd9df6edb4d5ea4ca2dc6b1b0af7b",
              "IPY_MODEL_a4548221839b4243842aca3756c2bbcd",
              "IPY_MODEL_119c0a0456e14cf6b212197035d464c1"
            ],
            "layout": "IPY_MODEL_6ed24f5ededd4faaa07bea978b235a96"
          }
        },
        "637fd9df6edb4d5ea4ca2dc6b1b0af7b": {
          "model_module": "@jupyter-widgets/controls",
          "model_name": "HTMLModel",
          "model_module_version": "1.5.0",
          "state": {
            "_dom_classes": [],
            "_model_module": "@jupyter-widgets/controls",
            "_model_module_version": "1.5.0",
            "_model_name": "HTMLModel",
            "_view_count": null,
            "_view_module": "@jupyter-widgets/controls",
            "_view_module_version": "1.5.0",
            "_view_name": "HTMLView",
            "description": "",
            "description_tooltip": null,
            "layout": "IPY_MODEL_465874f3883640c282215aa6047b69e9",
            "placeholder": "​",
            "style": "IPY_MODEL_b4100d9037b94e8ebe590ca9ef99c4f3",
            "value": "Downloading: 100%"
          }
        },
        "a4548221839b4243842aca3756c2bbcd": {
          "model_module": "@jupyter-widgets/controls",
          "model_name": "FloatProgressModel",
          "model_module_version": "1.5.0",
          "state": {
            "_dom_classes": [],
            "_model_module": "@jupyter-widgets/controls",
            "_model_module_version": "1.5.0",
            "_model_name": "FloatProgressModel",
            "_view_count": null,
            "_view_module": "@jupyter-widgets/controls",
            "_view_module_version": "1.5.0",
            "_view_name": "ProgressView",
            "bar_style": "success",
            "description": "",
            "description_tooltip": null,
            "layout": "IPY_MODEL_d5e97333064d4a77ae77e5c2f1e01e3b",
            "max": 456318,
            "min": 0,
            "orientation": "horizontal",
            "style": "IPY_MODEL_7be76931804b4736b3ed33db991d3319",
            "value": 456318
          }
        },
        "119c0a0456e14cf6b212197035d464c1": {
          "model_module": "@jupyter-widgets/controls",
          "model_name": "HTMLModel",
          "model_module_version": "1.5.0",
          "state": {
            "_dom_classes": [],
            "_model_module": "@jupyter-widgets/controls",
            "_model_module_version": "1.5.0",
            "_model_name": "HTMLModel",
            "_view_count": null,
            "_view_module": "@jupyter-widgets/controls",
            "_view_module_version": "1.5.0",
            "_view_name": "HTMLView",
            "description": "",
            "description_tooltip": null,
            "layout": "IPY_MODEL_26e3c4e5f65540dc9d2d86d29de9661d",
            "placeholder": "​",
            "style": "IPY_MODEL_f7856b32fd8845828a2f640822813269",
            "value": " 446k/446k [00:00&lt;00:00, 1.24MB/s]"
          }
        },
        "6ed24f5ededd4faaa07bea978b235a96": {
          "model_module": "@jupyter-widgets/base",
          "model_name": "LayoutModel",
          "model_module_version": "1.2.0",
          "state": {
            "_model_module": "@jupyter-widgets/base",
            "_model_module_version": "1.2.0",
            "_model_name": "LayoutModel",
            "_view_count": null,
            "_view_module": "@jupyter-widgets/base",
            "_view_module_version": "1.2.0",
            "_view_name": "LayoutView",
            "align_content": null,
            "align_items": null,
            "align_self": null,
            "border": null,
            "bottom": null,
            "display": null,
            "flex": null,
            "flex_flow": null,
            "grid_area": null,
            "grid_auto_columns": null,
            "grid_auto_flow": null,
            "grid_auto_rows": null,
            "grid_column": null,
            "grid_gap": null,
            "grid_row": null,
            "grid_template_areas": null,
            "grid_template_columns": null,
            "grid_template_rows": null,
            "height": null,
            "justify_content": null,
            "justify_items": null,
            "left": null,
            "margin": null,
            "max_height": null,
            "max_width": null,
            "min_height": null,
            "min_width": null,
            "object_fit": null,
            "object_position": null,
            "order": null,
            "overflow": null,
            "overflow_x": null,
            "overflow_y": null,
            "padding": null,
            "right": null,
            "top": null,
            "visibility": null,
            "width": null
          }
        },
        "465874f3883640c282215aa6047b69e9": {
          "model_module": "@jupyter-widgets/base",
          "model_name": "LayoutModel",
          "model_module_version": "1.2.0",
          "state": {
            "_model_module": "@jupyter-widgets/base",
            "_model_module_version": "1.2.0",
            "_model_name": "LayoutModel",
            "_view_count": null,
            "_view_module": "@jupyter-widgets/base",
            "_view_module_version": "1.2.0",
            "_view_name": "LayoutView",
            "align_content": null,
            "align_items": null,
            "align_self": null,
            "border": null,
            "bottom": null,
            "display": null,
            "flex": null,
            "flex_flow": null,
            "grid_area": null,
            "grid_auto_columns": null,
            "grid_auto_flow": null,
            "grid_auto_rows": null,
            "grid_column": null,
            "grid_gap": null,
            "grid_row": null,
            "grid_template_areas": null,
            "grid_template_columns": null,
            "grid_template_rows": null,
            "height": null,
            "justify_content": null,
            "justify_items": null,
            "left": null,
            "margin": null,
            "max_height": null,
            "max_width": null,
            "min_height": null,
            "min_width": null,
            "object_fit": null,
            "object_position": null,
            "order": null,
            "overflow": null,
            "overflow_x": null,
            "overflow_y": null,
            "padding": null,
            "right": null,
            "top": null,
            "visibility": null,
            "width": null
          }
        },
        "b4100d9037b94e8ebe590ca9ef99c4f3": {
          "model_module": "@jupyter-widgets/controls",
          "model_name": "DescriptionStyleModel",
          "model_module_version": "1.5.0",
          "state": {
            "_model_module": "@jupyter-widgets/controls",
            "_model_module_version": "1.5.0",
            "_model_name": "DescriptionStyleModel",
            "_view_count": null,
            "_view_module": "@jupyter-widgets/base",
            "_view_module_version": "1.2.0",
            "_view_name": "StyleView",
            "description_width": ""
          }
        },
        "d5e97333064d4a77ae77e5c2f1e01e3b": {
          "model_module": "@jupyter-widgets/base",
          "model_name": "LayoutModel",
          "model_module_version": "1.2.0",
          "state": {
            "_model_module": "@jupyter-widgets/base",
            "_model_module_version": "1.2.0",
            "_model_name": "LayoutModel",
            "_view_count": null,
            "_view_module": "@jupyter-widgets/base",
            "_view_module_version": "1.2.0",
            "_view_name": "LayoutView",
            "align_content": null,
            "align_items": null,
            "align_self": null,
            "border": null,
            "bottom": null,
            "display": null,
            "flex": null,
            "flex_flow": null,
            "grid_area": null,
            "grid_auto_columns": null,
            "grid_auto_flow": null,
            "grid_auto_rows": null,
            "grid_column": null,
            "grid_gap": null,
            "grid_row": null,
            "grid_template_areas": null,
            "grid_template_columns": null,
            "grid_template_rows": null,
            "height": null,
            "justify_content": null,
            "justify_items": null,
            "left": null,
            "margin": null,
            "max_height": null,
            "max_width": null,
            "min_height": null,
            "min_width": null,
            "object_fit": null,
            "object_position": null,
            "order": null,
            "overflow": null,
            "overflow_x": null,
            "overflow_y": null,
            "padding": null,
            "right": null,
            "top": null,
            "visibility": null,
            "width": null
          }
        },
        "7be76931804b4736b3ed33db991d3319": {
          "model_module": "@jupyter-widgets/controls",
          "model_name": "ProgressStyleModel",
          "model_module_version": "1.5.0",
          "state": {
            "_model_module": "@jupyter-widgets/controls",
            "_model_module_version": "1.5.0",
            "_model_name": "ProgressStyleModel",
            "_view_count": null,
            "_view_module": "@jupyter-widgets/base",
            "_view_module_version": "1.2.0",
            "_view_name": "StyleView",
            "bar_color": null,
            "description_width": ""
          }
        },
        "26e3c4e5f65540dc9d2d86d29de9661d": {
          "model_module": "@jupyter-widgets/base",
          "model_name": "LayoutModel",
          "model_module_version": "1.2.0",
          "state": {
            "_model_module": "@jupyter-widgets/base",
            "_model_module_version": "1.2.0",
            "_model_name": "LayoutModel",
            "_view_count": null,
            "_view_module": "@jupyter-widgets/base",
            "_view_module_version": "1.2.0",
            "_view_name": "LayoutView",
            "align_content": null,
            "align_items": null,
            "align_self": null,
            "border": null,
            "bottom": null,
            "display": null,
            "flex": null,
            "flex_flow": null,
            "grid_area": null,
            "grid_auto_columns": null,
            "grid_auto_flow": null,
            "grid_auto_rows": null,
            "grid_column": null,
            "grid_gap": null,
            "grid_row": null,
            "grid_template_areas": null,
            "grid_template_columns": null,
            "grid_template_rows": null,
            "height": null,
            "justify_content": null,
            "justify_items": null,
            "left": null,
            "margin": null,
            "max_height": null,
            "max_width": null,
            "min_height": null,
            "min_width": null,
            "object_fit": null,
            "object_position": null,
            "order": null,
            "overflow": null,
            "overflow_x": null,
            "overflow_y": null,
            "padding": null,
            "right": null,
            "top": null,
            "visibility": null,
            "width": null
          }
        },
        "f7856b32fd8845828a2f640822813269": {
          "model_module": "@jupyter-widgets/controls",
          "model_name": "DescriptionStyleModel",
          "model_module_version": "1.5.0",
          "state": {
            "_model_module": "@jupyter-widgets/controls",
            "_model_module_version": "1.5.0",
            "_model_name": "DescriptionStyleModel",
            "_view_count": null,
            "_view_module": "@jupyter-widgets/base",
            "_view_module_version": "1.2.0",
            "_view_name": "StyleView",
            "description_width": ""
          }
        },
        "7a2e1ac50a7b4af189d82c82eaba4268": {
          "model_module": "@jupyter-widgets/controls",
          "model_name": "HBoxModel",
          "model_module_version": "1.5.0",
          "state": {
            "_dom_classes": [],
            "_model_module": "@jupyter-widgets/controls",
            "_model_module_version": "1.5.0",
            "_model_name": "HBoxModel",
            "_view_count": null,
            "_view_module": "@jupyter-widgets/controls",
            "_view_module_version": "1.5.0",
            "_view_name": "HBoxView",
            "box_style": "",
            "children": [
              "IPY_MODEL_573e9e556d5c4157bfa8fd5af49cba55",
              "IPY_MODEL_74096f0f752d4a8c810639e1579478e6",
              "IPY_MODEL_d5b9ace53b1543f6b21fae3e66fcf85c"
            ],
            "layout": "IPY_MODEL_8bbe8ef4939545b694583f87680ccfb0"
          }
        },
        "573e9e556d5c4157bfa8fd5af49cba55": {
          "model_module": "@jupyter-widgets/controls",
          "model_name": "HTMLModel",
          "model_module_version": "1.5.0",
          "state": {
            "_dom_classes": [],
            "_model_module": "@jupyter-widgets/controls",
            "_model_module_version": "1.5.0",
            "_model_name": "HTMLModel",
            "_view_count": null,
            "_view_module": "@jupyter-widgets/controls",
            "_view_module_version": "1.5.0",
            "_view_name": "HTMLView",
            "description": "",
            "description_tooltip": null,
            "layout": "IPY_MODEL_340e103607ea473faefde60f88e34edd",
            "placeholder": "​",
            "style": "IPY_MODEL_e31f2120d38f4358a9e6db5ee10916a8",
            "value": "Downloading: 100%"
          }
        },
        "74096f0f752d4a8c810639e1579478e6": {
          "model_module": "@jupyter-widgets/controls",
          "model_name": "FloatProgressModel",
          "model_module_version": "1.5.0",
          "state": {
            "_dom_classes": [],
            "_model_module": "@jupyter-widgets/controls",
            "_model_module_version": "1.5.0",
            "_model_name": "FloatProgressModel",
            "_view_count": null,
            "_view_module": "@jupyter-widgets/controls",
            "_view_module_version": "1.5.0",
            "_view_name": "ProgressView",
            "bar_style": "success",
            "description": "",
            "description_tooltip": null,
            "layout": "IPY_MODEL_0dd4de1b26bf4f2ebe25a1540e0680d5",
            "max": 150,
            "min": 0,
            "orientation": "horizontal",
            "style": "IPY_MODEL_5e81f93b13d648cc8adfe80466e97290",
            "value": 150
          }
        },
        "d5b9ace53b1543f6b21fae3e66fcf85c": {
          "model_module": "@jupyter-widgets/controls",
          "model_name": "HTMLModel",
          "model_module_version": "1.5.0",
          "state": {
            "_dom_classes": [],
            "_model_module": "@jupyter-widgets/controls",
            "_model_module_version": "1.5.0",
            "_model_name": "HTMLModel",
            "_view_count": null,
            "_view_module": "@jupyter-widgets/controls",
            "_view_module_version": "1.5.0",
            "_view_name": "HTMLView",
            "description": "",
            "description_tooltip": null,
            "layout": "IPY_MODEL_555388749cfd4bd3906074b9cd7f950c",
            "placeholder": "​",
            "style": "IPY_MODEL_8e3dbbc5071e4c9eb5601810f8cbe43b",
            "value": " 150/150 [00:00&lt;00:00, 2.71kB/s]"
          }
        },
        "8bbe8ef4939545b694583f87680ccfb0": {
          "model_module": "@jupyter-widgets/base",
          "model_name": "LayoutModel",
          "model_module_version": "1.2.0",
          "state": {
            "_model_module": "@jupyter-widgets/base",
            "_model_module_version": "1.2.0",
            "_model_name": "LayoutModel",
            "_view_count": null,
            "_view_module": "@jupyter-widgets/base",
            "_view_module_version": "1.2.0",
            "_view_name": "LayoutView",
            "align_content": null,
            "align_items": null,
            "align_self": null,
            "border": null,
            "bottom": null,
            "display": null,
            "flex": null,
            "flex_flow": null,
            "grid_area": null,
            "grid_auto_columns": null,
            "grid_auto_flow": null,
            "grid_auto_rows": null,
            "grid_column": null,
            "grid_gap": null,
            "grid_row": null,
            "grid_template_areas": null,
            "grid_template_columns": null,
            "grid_template_rows": null,
            "height": null,
            "justify_content": null,
            "justify_items": null,
            "left": null,
            "margin": null,
            "max_height": null,
            "max_width": null,
            "min_height": null,
            "min_width": null,
            "object_fit": null,
            "object_position": null,
            "order": null,
            "overflow": null,
            "overflow_x": null,
            "overflow_y": null,
            "padding": null,
            "right": null,
            "top": null,
            "visibility": null,
            "width": null
          }
        },
        "340e103607ea473faefde60f88e34edd": {
          "model_module": "@jupyter-widgets/base",
          "model_name": "LayoutModel",
          "model_module_version": "1.2.0",
          "state": {
            "_model_module": "@jupyter-widgets/base",
            "_model_module_version": "1.2.0",
            "_model_name": "LayoutModel",
            "_view_count": null,
            "_view_module": "@jupyter-widgets/base",
            "_view_module_version": "1.2.0",
            "_view_name": "LayoutView",
            "align_content": null,
            "align_items": null,
            "align_self": null,
            "border": null,
            "bottom": null,
            "display": null,
            "flex": null,
            "flex_flow": null,
            "grid_area": null,
            "grid_auto_columns": null,
            "grid_auto_flow": null,
            "grid_auto_rows": null,
            "grid_column": null,
            "grid_gap": null,
            "grid_row": null,
            "grid_template_areas": null,
            "grid_template_columns": null,
            "grid_template_rows": null,
            "height": null,
            "justify_content": null,
            "justify_items": null,
            "left": null,
            "margin": null,
            "max_height": null,
            "max_width": null,
            "min_height": null,
            "min_width": null,
            "object_fit": null,
            "object_position": null,
            "order": null,
            "overflow": null,
            "overflow_x": null,
            "overflow_y": null,
            "padding": null,
            "right": null,
            "top": null,
            "visibility": null,
            "width": null
          }
        },
        "e31f2120d38f4358a9e6db5ee10916a8": {
          "model_module": "@jupyter-widgets/controls",
          "model_name": "DescriptionStyleModel",
          "model_module_version": "1.5.0",
          "state": {
            "_model_module": "@jupyter-widgets/controls",
            "_model_module_version": "1.5.0",
            "_model_name": "DescriptionStyleModel",
            "_view_count": null,
            "_view_module": "@jupyter-widgets/base",
            "_view_module_version": "1.2.0",
            "_view_name": "StyleView",
            "description_width": ""
          }
        },
        "0dd4de1b26bf4f2ebe25a1540e0680d5": {
          "model_module": "@jupyter-widgets/base",
          "model_name": "LayoutModel",
          "model_module_version": "1.2.0",
          "state": {
            "_model_module": "@jupyter-widgets/base",
            "_model_module_version": "1.2.0",
            "_model_name": "LayoutModel",
            "_view_count": null,
            "_view_module": "@jupyter-widgets/base",
            "_view_module_version": "1.2.0",
            "_view_name": "LayoutView",
            "align_content": null,
            "align_items": null,
            "align_self": null,
            "border": null,
            "bottom": null,
            "display": null,
            "flex": null,
            "flex_flow": null,
            "grid_area": null,
            "grid_auto_columns": null,
            "grid_auto_flow": null,
            "grid_auto_rows": null,
            "grid_column": null,
            "grid_gap": null,
            "grid_row": null,
            "grid_template_areas": null,
            "grid_template_columns": null,
            "grid_template_rows": null,
            "height": null,
            "justify_content": null,
            "justify_items": null,
            "left": null,
            "margin": null,
            "max_height": null,
            "max_width": null,
            "min_height": null,
            "min_width": null,
            "object_fit": null,
            "object_position": null,
            "order": null,
            "overflow": null,
            "overflow_x": null,
            "overflow_y": null,
            "padding": null,
            "right": null,
            "top": null,
            "visibility": null,
            "width": null
          }
        },
        "5e81f93b13d648cc8adfe80466e97290": {
          "model_module": "@jupyter-widgets/controls",
          "model_name": "ProgressStyleModel",
          "model_module_version": "1.5.0",
          "state": {
            "_model_module": "@jupyter-widgets/controls",
            "_model_module_version": "1.5.0",
            "_model_name": "ProgressStyleModel",
            "_view_count": null,
            "_view_module": "@jupyter-widgets/base",
            "_view_module_version": "1.2.0",
            "_view_name": "StyleView",
            "bar_color": null,
            "description_width": ""
          }
        },
        "555388749cfd4bd3906074b9cd7f950c": {
          "model_module": "@jupyter-widgets/base",
          "model_name": "LayoutModel",
          "model_module_version": "1.2.0",
          "state": {
            "_model_module": "@jupyter-widgets/base",
            "_model_module_version": "1.2.0",
            "_model_name": "LayoutModel",
            "_view_count": null,
            "_view_module": "@jupyter-widgets/base",
            "_view_module_version": "1.2.0",
            "_view_name": "LayoutView",
            "align_content": null,
            "align_items": null,
            "align_self": null,
            "border": null,
            "bottom": null,
            "display": null,
            "flex": null,
            "flex_flow": null,
            "grid_area": null,
            "grid_auto_columns": null,
            "grid_auto_flow": null,
            "grid_auto_rows": null,
            "grid_column": null,
            "grid_gap": null,
            "grid_row": null,
            "grid_template_areas": null,
            "grid_template_columns": null,
            "grid_template_rows": null,
            "height": null,
            "justify_content": null,
            "justify_items": null,
            "left": null,
            "margin": null,
            "max_height": null,
            "max_width": null,
            "min_height": null,
            "min_width": null,
            "object_fit": null,
            "object_position": null,
            "order": null,
            "overflow": null,
            "overflow_x": null,
            "overflow_y": null,
            "padding": null,
            "right": null,
            "top": null,
            "visibility": null,
            "width": null
          }
        },
        "8e3dbbc5071e4c9eb5601810f8cbe43b": {
          "model_module": "@jupyter-widgets/controls",
          "model_name": "DescriptionStyleModel",
          "model_module_version": "1.5.0",
          "state": {
            "_model_module": "@jupyter-widgets/controls",
            "_model_module_version": "1.5.0",
            "_model_name": "DescriptionStyleModel",
            "_view_count": null,
            "_view_module": "@jupyter-widgets/base",
            "_view_module_version": "1.2.0",
            "_view_name": "StyleView",
            "description_width": ""
          }
        },
        "c6f6936a11a94675971fa79620217f0f": {
          "model_module": "@jupyter-widgets/controls",
          "model_name": "HBoxModel",
          "model_module_version": "1.5.0",
          "state": {
            "_dom_classes": [],
            "_model_module": "@jupyter-widgets/controls",
            "_model_module_version": "1.5.0",
            "_model_name": "HBoxModel",
            "_view_count": null,
            "_view_module": "@jupyter-widgets/controls",
            "_view_module_version": "1.5.0",
            "_view_name": "HBoxView",
            "box_style": "",
            "children": [
              "IPY_MODEL_fcf680c958e5464687c66531ba278f41",
              "IPY_MODEL_502c26dd80f44fd3b88fb12a318d4373",
              "IPY_MODEL_e04f9d54539a401c9be2b21fe61c2e74"
            ],
            "layout": "IPY_MODEL_4363a09da0ef4050b70dcdae779adf71"
          }
        },
        "fcf680c958e5464687c66531ba278f41": {
          "model_module": "@jupyter-widgets/controls",
          "model_name": "HTMLModel",
          "model_module_version": "1.5.0",
          "state": {
            "_dom_classes": [],
            "_model_module": "@jupyter-widgets/controls",
            "_model_module_version": "1.5.0",
            "_model_name": "HTMLModel",
            "_view_count": null,
            "_view_module": "@jupyter-widgets/controls",
            "_view_module_version": "1.5.0",
            "_view_name": "HTMLView",
            "description": "",
            "description_tooltip": null,
            "layout": "IPY_MODEL_b65e8f2b90a743b3b6c241a2414ee5f3",
            "placeholder": "​",
            "style": "IPY_MODEL_575a5aa40b7c4094bc146927b2df1601",
            "value": "100%"
          }
        },
        "502c26dd80f44fd3b88fb12a318d4373": {
          "model_module": "@jupyter-widgets/controls",
          "model_name": "FloatProgressModel",
          "model_module_version": "1.5.0",
          "state": {
            "_dom_classes": [],
            "_model_module": "@jupyter-widgets/controls",
            "_model_module_version": "1.5.0",
            "_model_name": "FloatProgressModel",
            "_view_count": null,
            "_view_module": "@jupyter-widgets/controls",
            "_view_module_version": "1.5.0",
            "_view_name": "ProgressView",
            "bar_style": "success",
            "description": "",
            "description_tooltip": null,
            "layout": "IPY_MODEL_f1fb3e39102f4bb0911887b15f7129f0",
            "max": 4,
            "min": 0,
            "orientation": "horizontal",
            "style": "IPY_MODEL_02e187ea1b6647eab9fbe118ef9e649c",
            "value": 4
          }
        },
        "e04f9d54539a401c9be2b21fe61c2e74": {
          "model_module": "@jupyter-widgets/controls",
          "model_name": "HTMLModel",
          "model_module_version": "1.5.0",
          "state": {
            "_dom_classes": [],
            "_model_module": "@jupyter-widgets/controls",
            "_model_module_version": "1.5.0",
            "_model_name": "HTMLModel",
            "_view_count": null,
            "_view_module": "@jupyter-widgets/controls",
            "_view_module_version": "1.5.0",
            "_view_name": "HTMLView",
            "description": "",
            "description_tooltip": null,
            "layout": "IPY_MODEL_db225aedecdf4f919cb641d7542b7d44",
            "placeholder": "​",
            "style": "IPY_MODEL_1a1a56520c3e4a63af81b8708f037f49",
            "value": " 4/4 [00:00&lt;00:00, 77.58ex/s]"
          }
        },
        "4363a09da0ef4050b70dcdae779adf71": {
          "model_module": "@jupyter-widgets/base",
          "model_name": "LayoutModel",
          "model_module_version": "1.2.0",
          "state": {
            "_model_module": "@jupyter-widgets/base",
            "_model_module_version": "1.2.0",
            "_model_name": "LayoutModel",
            "_view_count": null,
            "_view_module": "@jupyter-widgets/base",
            "_view_module_version": "1.2.0",
            "_view_name": "LayoutView",
            "align_content": null,
            "align_items": null,
            "align_self": null,
            "border": null,
            "bottom": null,
            "display": null,
            "flex": null,
            "flex_flow": null,
            "grid_area": null,
            "grid_auto_columns": null,
            "grid_auto_flow": null,
            "grid_auto_rows": null,
            "grid_column": null,
            "grid_gap": null,
            "grid_row": null,
            "grid_template_areas": null,
            "grid_template_columns": null,
            "grid_template_rows": null,
            "height": null,
            "justify_content": null,
            "justify_items": null,
            "left": null,
            "margin": null,
            "max_height": null,
            "max_width": null,
            "min_height": null,
            "min_width": null,
            "object_fit": null,
            "object_position": null,
            "order": null,
            "overflow": null,
            "overflow_x": null,
            "overflow_y": null,
            "padding": null,
            "right": null,
            "top": null,
            "visibility": null,
            "width": null
          }
        },
        "b65e8f2b90a743b3b6c241a2414ee5f3": {
          "model_module": "@jupyter-widgets/base",
          "model_name": "LayoutModel",
          "model_module_version": "1.2.0",
          "state": {
            "_model_module": "@jupyter-widgets/base",
            "_model_module_version": "1.2.0",
            "_model_name": "LayoutModel",
            "_view_count": null,
            "_view_module": "@jupyter-widgets/base",
            "_view_module_version": "1.2.0",
            "_view_name": "LayoutView",
            "align_content": null,
            "align_items": null,
            "align_self": null,
            "border": null,
            "bottom": null,
            "display": null,
            "flex": null,
            "flex_flow": null,
            "grid_area": null,
            "grid_auto_columns": null,
            "grid_auto_flow": null,
            "grid_auto_rows": null,
            "grid_column": null,
            "grid_gap": null,
            "grid_row": null,
            "grid_template_areas": null,
            "grid_template_columns": null,
            "grid_template_rows": null,
            "height": null,
            "justify_content": null,
            "justify_items": null,
            "left": null,
            "margin": null,
            "max_height": null,
            "max_width": null,
            "min_height": null,
            "min_width": null,
            "object_fit": null,
            "object_position": null,
            "order": null,
            "overflow": null,
            "overflow_x": null,
            "overflow_y": null,
            "padding": null,
            "right": null,
            "top": null,
            "visibility": null,
            "width": null
          }
        },
        "575a5aa40b7c4094bc146927b2df1601": {
          "model_module": "@jupyter-widgets/controls",
          "model_name": "DescriptionStyleModel",
          "model_module_version": "1.5.0",
          "state": {
            "_model_module": "@jupyter-widgets/controls",
            "_model_module_version": "1.5.0",
            "_model_name": "DescriptionStyleModel",
            "_view_count": null,
            "_view_module": "@jupyter-widgets/base",
            "_view_module_version": "1.2.0",
            "_view_name": "StyleView",
            "description_width": ""
          }
        },
        "f1fb3e39102f4bb0911887b15f7129f0": {
          "model_module": "@jupyter-widgets/base",
          "model_name": "LayoutModel",
          "model_module_version": "1.2.0",
          "state": {
            "_model_module": "@jupyter-widgets/base",
            "_model_module_version": "1.2.0",
            "_model_name": "LayoutModel",
            "_view_count": null,
            "_view_module": "@jupyter-widgets/base",
            "_view_module_version": "1.2.0",
            "_view_name": "LayoutView",
            "align_content": null,
            "align_items": null,
            "align_self": null,
            "border": null,
            "bottom": null,
            "display": null,
            "flex": null,
            "flex_flow": null,
            "grid_area": null,
            "grid_auto_columns": null,
            "grid_auto_flow": null,
            "grid_auto_rows": null,
            "grid_column": null,
            "grid_gap": null,
            "grid_row": null,
            "grid_template_areas": null,
            "grid_template_columns": null,
            "grid_template_rows": null,
            "height": null,
            "justify_content": null,
            "justify_items": null,
            "left": null,
            "margin": null,
            "max_height": null,
            "max_width": null,
            "min_height": null,
            "min_width": null,
            "object_fit": null,
            "object_position": null,
            "order": null,
            "overflow": null,
            "overflow_x": null,
            "overflow_y": null,
            "padding": null,
            "right": null,
            "top": null,
            "visibility": null,
            "width": null
          }
        },
        "02e187ea1b6647eab9fbe118ef9e649c": {
          "model_module": "@jupyter-widgets/controls",
          "model_name": "ProgressStyleModel",
          "model_module_version": "1.5.0",
          "state": {
            "_model_module": "@jupyter-widgets/controls",
            "_model_module_version": "1.5.0",
            "_model_name": "ProgressStyleModel",
            "_view_count": null,
            "_view_module": "@jupyter-widgets/base",
            "_view_module_version": "1.2.0",
            "_view_name": "StyleView",
            "bar_color": null,
            "description_width": ""
          }
        },
        "db225aedecdf4f919cb641d7542b7d44": {
          "model_module": "@jupyter-widgets/base",
          "model_name": "LayoutModel",
          "model_module_version": "1.2.0",
          "state": {
            "_model_module": "@jupyter-widgets/base",
            "_model_module_version": "1.2.0",
            "_model_name": "LayoutModel",
            "_view_count": null,
            "_view_module": "@jupyter-widgets/base",
            "_view_module_version": "1.2.0",
            "_view_name": "LayoutView",
            "align_content": null,
            "align_items": null,
            "align_self": null,
            "border": null,
            "bottom": null,
            "display": null,
            "flex": null,
            "flex_flow": null,
            "grid_area": null,
            "grid_auto_columns": null,
            "grid_auto_flow": null,
            "grid_auto_rows": null,
            "grid_column": null,
            "grid_gap": null,
            "grid_row": null,
            "grid_template_areas": null,
            "grid_template_columns": null,
            "grid_template_rows": null,
            "height": null,
            "justify_content": null,
            "justify_items": null,
            "left": null,
            "margin": null,
            "max_height": null,
            "max_width": null,
            "min_height": null,
            "min_width": null,
            "object_fit": null,
            "object_position": null,
            "order": null,
            "overflow": null,
            "overflow_x": null,
            "overflow_y": null,
            "padding": null,
            "right": null,
            "top": null,
            "visibility": null,
            "width": null
          }
        },
        "1a1a56520c3e4a63af81b8708f037f49": {
          "model_module": "@jupyter-widgets/controls",
          "model_name": "DescriptionStyleModel",
          "model_module_version": "1.5.0",
          "state": {
            "_model_module": "@jupyter-widgets/controls",
            "_model_module_version": "1.5.0",
            "_model_name": "DescriptionStyleModel",
            "_view_count": null,
            "_view_module": "@jupyter-widgets/base",
            "_view_module_version": "1.2.0",
            "_view_name": "StyleView",
            "description_width": ""
          }
        },
        "d67fee3b80c9483db23563d660489966": {
          "model_module": "@jupyter-widgets/controls",
          "model_name": "HBoxModel",
          "model_module_version": "1.5.0",
          "state": {
            "_dom_classes": [],
            "_model_module": "@jupyter-widgets/controls",
            "_model_module_version": "1.5.0",
            "_model_name": "HBoxModel",
            "_view_count": null,
            "_view_module": "@jupyter-widgets/controls",
            "_view_module_version": "1.5.0",
            "_view_name": "HBoxView",
            "box_style": "",
            "children": [
              "IPY_MODEL_b3043c5ed59a4f9f92cac1f5dec81bff",
              "IPY_MODEL_9e3ac0b7be7b499c9e67a8b689b546c2",
              "IPY_MODEL_11e01b08da05486a996e2a93dbbcbef3"
            ],
            "layout": "IPY_MODEL_2a821f3cba14489aa966116e266d2094"
          }
        },
        "b3043c5ed59a4f9f92cac1f5dec81bff": {
          "model_module": "@jupyter-widgets/controls",
          "model_name": "HTMLModel",
          "model_module_version": "1.5.0",
          "state": {
            "_dom_classes": [],
            "_model_module": "@jupyter-widgets/controls",
            "_model_module_version": "1.5.0",
            "_model_name": "HTMLModel",
            "_view_count": null,
            "_view_module": "@jupyter-widgets/controls",
            "_view_module_version": "1.5.0",
            "_view_name": "HTMLView",
            "description": "",
            "description_tooltip": null,
            "layout": "IPY_MODEL_cf407675bbaf4eb3a0fdcd3cb3170fdd",
            "placeholder": "​",
            "style": "IPY_MODEL_b1c24eeef56b4e199effaa71d645b3b4",
            "value": "100%"
          }
        },
        "9e3ac0b7be7b499c9e67a8b689b546c2": {
          "model_module": "@jupyter-widgets/controls",
          "model_name": "FloatProgressModel",
          "model_module_version": "1.5.0",
          "state": {
            "_dom_classes": [],
            "_model_module": "@jupyter-widgets/controls",
            "_model_module_version": "1.5.0",
            "_model_name": "FloatProgressModel",
            "_view_count": null,
            "_view_module": "@jupyter-widgets/controls",
            "_view_module_version": "1.5.0",
            "_view_name": "ProgressView",
            "bar_style": "success",
            "description": "",
            "description_tooltip": null,
            "layout": "IPY_MODEL_f15628e69939480b96e5d63b28be5bce",
            "max": 1,
            "min": 0,
            "orientation": "horizontal",
            "style": "IPY_MODEL_b0295c0f9614444798da149193e71053",
            "value": 1
          }
        },
        "11e01b08da05486a996e2a93dbbcbef3": {
          "model_module": "@jupyter-widgets/controls",
          "model_name": "HTMLModel",
          "model_module_version": "1.5.0",
          "state": {
            "_dom_classes": [],
            "_model_module": "@jupyter-widgets/controls",
            "_model_module_version": "1.5.0",
            "_model_name": "HTMLModel",
            "_view_count": null,
            "_view_module": "@jupyter-widgets/controls",
            "_view_module_version": "1.5.0",
            "_view_name": "HTMLView",
            "description": "",
            "description_tooltip": null,
            "layout": "IPY_MODEL_01a47380ae1c4379acb49c6b52b44d83",
            "placeholder": "​",
            "style": "IPY_MODEL_94535fa8a5b5473b9de175106ac05618",
            "value": " 1/1 [00:00&lt;00:00, 23.76ba/s]"
          }
        },
        "2a821f3cba14489aa966116e266d2094": {
          "model_module": "@jupyter-widgets/base",
          "model_name": "LayoutModel",
          "model_module_version": "1.2.0",
          "state": {
            "_model_module": "@jupyter-widgets/base",
            "_model_module_version": "1.2.0",
            "_model_name": "LayoutModel",
            "_view_count": null,
            "_view_module": "@jupyter-widgets/base",
            "_view_module_version": "1.2.0",
            "_view_name": "LayoutView",
            "align_content": null,
            "align_items": null,
            "align_self": null,
            "border": null,
            "bottom": null,
            "display": null,
            "flex": null,
            "flex_flow": null,
            "grid_area": null,
            "grid_auto_columns": null,
            "grid_auto_flow": null,
            "grid_auto_rows": null,
            "grid_column": null,
            "grid_gap": null,
            "grid_row": null,
            "grid_template_areas": null,
            "grid_template_columns": null,
            "grid_template_rows": null,
            "height": null,
            "justify_content": null,
            "justify_items": null,
            "left": null,
            "margin": null,
            "max_height": null,
            "max_width": null,
            "min_height": null,
            "min_width": null,
            "object_fit": null,
            "object_position": null,
            "order": null,
            "overflow": null,
            "overflow_x": null,
            "overflow_y": null,
            "padding": null,
            "right": null,
            "top": null,
            "visibility": null,
            "width": null
          }
        },
        "cf407675bbaf4eb3a0fdcd3cb3170fdd": {
          "model_module": "@jupyter-widgets/base",
          "model_name": "LayoutModel",
          "model_module_version": "1.2.0",
          "state": {
            "_model_module": "@jupyter-widgets/base",
            "_model_module_version": "1.2.0",
            "_model_name": "LayoutModel",
            "_view_count": null,
            "_view_module": "@jupyter-widgets/base",
            "_view_module_version": "1.2.0",
            "_view_name": "LayoutView",
            "align_content": null,
            "align_items": null,
            "align_self": null,
            "border": null,
            "bottom": null,
            "display": null,
            "flex": null,
            "flex_flow": null,
            "grid_area": null,
            "grid_auto_columns": null,
            "grid_auto_flow": null,
            "grid_auto_rows": null,
            "grid_column": null,
            "grid_gap": null,
            "grid_row": null,
            "grid_template_areas": null,
            "grid_template_columns": null,
            "grid_template_rows": null,
            "height": null,
            "justify_content": null,
            "justify_items": null,
            "left": null,
            "margin": null,
            "max_height": null,
            "max_width": null,
            "min_height": null,
            "min_width": null,
            "object_fit": null,
            "object_position": null,
            "order": null,
            "overflow": null,
            "overflow_x": null,
            "overflow_y": null,
            "padding": null,
            "right": null,
            "top": null,
            "visibility": null,
            "width": null
          }
        },
        "b1c24eeef56b4e199effaa71d645b3b4": {
          "model_module": "@jupyter-widgets/controls",
          "model_name": "DescriptionStyleModel",
          "model_module_version": "1.5.0",
          "state": {
            "_model_module": "@jupyter-widgets/controls",
            "_model_module_version": "1.5.0",
            "_model_name": "DescriptionStyleModel",
            "_view_count": null,
            "_view_module": "@jupyter-widgets/base",
            "_view_module_version": "1.2.0",
            "_view_name": "StyleView",
            "description_width": ""
          }
        },
        "f15628e69939480b96e5d63b28be5bce": {
          "model_module": "@jupyter-widgets/base",
          "model_name": "LayoutModel",
          "model_module_version": "1.2.0",
          "state": {
            "_model_module": "@jupyter-widgets/base",
            "_model_module_version": "1.2.0",
            "_model_name": "LayoutModel",
            "_view_count": null,
            "_view_module": "@jupyter-widgets/base",
            "_view_module_version": "1.2.0",
            "_view_name": "LayoutView",
            "align_content": null,
            "align_items": null,
            "align_self": null,
            "border": null,
            "bottom": null,
            "display": null,
            "flex": null,
            "flex_flow": null,
            "grid_area": null,
            "grid_auto_columns": null,
            "grid_auto_flow": null,
            "grid_auto_rows": null,
            "grid_column": null,
            "grid_gap": null,
            "grid_row": null,
            "grid_template_areas": null,
            "grid_template_columns": null,
            "grid_template_rows": null,
            "height": null,
            "justify_content": null,
            "justify_items": null,
            "left": null,
            "margin": null,
            "max_height": null,
            "max_width": null,
            "min_height": null,
            "min_width": null,
            "object_fit": null,
            "object_position": null,
            "order": null,
            "overflow": null,
            "overflow_x": null,
            "overflow_y": null,
            "padding": null,
            "right": null,
            "top": null,
            "visibility": null,
            "width": null
          }
        },
        "b0295c0f9614444798da149193e71053": {
          "model_module": "@jupyter-widgets/controls",
          "model_name": "ProgressStyleModel",
          "model_module_version": "1.5.0",
          "state": {
            "_model_module": "@jupyter-widgets/controls",
            "_model_module_version": "1.5.0",
            "_model_name": "ProgressStyleModel",
            "_view_count": null,
            "_view_module": "@jupyter-widgets/base",
            "_view_module_version": "1.2.0",
            "_view_name": "StyleView",
            "bar_color": null,
            "description_width": ""
          }
        },
        "01a47380ae1c4379acb49c6b52b44d83": {
          "model_module": "@jupyter-widgets/base",
          "model_name": "LayoutModel",
          "model_module_version": "1.2.0",
          "state": {
            "_model_module": "@jupyter-widgets/base",
            "_model_module_version": "1.2.0",
            "_model_name": "LayoutModel",
            "_view_count": null,
            "_view_module": "@jupyter-widgets/base",
            "_view_module_version": "1.2.0",
            "_view_name": "LayoutView",
            "align_content": null,
            "align_items": null,
            "align_self": null,
            "border": null,
            "bottom": null,
            "display": null,
            "flex": null,
            "flex_flow": null,
            "grid_area": null,
            "grid_auto_columns": null,
            "grid_auto_flow": null,
            "grid_auto_rows": null,
            "grid_column": null,
            "grid_gap": null,
            "grid_row": null,
            "grid_template_areas": null,
            "grid_template_columns": null,
            "grid_template_rows": null,
            "height": null,
            "justify_content": null,
            "justify_items": null,
            "left": null,
            "margin": null,
            "max_height": null,
            "max_width": null,
            "min_height": null,
            "min_width": null,
            "object_fit": null,
            "object_position": null,
            "order": null,
            "overflow": null,
            "overflow_x": null,
            "overflow_y": null,
            "padding": null,
            "right": null,
            "top": null,
            "visibility": null,
            "width": null
          }
        },
        "94535fa8a5b5473b9de175106ac05618": {
          "model_module": "@jupyter-widgets/controls",
          "model_name": "DescriptionStyleModel",
          "model_module_version": "1.5.0",
          "state": {
            "_model_module": "@jupyter-widgets/controls",
            "_model_module_version": "1.5.0",
            "_model_name": "DescriptionStyleModel",
            "_view_count": null,
            "_view_module": "@jupyter-widgets/base",
            "_view_module_version": "1.2.0",
            "_view_name": "StyleView",
            "description_width": ""
          }
        }
      }
    }
  },
  "cells": [
    {
      "cell_type": "markdown",
      "metadata": {
        "id": "view-in-github",
        "colab_type": "text"
      },
      "source": [
        "<a href=\"https://colab.research.google.com/github/vanderbilt-data-science/p4ai-essentials/blob/main/3_iteration_and_tidbits_solns.ipynb\" target=\"_parent\"><img src=\"https://colab.research.google.com/assets/colab-badge.svg\" alt=\"Open In Colab\"/></a>"
      ]
    },
    {
      "cell_type": "markdown",
      "source": [
        "# Iteration and Final Tidbits\n",
        "> Rounding out our Python knowledge and tidbits for sucess with HuggingFace\n",
        "\n",
        "Welcome to our last day of our Python for AI crash course! In today's lesson, we'll cover conditional execution, iteration, and some last tidbits to knowledge to bolster your success with HuggingFace. We'll continue learning the syntax and grammar of the Python language to effectively communicate our goals to Python.\n",
        "\n",
        "In this lesson, you'll learn:\n",
        "* Communicating conditional execution syntax to Python\n",
        "* Different ways of communicating iteration to Python\n",
        "* Practice with common tools of iteration with HuggingFace\n",
        "* Tips and tricks common in the HuggingFace documentation and coursework\n",
        "\n",
        "Let's get started!\n"
      ],
      "metadata": {
        "id": "9KxyqOvROcHs"
      }
    },
    {
      "cell_type": "markdown",
      "source": [
        "# Conditional Execution\n",
        "Let's start by revisiting our oven example. Recall that our function was:\n",
        "\n",
        "```\n",
        "# A function to cook in oven\n",
        "def cook_in_oven(food_to_cook, time=25, temperature=375, rack=2):\n",
        "  '''\n",
        "  Function cook_in_oven: cooks input food based on oven parameters\n",
        "    food_to_cook: String indicating the food to be cooked\n",
        "    time (default 25): Integer of the time required to cook the food in minutes\n",
        "    temperature (default 375): Integer temperature at which food should be cooked in degrees Fahrenheit\n",
        "    rack: Integer of rack that the food should be cooked at\n",
        "\n",
        "    returns: string of food, if cooked, returns '- Cooked!' appended to the string\n",
        "  '''\n",
        "\n",
        "  #cook food, an example\n",
        "  if time>20 and temperature>215:\n",
        "    food_to_cook = food_to_cook + ' - Cooked!'\n",
        "  \n",
        "  return food_to_cook\n",
        "```\n",
        "This already has an example of conditional execution, in which a variable is only modified if conditions are met. Let's explore this at greater depth."
      ],
      "metadata": {
        "id": "p284NtdkQ5N6"
      }
    },
    {
      "cell_type": "code",
      "source": [
        "#@title Sweeping Generalizations about Recipes\n",
        "#@markdown Let us for a moment suspend disbelief and assume that\n",
        "#@markdown one can always cook certain foods at certain temperatures\n",
        "#@markdown and times and we would like to encode this programmatically.\n",
        "#@markdown Let's think about what these can be:\n",
        "\n",
        "#@markdown **Condition A** -  food is a cake:\n",
        "time = 0 #@param {type:\"integer\"}\n",
        "temp = 0 #@param {type:\"integer\"}\n",
        "\n",
        "#@markdown **Condition B** - the food is fish:\n",
        "time = 0 #@param {type:\"integer\"}\n",
        "temp = 0 #@param {type:\"integer\"}\n",
        "\n",
        "#@markdown **Condition C** - the food is casserole:\n",
        "time = 0 #@param {type:\"integer\"}\n",
        "temp = 0 #@param {type:\"integer\"}\n",
        "\n",
        "#@markdown If the food is anything else:\n",
        "time = 0 #@param {type:\"integer\"}\n",
        "temp = 0 #@param {type:\"integer\"}\n"
      ],
      "metadata": {
        "cellView": "form",
        "id": "yUnHfR7ESHJi"
      },
      "execution_count": null,
      "outputs": []
    },
    {
      "cell_type": "markdown",
      "source": [
        "## Writing conditional execution code\n",
        "What we've written above is essentially the form of one or more `if`, `if-else`, `if-elif-else` statements. The syntax for communicating conditional execution looks like so:\n",
        "\n",
        "### `if` statements\n",
        "```\n",
        "if condition:\n",
        "  #code block for if condition true\n",
        "```\n",
        "\n",
        "### `if-else` statements\n",
        "`if-else` statements allow binary, mutually exclusive decisions:\n",
        "\n",
        "```\n",
        "if condition:\n",
        "  #code block for if condition true\n",
        "else:\n",
        "  #code block for if condition false\n",
        "```\n",
        "\n",
        "### `if-elif-else` statements\n",
        "\n",
        "`if-elif-else` statements allow multiple, mutually exclusive decisions:\n",
        "```\n",
        "if condition A:\n",
        "  #code block for if condition A true\n",
        "elif condition B:\n",
        "  #code block for if condition B true\n",
        "elif condition C:\n",
        "  #code block for if condition C true\n",
        "else:\n",
        "  #code block for none of the above conditions are true\n",
        "```\n",
        "\n",
        "Let's see what this looks like for our code."
      ],
      "metadata": {
        "id": "ZDo5L8PrU_0H"
      }
    },
    {
      "cell_type": "markdown",
      "source": [
        "## Guided Exercise 1 - `if`\n",
        "Starting with the function that we had, let's ONLY consider Condition A; if only we knew about the settings for fish. Let's amend our code to set the cook and temperature times for cake foods only."
      ],
      "metadata": {
        "id": "gPHv8s1SXqbU"
      }
    },
    {
      "cell_type": "code",
      "source": [
        "# Amend code to reflect only Condition A\n",
        "def cook_in_oven_if(food_to_cook, time=20, temperature=375, rack=2):\n",
        "  '''\n",
        "  Function cook_in_oven: cooks input food based on oven parameters\n",
        "    food_to_cook: String indicating the food to be cooked\n",
        "    time (default 20): Integer of the time required to cook the food in minutes\n",
        "    temperature (default 375): Integer temperature at which food should be cooked in degrees Fahrenheit\n",
        "    rack: Integer of rack that the food should be cooked at\n",
        "\n",
        "    returns: string of food, if cooked, returns '- Cooked!' appended to the string\n",
        "  '''\n",
        "  #New code for cake\n",
        "  if 'cake' in food_to_cook:\n",
        "    time = 30\n",
        "    temperature = 350\n",
        "    print('cake cooked at', time, 'at temperature', temperature, 'for', food_to_cook)\n",
        "\n",
        "  #cook food, an example\n",
        "  if time>20 and temperature>215:\n",
        "    food_to_cook = food_to_cook + ' - Cooked!'\n",
        "\n",
        "  return food_to_cook"
      ],
      "metadata": {
        "id": "1tVFQpanYHBq"
      },
      "execution_count": 6,
      "outputs": []
    },
    {
      "cell_type": "code",
      "source": [
        "#Verify behavior\n",
        "demo_food_a = 'red velvet cake'\n",
        "print(cook_in_oven_if(demo_food_a))\n",
        "\n",
        "demo_food_b = 'lasagna'\n",
        "print(cook_in_oven_if(demo_food_b))"
      ],
      "metadata": {
        "colab": {
          "base_uri": "https://localhost:8080/"
        },
        "id": "OgiGJlPjY5LN",
        "outputId": "4afc13f9-281e-4878-fdfd-3745806995da"
      },
      "execution_count": 12,
      "outputs": [
        {
          "output_type": "stream",
          "name": "stdout",
          "text": [
            "cake cooked at 30 at temperature 350 for red velvet cake\n",
            "red velvet cake - Cooked!\n",
            "lasagna\n"
          ]
        }
      ]
    },
    {
      "cell_type": "markdown",
      "source": [
        "## Guided Exercise 2 - `if-else`\n",
        "Let's say we're unsatisfied with the code we started with and would prefer for uncooked food to have `'- NOT cooked'` appended to it. Let's change the code above to make this happen."
      ],
      "metadata": {
        "id": "VJetkAm2ZEWv"
      }
    },
    {
      "cell_type": "code",
      "source": [
        "# Amend Guided Exercise 1 code to reflect uncooked\n",
        "def cook_in_oven_if_else(food_to_cook, time=20, temperature=375, rack=2):\n",
        "  '''\n",
        "  Function cook_in_oven: cooks input food based on oven parameters\n",
        "    food_to_cook: String indicating the food to be cooked\n",
        "    time (default 20): Integer of the time required to cook the food in minutes\n",
        "    temperature (default 375): Integer temperature at which food should be cooked in degrees Fahrenheit\n",
        "    rack: Integer of rack that the food should be cooked at\n",
        "\n",
        "    returns: string of food, if cooked, returns ' - Cooked!' appended to the string, otherwise appends ' - Not Cooked!'\n",
        "  '''\n",
        "  if 'cake' in food_to_cook:\n",
        "    time = 30\n",
        "    temperature = 350\n",
        "    print('cake cooked at', time, 'at temperature', temperature, 'for', food_to_cook)\n",
        "\n",
        "  #cook food, an example\n",
        "  if time>20 and temperature>215:\n",
        "    food_to_cook = food_to_cook + ' - Cooked!'\n",
        "  else:\n",
        "    food_to_cook = food_to_cook + ' - Not Cooked!'\n",
        "\n",
        "  return food_to_cook"
      ],
      "metadata": {
        "id": "4YP4RS2uaE9z"
      },
      "execution_count": 14,
      "outputs": []
    },
    {
      "cell_type": "code",
      "source": [
        "#Verify behavior\n",
        "demo_food_a = 'red velvet cake'\n",
        "print(cook_in_oven_if_else(demo_food_a))\n",
        "\n",
        "demo_food_b = 'lasagna'\n",
        "print(cook_in_oven_if_else(demo_food_b))"
      ],
      "metadata": {
        "colab": {
          "base_uri": "https://localhost:8080/"
        },
        "id": "YPmcQAwpaRNP",
        "outputId": "ee3237ba-7c25-4718-ea9c-b978b2a15411"
      },
      "execution_count": 15,
      "outputs": [
        {
          "output_type": "stream",
          "name": "stdout",
          "text": [
            "cake cooked at 30 at temperature 350 for red velvet cake\n",
            "red velvet cake - Cooked!\n",
            "lasagna - Not Cooked!\n"
          ]
        }
      ]
    },
    {
      "cell_type": "markdown",
      "source": [
        "## Guided Exercise 3 - `if-elif-else`\n",
        "Now, let's encode our original form for cakes, fish, and casseroles."
      ],
      "metadata": {
        "id": "ISiiaFP1aiES"
      }
    },
    {
      "cell_type": "code",
      "source": [
        "# Amend Guided Exercise 2 code to reflect all foods\n",
        "def cook_in_oven_if_elif_else(food_to_cook, time=20, temperature=375, rack=2):\n",
        "  '''\n",
        "  Function cook_in_oven: cooks input food based on oven parameters\n",
        "    food_to_cook: String indicating the food to be cooked\n",
        "    time (default 20): Integer of the time required to cook the food in minutes\n",
        "    temperature (default 375): Integer temperature at which food should be cooked in degrees Fahrenheit\n",
        "    rack: Integer of rack that the food should be cooked at\n",
        "\n",
        "    returns: string of food, if cooked, returns ' - Cooked!' appended to the string, otherwise appends ' - Not Cooked!'\n",
        "  '''\n",
        "  if 'cake' in food_to_cook:\n",
        "    time = 30\n",
        "    temperature = 350\n",
        "    print('cake cooked at', time, 'at temperature', temperature, 'for', food_to_cook)\n",
        "  elif 'fish' in food_to_cook:\n",
        "    time = 25\n",
        "    temperature = 375\n",
        "    print('fish cooked at', time, 'at temperature', temperature, 'for', food_to_cook)\n",
        "  elif 'casserole' in food_to_cook:\n",
        "    time = 60\n",
        "    temperature = 350\n",
        "    print('casserole cooked at', time, 'at temperature', temperature, 'for', food_to_cook)\n",
        "  else:\n",
        "    time = 20\n",
        "    temperature = 325\n",
        "\n",
        "  #cook food, an example\n",
        "  if time>20 and temperature>215:\n",
        "    food_to_cook = food_to_cook + ' - Cooked!'\n",
        "  else:\n",
        "    food_to_cook = food_to_cook + ' - Not Cooked!'\n",
        "\n",
        "  return food_to_cook"
      ],
      "metadata": {
        "id": "uhAKTCWqay1u"
      },
      "execution_count": 23,
      "outputs": []
    },
    {
      "cell_type": "code",
      "source": [
        "#Verify behavior with demo strings\n",
        "demo_food_a = 'red velvet cake'\n",
        "demo_food_b = 'swordfish'\n",
        "demo_food_c = 'green bean casserole'\n",
        "demo_food_d = 'fish casserole'\n",
        "demo_food_e = 'lasagna'\n",
        "\n",
        "print(cook_in_oven_if_elif_else(demo_food_a))\n",
        "print(cook_in_oven_if_elif_else(demo_food_b))\n",
        "print(cook_in_oven_if_elif_else(demo_food_c))\n",
        "print(cook_in_oven_if_elif_else(demo_food_d))\n",
        "print(cook_in_oven_if_elif_else(demo_food_e))"
      ],
      "metadata": {
        "colab": {
          "base_uri": "https://localhost:8080/"
        },
        "id": "ac0sqTUwbUlD",
        "outputId": "0ff571df-b64d-4cc2-9ad9-4dbc540e97da"
      },
      "execution_count": 24,
      "outputs": [
        {
          "output_type": "stream",
          "name": "stdout",
          "text": [
            "cake cooked at 30 at temperature 350 for red velvet cake\n",
            "red velvet cake - Cooked!\n",
            "fish cooked at 25 at temperature 375 for swordfish\n",
            "swordfish - Cooked!\n",
            "casserole cooked at 60 at temperature 350 for green bean casserole\n",
            "green bean casserole - Cooked!\n",
            "fish cooked at 25 at temperature 375 for fish casserole\n",
            "fish casserole - Cooked!\n",
            "lasagna - Not Cooked!\n"
          ]
        }
      ]
    },
    {
      "cell_type": "markdown",
      "source": [
        "Consider the above behavior for `fish casserole`. It executed the line of code for `fish`, but DID NOT execute the line of code for `casserole`. Why is this?"
      ],
      "metadata": {
        "id": "x5TV5C9Yeg-u"
      }
    },
    {
      "cell_type": "markdown",
      "source": [
        "# Iteration\n",
        "We've already seen some examples of iteration, where we need to cycle through a collection data structure to apply statements to one or more of the elements of the collection (e.g. dictionaries, lists).\n",
        "\n",
        "There are 2 primary ways that you see iteration in Python:\n",
        "* `for` loops\n",
        "* `comprehensions` (list, dictionary, generator)\n",
        "\n",
        "A final type that we will see _at length_ with Huggingface is:\n",
        "* `map`\n",
        "\n",
        "Let's explore this."
      ],
      "metadata": {
        "id": "PMNjmo64en1y"
      }
    },
    {
      "cell_type": "markdown",
      "source": [
        "## `for` loops\n",
        "We've already seen some examples of `for` loops when we were learning about lists and dictionaries.\n",
        "\n",
        "We said that our `for` goes through cyclical iterations, updating the index to process each element.\n",
        "\n",
        "Our syntax was as follows:\n",
        "```\n",
        "for dummy_name in collection:\n",
        "  ## indented code block steps to take\n",
        "```\n",
        "\n",
        "Let's explore this."
      ],
      "metadata": {
        "id": "pwJUehyVfhKm"
      }
    },
    {
      "cell_type": "markdown",
      "source": [
        "### Guided Exercise 1 - Avoiding copy/paste\n",
        "Let's build on the exercise that we just did with our cakes. In even trying to do the demo with the cakes, we found that we had to copy/paste individual elements over and over. Let's see how we can combine lists with iteration to help us."
      ],
      "metadata": {
        "id": "YTTY6e-NgIg1"
      }
    },
    {
      "cell_type": "code",
      "source": [
        "#create the list of elements\n",
        "demo_foods = ['red velvet cake',\n",
        "              'swordfish',\n",
        "              'green bean casserole',\n",
        "              'fish casserole',\n",
        "              'lasagna']"
      ],
      "metadata": {
        "id": "diPSVLJsgd6Z"
      },
      "execution_count": 25,
      "outputs": []
    },
    {
      "cell_type": "code",
      "source": [
        "#write for loop to iterate through elements and do the task\n",
        "for demo_food in demo_foods:\n",
        "  print(cook_in_oven_if_elif_else(demo_food))"
      ],
      "metadata": {
        "colab": {
          "base_uri": "https://localhost:8080/"
        },
        "id": "eD63TN8Pgwu4",
        "outputId": "d62b974e-d293-47e8-b726-4b0a06b2725a"
      },
      "execution_count": 26,
      "outputs": [
        {
          "output_type": "stream",
          "name": "stdout",
          "text": [
            "cake cooked at 30 at temperature 350 for red velvet cake\n",
            "red velvet cake - Cooked!\n",
            "fish cooked at 25 at temperature 375 for swordfish\n",
            "swordfish - Cooked!\n",
            "casserole cooked at 60 at temperature 350 for green bean casserole\n",
            "green bean casserole - Cooked!\n",
            "fish cooked at 25 at temperature 375 for fish casserole\n",
            "fish casserole - Cooked!\n",
            "lasagna - Not Cooked!\n"
          ]
        }
      ]
    },
    {
      "cell_type": "markdown",
      "source": [
        "### Guided Practical Exercise - Updating Elements\n",
        "In yesterday's class, we saw an output data structure where we didn't like the labels that were in the data. We wanted to replace elements of the form `LABEL_0` with their true name, e.g., `negative`. Let's explore this."
      ],
      "metadata": {
        "id": "gYIjrLQphCA4"
      }
    },
    {
      "cell_type": "code",
      "source": [
        "#output from classifier\n",
        "output = [{'label': 'LABEL_2', 'score': 0.9303200244903564},\n",
        "          {'label': 'LABEL_0', 'score': 0.575447142124176},\n",
        "          {'label': 'LABEL_1', 'score': 0.8416591286659241},\n",
        "          {'label': 'LABEL_0', 'score': 0.9006277322769165}]"
      ],
      "metadata": {
        "id": "-7G_y1X2haMD"
      },
      "execution_count": 36,
      "outputs": []
    },
    {
      "cell_type": "code",
      "source": [
        "#build basic intuition with iteration\n",
        "for cls_dict in output:\n",
        "\n",
        "  #get the label for the element\n",
        "  cls_label = cls_dict['label']\n",
        "\n",
        "  #conditional execution\n",
        "  if '0' in cls_label:\n",
        "    cls_dict['label'] = 'negative'\n",
        "  elif '1' in cls_label:\n",
        "    cls_dict['label'] = 'neutral'\n",
        "  elif '2' in cls_label:\n",
        "    cls_dict['label'] = 'positive'\n",
        "  else:\n",
        "    raise ValueError(' '.join(['The class label', cls_label, 'is invalid']))\n",
        "\n",
        "output"
      ],
      "metadata": {
        "colab": {
          "base_uri": "https://localhost:8080/"
        },
        "id": "9VDoyefuhwd1",
        "outputId": "343ad44a-7f99-487d-913d-25af86c7c841"
      },
      "execution_count": 37,
      "outputs": [
        {
          "output_type": "execute_result",
          "data": {
            "text/plain": [
              "[{'label': 'positive', 'score': 0.9303200244903564},\n",
              " {'label': 'negative', 'score': 0.575447142124176},\n",
              " {'label': 'neutral', 'score': 0.8416591286659241},\n",
              " {'label': 'negative', 'score': 0.9006277322769165}]"
            ]
          },
          "metadata": {},
          "execution_count": 37
        }
      ]
    },
    {
      "cell_type": "markdown",
      "source": [
        "This is one way in which we could do this. However, you'll see this more often in HuggingFace using the `id2label` style conversions using dictionaries. Let's explore this."
      ],
      "metadata": {
        "id": "K22AgkDgiFpU"
      }
    },
    {
      "cell_type": "code",
      "source": [
        "# Establish lists\n",
        "label_list = ['LABEL_0', 'LABEL_1', 'LABEL_2']\n",
        "label_semantics = ['negative', 'neutral', 'positive']\n",
        "\n",
        "# Create lookup dictionary\n",
        "label2semantics = dict(zip(label_list, label_semantics))\n",
        "label2semantics"
      ],
      "metadata": {
        "colab": {
          "base_uri": "https://localhost:8080/"
        },
        "id": "tLxaucmYjEfL",
        "outputId": "75204a6f-a758-472c-f12b-ccc9e5ff7c4b"
      },
      "execution_count": 38,
      "outputs": [
        {
          "output_type": "execute_result",
          "data": {
            "text/plain": [
              "{'LABEL_0': 'negative', 'LABEL_1': 'neutral', 'LABEL_2': 'positive'}"
            ]
          },
          "metadata": {},
          "execution_count": 38
        }
      ]
    },
    {
      "cell_type": "markdown",
      "source": [
        "Let's rewrite our for loop using this..."
      ],
      "metadata": {
        "id": "aiMQjwY0j6MN"
      }
    },
    {
      "cell_type": "code",
      "source": [
        "#output from classifier\n",
        "output = [{'label': 'LABEL_2', 'score': 0.9303200244903564},\n",
        "          {'label': 'LABEL_0', 'score': 0.575447142124176},\n",
        "          {'label': 'LABEL_1', 'score': 0.8416591286659241},\n",
        "          {'label': 'LABEL_0', 'score': 0.9006277322769165}]"
      ],
      "metadata": {
        "id": "RHykwp2ej0cT"
      },
      "execution_count": 43,
      "outputs": []
    },
    {
      "cell_type": "markdown",
      "source": [
        "Recall: When we look up a value using a key in a dictionary, the value is returned. So we can chain together this returned value with an operation.\n",
        "\n",
        "What? Let's look."
      ],
      "metadata": {
        "id": "d1QfmQrtkpTe"
      }
    },
    {
      "cell_type": "code",
      "source": [
        "# How do we get the value of a label from the dictionary element\n",
        "output[0]['label']"
      ],
      "metadata": {
        "colab": {
          "base_uri": "https://localhost:8080/",
          "height": 35
        },
        "id": "dIk4R7v4koKy",
        "outputId": "41c84237-f908-437d-987a-89de4108f25f"
      },
      "execution_count": 44,
      "outputs": [
        {
          "output_type": "execute_result",
          "data": {
            "text/plain": [
              "'LABEL_2'"
            ],
            "application/vnd.google.colaboratory.intrinsic+json": {
              "type": "string"
            }
          },
          "metadata": {},
          "execution_count": 44
        }
      ]
    },
    {
      "cell_type": "code",
      "source": [
        "# How do we look up a value in a dictionary?\n",
        "label2semantics['LABEL_2']"
      ],
      "metadata": {
        "colab": {
          "base_uri": "https://localhost:8080/",
          "height": 35
        },
        "id": "h-0Ym-sSk-MH",
        "outputId": "9a4468ee-b20d-40a5-c618-9506d8b0b20c"
      },
      "execution_count": 45,
      "outputs": [
        {
          "output_type": "execute_result",
          "data": {
            "text/plain": [
              "'positive'"
            ],
            "application/vnd.google.colaboratory.intrinsic+json": {
              "type": "string"
            }
          },
          "metadata": {},
          "execution_count": 45
        }
      ]
    },
    {
      "cell_type": "code",
      "source": [
        "# What does this look like chained together?\n",
        "label2semantics[output[0]['label']]"
      ],
      "metadata": {
        "colab": {
          "base_uri": "https://localhost:8080/",
          "height": 35
        },
        "id": "OPGUc_PllDLZ",
        "outputId": "4b8eafa9-7993-4c06-c3ec-f45d15abb662"
      },
      "execution_count": 46,
      "outputs": [
        {
          "output_type": "execute_result",
          "data": {
            "text/plain": [
              "'positive'"
            ],
            "application/vnd.google.colaboratory.intrinsic+json": {
              "type": "string"
            }
          },
          "metadata": {},
          "execution_count": 46
        }
      ]
    },
    {
      "cell_type": "code",
      "source": [
        "#update our for loop\n",
        "for cls_dict in output:\n",
        "  cls_dict['label'] = label2semantics[cls_dict['label']]\n",
        "\n",
        "output"
      ],
      "metadata": {
        "colab": {
          "base_uri": "https://localhost:8080/"
        },
        "id": "k2IMEV4ckAUu",
        "outputId": "cbec829b-4928-49a8-822a-394a3ea1491e"
      },
      "execution_count": 40,
      "outputs": [
        {
          "output_type": "execute_result",
          "data": {
            "text/plain": [
              "[{'label': 'positive', 'score': 0.9303200244903564},\n",
              " {'label': 'negative', 'score': 0.575447142124176},\n",
              " {'label': 'neutral', 'score': 0.8416591286659241},\n",
              " {'label': 'negative', 'score': 0.9006277322769165}]"
            ]
          },
          "metadata": {},
          "execution_count": 40
        }
      ]
    },
    {
      "cell_type": "markdown",
      "source": [
        "### Try it Yourself!"
      ],
      "metadata": {
        "id": "ejm17tn1lczy"
      }
    },
    {
      "cell_type": "code",
      "source": [
        "#@markdown Recall yesterday's example where we wrote\n",
        "#@markdown a function because we had a list of class IDs\n",
        "#@markdown which we wanted to subtract 1 from.\n",
        "\n",
        "#@markdown Yesterday, we wrote the function.\n",
        "\n",
        "#@markdown In this exercise, you will apply that function to a list.\n",
        "\n",
        "#@markdown The function that we wrote is shown below and\n",
        "#@markdown placed in a code cell below this cell for execution.\n",
        "#@markdown ```\n",
        "#@markdown def adjust_label_values(label_in):\n",
        "#@markdown \n",
        "#@markdown   #adjust value\n",
        "#@markdown   label_in = label_in - 1\n",
        "#@markdown \n",
        "#@markdown   #return the value\n",
        "#@markdown   return label_in\n",
        "#@markdown ```\n",
        "#@markdown If you get stuck, use the `Show Code` button below\n",
        "#@markdown to see the answer.\n",
        "\n",
        "#@markdown Here is some guidance for how to think through how to solve this:\n",
        "#@markdown 1. How do we access elements of a list?\n",
        "#@markdown 2. How do we get the index and the value of an element when\n",
        "#@markdown performing iteration? Recall the following code from Day 1 of our learning journey:\n",
        "#@markdown ```\n",
        "#@markdown for position, value in enumerate(floor0):\n",
        "#@markdown \n",
        "#@markdown   # Room position 2 becomes a janitor closet\n",
        "#@markdown   if position==2:\n",
        "#@markdown     floor0[position] = 'janitor closet'\n",
        "#@markdown   print(position, floor0[position])\n",
        "#@markdown ```\n",
        "#@markdown 3. What do we need to update the content of a single list element with?\n",
        "#@markdown 4. Once we are able to access the index/position in a list,\n",
        "#@markdown how do we update its contents?\n",
        "#@markdown 5. How would we write the for loop to execute this task?\n",
        "\n",
        "#1\n",
        "# ids_list[0], where 0 is the position we're looking to see the contents of or change\n",
        "\n",
        "#2\n",
        "# We can use the enumerate function, which will provide both the index and value at\n",
        "# that position in the list\n",
        "\n",
        "#3\n",
        "# We need to update the contents with the contents -1\n",
        "# by calling our function\n",
        "\n",
        "#4\n",
        "# ids_list[pos] = adjust_label_values(single_id)\n",
        "\n",
        "# Function\n",
        "def adjust_label_values(label_in):\n",
        "\n",
        "  #adjust value\n",
        "  label_in = label_in - 1\n",
        "\n",
        "  #return the value\n",
        "  return label_in\n",
        "\n",
        "# Demo list\n",
        "ids_list = [2, 6, 3, 2, 1, 8, 2, 3, 2, 1]\n",
        "\n",
        "# Code\n",
        "for pos, single_id in enumerate(ids_list):\n",
        "  ids_list[pos] = adjust_label_values(single_id)\n"
      ],
      "metadata": {
        "cellView": "form",
        "id": "naMSvlz5kNE8"
      },
      "execution_count": null,
      "outputs": []
    },
    {
      "cell_type": "code",
      "source": [
        "# Function\n",
        "def adjust_label_values(label_in):\n",
        "\n",
        "  #adjust value\n",
        "  label_in = label_in - 1\n",
        "\n",
        "  #return the value\n",
        "  return label_in"
      ],
      "metadata": {
        "id": "fYs_fs4kqYfM"
      },
      "execution_count": 47,
      "outputs": []
    },
    {
      "cell_type": "code",
      "source": [
        "# Demo list\n",
        "ids_list = [2, 6, 3, 2, 1, 8, 2, 3, 2, 1]"
      ],
      "metadata": {
        "id": "jITNu-RsqUKN"
      },
      "execution_count": 50,
      "outputs": []
    },
    {
      "cell_type": "code",
      "source": [
        "# Create your for loop here\n",
        "for pos, single_id in enumerate(ids_list):\n",
        "  ids_list[pos] = adjust_label_values(single_id)\n",
        "ids_list"
      ],
      "metadata": {
        "colab": {
          "base_uri": "https://localhost:8080/"
        },
        "id": "Ct3rvP9yqXkQ",
        "outputId": "adfd1183-fb6e-4856-a0c9-72d72211d8b8"
      },
      "execution_count": 52,
      "outputs": [
        {
          "output_type": "execute_result",
          "data": {
            "text/plain": [
              "[1, 5, 2, 1, 0, 7, 1, 2, 1, 0]"
            ]
          },
          "metadata": {},
          "execution_count": 52
        }
      ]
    },
    {
      "cell_type": "code",
      "source": [
        "#@ title An alternate solution - Copying\n",
        "#@markdown It can sometimes be super annoying to directly\n",
        "#@markdown update the list while developing your code. If\n",
        "#@markdown your list is short enough (or you can subset) your list\n",
        "#@markdown during development, you can either create a copy\n",
        "#@markdown first or exercise other strategies to not modify\n",
        "#@markdown the original list. \n",
        "\n",
        "#@markdown Let's see what this looks like.\n",
        "\n",
        "# Demo list\n",
        "ids_list = [2, 6, 3, 2, 1, 8, 2, 3, 2, 1]\n",
        "\n",
        "# Method 1: Create a copy\n",
        "ids_copy = ids_list.copy()\n",
        "\n",
        "for pos, single_id in enumerate(ids_copy):\n",
        "  ids_copy[pos] = adjust_label_values(single_id)\n",
        "\n",
        "print('Method 1: Copy')\n",
        "print('Original list:\\n', ids_list)\n",
        "print('Copy operated upon:\\n', ids_copy)\n",
        "\n",
        "# Method 2: Populate from empty list\n",
        "ids_blank = list()\n",
        "for pos, single_id in enumerate(ids_list):\n",
        "  ids_blank.append(adjust_label_values(single_id))\n",
        "\n",
        "print('\\nMethod 2: Populate from empty list')\n",
        "print('Original list:\\n', ids_list)\n",
        "print('Grown list :\\n', ids_blank)\n",
        "\n",
        "# Method 2: Populate from zeros list at size\n",
        "ids_zeros = [0] * len(ids_list)\n",
        "for pos, single_id in enumerate(ids_list):\n",
        "  ids_zeros[pos] = adjust_label_values(single_id)\n",
        "\n",
        "print('\\nMethod 3: Replace elements of Zero List at Size')\n",
        "print('Original list:\\n', ids_list)\n",
        "print('Replaced Zeros list :\\n', ids_zeros)"
      ],
      "metadata": {
        "colab": {
          "base_uri": "https://localhost:8080/"
        },
        "cellView": "form",
        "id": "RP8bNBpOqVdO",
        "outputId": "e86af37d-324e-4d60-9e56-27a3d4e7b8a8"
      },
      "execution_count": 56,
      "outputs": [
        {
          "output_type": "stream",
          "name": "stdout",
          "text": [
            "Method 1: Copy\n",
            "Original list:\n",
            " [2, 6, 3, 2, 1, 8, 2, 3, 2, 1]\n",
            "Copy operated upon:\n",
            " [1, 5, 2, 1, 0, 7, 1, 2, 1, 0]\n",
            "\n",
            "Method 2: Populate from empty list\n",
            "Original list:\n",
            " [2, 6, 3, 2, 1, 8, 2, 3, 2, 1]\n",
            "Grown list :\n",
            " [1, 5, 2, 1, 0, 7, 1, 2, 1, 0]\n",
            "\n",
            "Method 3: Replace elements of Zero List at Size\n",
            "Original list:\n",
            " [2, 6, 3, 2, 1, 8, 2, 3, 2, 1]\n",
            "Replaced Zeros list :\n",
            " [1, 5, 2, 1, 0, 7, 1, 2, 1, 0]\n"
          ]
        }
      ]
    },
    {
      "cell_type": "markdown",
      "source": [
        "## List Comprehensions\n",
        "Another very compact way to represent for loops is through list comprehensions. They're great if you:\n",
        "* Essentially have one function to apply to a list of elements\n",
        "* Want to do binary conditional execution on elements of a list\n",
        "* Want to perform filtering of elements (reduce the size of the list based on some condition)\n",
        "\n",
        "The difficulty of list and dictionary comprehensions is the syntax because of the concise expression of the for loop. Let's take a look, but it offers wonderful functionality. It streamlines the creation of new lists based on old lists. Let's look at a brief comparison.\n",
        "\n",
        "<center>\n",
        "<img src=\"https://github.com/vanderbilt-data-science/p4ai-essentials/blob/main/img/iteration_comparison.png?raw=true\" width=\"800\">\n",
        "</center>"
      ],
      "metadata": {
        "id": "OTj7A4LZr42U"
      }
    },
    {
      "cell_type": "markdown",
      "source": [
        "### Guided Example 1 - Avoiding Copy Paste\n",
        "Yep, that's right - we're doing the same exact example again, except using list comprehensions. Don't think about the outputs of this too hard, this is more like gaining experience with the syntax of list comprehensions rather than any output functionality.\n",
        "\n",
        "Recall that we had:\n",
        "```\n",
        "demo_foods = ['red velvet cake',\n",
        "              'swordfish',\n",
        "              'green bean casserole',\n",
        "              'fish casserole',\n",
        "              'lasagna']\n",
        "\n",
        "for demo_food in demo_foods:\n",
        "  print(cook_in_oven_if_elif_else(demo_food))\n",
        "```\n",
        "We can re-express this as a list comprehension."
      ],
      "metadata": {
        "id": "uvKwD2P0uRkY"
      }
    },
    {
      "cell_type": "code",
      "source": [
        "#demo foods\n",
        "demo_foods = ['red velvet cake',\n",
        "              'swordfish',\n",
        "              'green bean casserole',\n",
        "              'fish casserole',\n",
        "              'lasagna']"
      ],
      "metadata": {
        "id": "WvDeimpqvGqf"
      },
      "execution_count": 57,
      "outputs": []
    },
    {
      "cell_type": "code",
      "source": [
        "# Re-express as a list comprehension\n",
        "[print(cook_in_oven_if_elif_else(demo_food)) for demo_food in demo_foods]"
      ],
      "metadata": {
        "colab": {
          "base_uri": "https://localhost:8080/"
        },
        "id": "S0sqA6kXuOwe",
        "outputId": "5b5fe479-07eb-46ff-ab1e-7b24b53173c2"
      },
      "execution_count": 60,
      "outputs": [
        {
          "output_type": "stream",
          "name": "stdout",
          "text": [
            "cake cooked at 30 at temperature 350 for red velvet cake\n",
            "red velvet cake - Cooked!\n",
            "fish cooked at 25 at temperature 375 for swordfish\n",
            "swordfish - Cooked!\n",
            "casserole cooked at 60 at temperature 350 for green bean casserole\n",
            "green bean casserole - Cooked!\n",
            "fish cooked at 25 at temperature 375 for fish casserole\n",
            "fish casserole - Cooked!\n",
            "lasagna - Not Cooked!\n"
          ]
        },
        {
          "output_type": "execute_result",
          "data": {
            "text/plain": [
              "[None, None, None, None, None]"
            ]
          },
          "metadata": {},
          "execution_count": 60
        }
      ]
    },
    {
      "cell_type": "markdown",
      "source": [
        "### Guided Practical Exercise - Updating Elements\n",
        "You guessed it! We'll now try list comprehensions with our example of replacing labels with their semantic equivalents! Before, we had:\n",
        "```\n",
        "#output from classifier\n",
        "output = [{'label': 'LABEL_2', 'score': 0.9303200244903564},\n",
        "          {'label': 'LABEL_0', 'score': 0.575447142124176},\n",
        "          {'label': 'LABEL_1', 'score': 0.8416591286659241},\n",
        "          {'label': 'LABEL_0', 'score': 0.9006277322769165}]\n",
        "\n",
        "label_list = ['LABEL_0', 'LABEL_1', 'LABEL_2']\n",
        "label_semantics = ['negative', 'neutral', 'positive']\n",
        "\n",
        "# Create lookup dictionary\n",
        "label2semantics = dict(zip(label_list, label_semantics))\n",
        "label2semantics\n",
        "\n",
        "for cls_dict in output:\n",
        "  cls_dict['label'] = label2semantics[cls_dict['label']]\n",
        "```\n",
        "\n",
        "Let's do it again and re-express this as a list comprehension!"
      ],
      "metadata": {
        "id": "Zm-sbSNivLL8"
      }
    },
    {
      "cell_type": "code",
      "source": [
        "#express this as a list comprehension\n",
        "[label2semantics[cls_dict['label']] for cls_dict in output]"
      ],
      "metadata": {
        "colab": {
          "base_uri": "https://localhost:8080/"
        },
        "id": "1yesvJ9wwHur",
        "outputId": "7db806a2-caaa-4fba-95c5-d82b3016855b"
      },
      "execution_count": 61,
      "outputs": [
        {
          "output_type": "execute_result",
          "data": {
            "text/plain": [
              "['positive', 'negative', 'neutral', 'negative']"
            ]
          },
          "metadata": {},
          "execution_count": 61
        }
      ]
    },
    {
      "cell_type": "code",
      "source": [
        "#express this as a list comprehension with the dictionary as the elements of the returned list\n",
        "new_label_ids = [{**cls_dict, 'label':label2semantics[cls_dict['label']]} for cls_dict in output]\n",
        "print(new_label_ids)\n",
        "print(output)"
      ],
      "metadata": {
        "colab": {
          "base_uri": "https://localhost:8080/"
        },
        "id": "6r0nJLdHwVL-",
        "outputId": "9954a46a-0296-4327-fb54-be8c556588e3"
      },
      "execution_count": 66,
      "outputs": [
        {
          "output_type": "stream",
          "name": "stdout",
          "text": [
            "[{'label': 'positive', 'score': 0.9303200244903564}, {'label': 'negative', 'score': 0.575447142124176}, {'label': 'neutral', 'score': 0.8416591286659241}, {'label': 'negative', 'score': 0.9006277322769165}]\n",
            "[{'label': 'LABEL_2', 'score': 0.9303200244903564}, {'label': 'LABEL_0', 'score': 0.575447142124176}, {'label': 'LABEL_1', 'score': 0.8416591286659241}, {'label': 'LABEL_0', 'score': 0.9006277322769165}]\n"
          ]
        }
      ]
    },
    {
      "cell_type": "code",
      "source": [
        "#@title Fun side tidbit\n",
        "#@markdown When you're working with data structures like these,\n",
        "#@markdown they lend themselves nicely to tabular inspection and usage.\n",
        "#@markdown We can do this using the pandas API, which is a common\n",
        "#@markdown Python package for tabular data manipulation. Let's check it out.\n",
        "\n",
        "#@markdown Whoa, this visualization looks much better, and comes\n",
        "#@markdown with tons of functionality for calculation and analysis!\n",
        "\n",
        "import pandas as pd\n",
        "pd.DataFrame(new_label_ids)"
      ],
      "metadata": {
        "colab": {
          "base_uri": "https://localhost:8080/",
          "height": 175
        },
        "cellView": "form",
        "id": "lc-zNOmgMKJu",
        "outputId": "639a1500-0457-4667-a669-5066f6572bdd"
      },
      "execution_count": 175,
      "outputs": [
        {
          "output_type": "execute_result",
          "data": {
            "text/plain": [
              "      label     score\n",
              "0  positive  0.930320\n",
              "1  negative  0.575447\n",
              "2   neutral  0.841659\n",
              "3  negative  0.900628"
            ],
            "text/html": [
              "\n",
              "  <div id=\"df-ad65ad45-d163-4e21-a1b7-ef5a7079a605\">\n",
              "    <div class=\"colab-df-container\">\n",
              "      <div>\n",
              "<style scoped>\n",
              "    .dataframe tbody tr th:only-of-type {\n",
              "        vertical-align: middle;\n",
              "    }\n",
              "\n",
              "    .dataframe tbody tr th {\n",
              "        vertical-align: top;\n",
              "    }\n",
              "\n",
              "    .dataframe thead th {\n",
              "        text-align: right;\n",
              "    }\n",
              "</style>\n",
              "<table border=\"1\" class=\"dataframe\">\n",
              "  <thead>\n",
              "    <tr style=\"text-align: right;\">\n",
              "      <th></th>\n",
              "      <th>label</th>\n",
              "      <th>score</th>\n",
              "    </tr>\n",
              "  </thead>\n",
              "  <tbody>\n",
              "    <tr>\n",
              "      <th>0</th>\n",
              "      <td>positive</td>\n",
              "      <td>0.930320</td>\n",
              "    </tr>\n",
              "    <tr>\n",
              "      <th>1</th>\n",
              "      <td>negative</td>\n",
              "      <td>0.575447</td>\n",
              "    </tr>\n",
              "    <tr>\n",
              "      <th>2</th>\n",
              "      <td>neutral</td>\n",
              "      <td>0.841659</td>\n",
              "    </tr>\n",
              "    <tr>\n",
              "      <th>3</th>\n",
              "      <td>negative</td>\n",
              "      <td>0.900628</td>\n",
              "    </tr>\n",
              "  </tbody>\n",
              "</table>\n",
              "</div>\n",
              "      <button class=\"colab-df-convert\" onclick=\"convertToInteractive('df-ad65ad45-d163-4e21-a1b7-ef5a7079a605')\"\n",
              "              title=\"Convert this dataframe to an interactive table.\"\n",
              "              style=\"display:none;\">\n",
              "        \n",
              "  <svg xmlns=\"http://www.w3.org/2000/svg\" height=\"24px\"viewBox=\"0 0 24 24\"\n",
              "       width=\"24px\">\n",
              "    <path d=\"M0 0h24v24H0V0z\" fill=\"none\"/>\n",
              "    <path d=\"M18.56 5.44l.94 2.06.94-2.06 2.06-.94-2.06-.94-.94-2.06-.94 2.06-2.06.94zm-11 1L8.5 8.5l.94-2.06 2.06-.94-2.06-.94L8.5 2.5l-.94 2.06-2.06.94zm10 10l.94 2.06.94-2.06 2.06-.94-2.06-.94-.94-2.06-.94 2.06-2.06.94z\"/><path d=\"M17.41 7.96l-1.37-1.37c-.4-.4-.92-.59-1.43-.59-.52 0-1.04.2-1.43.59L10.3 9.45l-7.72 7.72c-.78.78-.78 2.05 0 2.83L4 21.41c.39.39.9.59 1.41.59.51 0 1.02-.2 1.41-.59l7.78-7.78 2.81-2.81c.8-.78.8-2.07 0-2.86zM5.41 20L4 18.59l7.72-7.72 1.47 1.35L5.41 20z\"/>\n",
              "  </svg>\n",
              "      </button>\n",
              "      \n",
              "  <style>\n",
              "    .colab-df-container {\n",
              "      display:flex;\n",
              "      flex-wrap:wrap;\n",
              "      gap: 12px;\n",
              "    }\n",
              "\n",
              "    .colab-df-convert {\n",
              "      background-color: #E8F0FE;\n",
              "      border: none;\n",
              "      border-radius: 50%;\n",
              "      cursor: pointer;\n",
              "      display: none;\n",
              "      fill: #1967D2;\n",
              "      height: 32px;\n",
              "      padding: 0 0 0 0;\n",
              "      width: 32px;\n",
              "    }\n",
              "\n",
              "    .colab-df-convert:hover {\n",
              "      background-color: #E2EBFA;\n",
              "      box-shadow: 0px 1px 2px rgba(60, 64, 67, 0.3), 0px 1px 3px 1px rgba(60, 64, 67, 0.15);\n",
              "      fill: #174EA6;\n",
              "    }\n",
              "\n",
              "    [theme=dark] .colab-df-convert {\n",
              "      background-color: #3B4455;\n",
              "      fill: #D2E3FC;\n",
              "    }\n",
              "\n",
              "    [theme=dark] .colab-df-convert:hover {\n",
              "      background-color: #434B5C;\n",
              "      box-shadow: 0px 1px 3px 1px rgba(0, 0, 0, 0.15);\n",
              "      filter: drop-shadow(0px 1px 2px rgba(0, 0, 0, 0.3));\n",
              "      fill: #FFFFFF;\n",
              "    }\n",
              "  </style>\n",
              "\n",
              "      <script>\n",
              "        const buttonEl =\n",
              "          document.querySelector('#df-ad65ad45-d163-4e21-a1b7-ef5a7079a605 button.colab-df-convert');\n",
              "        buttonEl.style.display =\n",
              "          google.colab.kernel.accessAllowed ? 'block' : 'none';\n",
              "\n",
              "        async function convertToInteractive(key) {\n",
              "          const element = document.querySelector('#df-ad65ad45-d163-4e21-a1b7-ef5a7079a605');\n",
              "          const dataTable =\n",
              "            await google.colab.kernel.invokeFunction('convertToInteractive',\n",
              "                                                     [key], {});\n",
              "          if (!dataTable) return;\n",
              "\n",
              "          const docLinkHtml = 'Like what you see? Visit the ' +\n",
              "            '<a target=\"_blank\" href=https://colab.research.google.com/notebooks/data_table.ipynb>data table notebook</a>'\n",
              "            + ' to learn more about interactive tables.';\n",
              "          element.innerHTML = '';\n",
              "          dataTable['output_type'] = 'display_data';\n",
              "          await google.colab.output.renderOutput(dataTable, element);\n",
              "          const docLink = document.createElement('div');\n",
              "          docLink.innerHTML = docLinkHtml;\n",
              "          element.appendChild(docLink);\n",
              "        }\n",
              "      </script>\n",
              "    </div>\n",
              "  </div>\n",
              "  "
            ]
          },
          "metadata": {},
          "execution_count": 175
        }
      ]
    },
    {
      "cell_type": "code",
      "source": [
        "#@title Another fun side tidbit\n",
        "#@markdown In the above example, we saw that pandas is super friendly\n",
        "#@markdown for tabular data manipulation. Let's see how hard it would be\n",
        "#@markdown if we wanted to concatenate this with our input text...\n",
        "\n",
        "#make a fake data fields\n",
        "texts = ['The dog was happy and ran along playfully.',\n",
        "         'The cat glared at me, judging me from afar.',\n",
        "         'The groundhog peeked its head above the ground.',\n",
        "         'Opposums are criminally underrated.']\n",
        "\n",
        "#Create new data frame out of texts\n",
        "text_data = pd.DataFrame({'texts':texts}, index=range(4))\n",
        "\n",
        "#Concat this with a data frame made from new_label_ids on the fly\n",
        "pd.concat([text_data, pd.DataFrame(new_label_ids)], axis=1)\n",
        "\n",
        "#@markdown Fun fun in the sun!"
      ],
      "metadata": {
        "colab": {
          "base_uri": "https://localhost:8080/",
          "height": 175
        },
        "cellView": "form",
        "id": "2-fijX_LMq6k",
        "outputId": "9fd118c2-80eb-4876-c454-95d5c8cc2a61"
      },
      "execution_count": 186,
      "outputs": [
        {
          "output_type": "execute_result",
          "data": {
            "text/plain": [
              "                                             texts     label     score\n",
              "0       The dog was happy and ran along playfully.  positive  0.930320\n",
              "1      The cat glared at me, judging me from afar.  negative  0.575447\n",
              "2  The groundhog peeked its head above the ground.   neutral  0.841659\n",
              "3              Opposums are criminally underrated.  negative  0.900628"
            ],
            "text/html": [
              "\n",
              "  <div id=\"df-6e2093a3-1bcd-48f2-a93d-b57c9d104ef5\">\n",
              "    <div class=\"colab-df-container\">\n",
              "      <div>\n",
              "<style scoped>\n",
              "    .dataframe tbody tr th:only-of-type {\n",
              "        vertical-align: middle;\n",
              "    }\n",
              "\n",
              "    .dataframe tbody tr th {\n",
              "        vertical-align: top;\n",
              "    }\n",
              "\n",
              "    .dataframe thead th {\n",
              "        text-align: right;\n",
              "    }\n",
              "</style>\n",
              "<table border=\"1\" class=\"dataframe\">\n",
              "  <thead>\n",
              "    <tr style=\"text-align: right;\">\n",
              "      <th></th>\n",
              "      <th>texts</th>\n",
              "      <th>label</th>\n",
              "      <th>score</th>\n",
              "    </tr>\n",
              "  </thead>\n",
              "  <tbody>\n",
              "    <tr>\n",
              "      <th>0</th>\n",
              "      <td>The dog was happy and ran along playfully.</td>\n",
              "      <td>positive</td>\n",
              "      <td>0.930320</td>\n",
              "    </tr>\n",
              "    <tr>\n",
              "      <th>1</th>\n",
              "      <td>The cat glared at me, judging me from afar.</td>\n",
              "      <td>negative</td>\n",
              "      <td>0.575447</td>\n",
              "    </tr>\n",
              "    <tr>\n",
              "      <th>2</th>\n",
              "      <td>The groundhog peeked its head above the ground.</td>\n",
              "      <td>neutral</td>\n",
              "      <td>0.841659</td>\n",
              "    </tr>\n",
              "    <tr>\n",
              "      <th>3</th>\n",
              "      <td>Opposums are criminally underrated.</td>\n",
              "      <td>negative</td>\n",
              "      <td>0.900628</td>\n",
              "    </tr>\n",
              "  </tbody>\n",
              "</table>\n",
              "</div>\n",
              "      <button class=\"colab-df-convert\" onclick=\"convertToInteractive('df-6e2093a3-1bcd-48f2-a93d-b57c9d104ef5')\"\n",
              "              title=\"Convert this dataframe to an interactive table.\"\n",
              "              style=\"display:none;\">\n",
              "        \n",
              "  <svg xmlns=\"http://www.w3.org/2000/svg\" height=\"24px\"viewBox=\"0 0 24 24\"\n",
              "       width=\"24px\">\n",
              "    <path d=\"M0 0h24v24H0V0z\" fill=\"none\"/>\n",
              "    <path d=\"M18.56 5.44l.94 2.06.94-2.06 2.06-.94-2.06-.94-.94-2.06-.94 2.06-2.06.94zm-11 1L8.5 8.5l.94-2.06 2.06-.94-2.06-.94L8.5 2.5l-.94 2.06-2.06.94zm10 10l.94 2.06.94-2.06 2.06-.94-2.06-.94-.94-2.06-.94 2.06-2.06.94z\"/><path d=\"M17.41 7.96l-1.37-1.37c-.4-.4-.92-.59-1.43-.59-.52 0-1.04.2-1.43.59L10.3 9.45l-7.72 7.72c-.78.78-.78 2.05 0 2.83L4 21.41c.39.39.9.59 1.41.59.51 0 1.02-.2 1.41-.59l7.78-7.78 2.81-2.81c.8-.78.8-2.07 0-2.86zM5.41 20L4 18.59l7.72-7.72 1.47 1.35L5.41 20z\"/>\n",
              "  </svg>\n",
              "      </button>\n",
              "      \n",
              "  <style>\n",
              "    .colab-df-container {\n",
              "      display:flex;\n",
              "      flex-wrap:wrap;\n",
              "      gap: 12px;\n",
              "    }\n",
              "\n",
              "    .colab-df-convert {\n",
              "      background-color: #E8F0FE;\n",
              "      border: none;\n",
              "      border-radius: 50%;\n",
              "      cursor: pointer;\n",
              "      display: none;\n",
              "      fill: #1967D2;\n",
              "      height: 32px;\n",
              "      padding: 0 0 0 0;\n",
              "      width: 32px;\n",
              "    }\n",
              "\n",
              "    .colab-df-convert:hover {\n",
              "      background-color: #E2EBFA;\n",
              "      box-shadow: 0px 1px 2px rgba(60, 64, 67, 0.3), 0px 1px 3px 1px rgba(60, 64, 67, 0.15);\n",
              "      fill: #174EA6;\n",
              "    }\n",
              "\n",
              "    [theme=dark] .colab-df-convert {\n",
              "      background-color: #3B4455;\n",
              "      fill: #D2E3FC;\n",
              "    }\n",
              "\n",
              "    [theme=dark] .colab-df-convert:hover {\n",
              "      background-color: #434B5C;\n",
              "      box-shadow: 0px 1px 3px 1px rgba(0, 0, 0, 0.15);\n",
              "      filter: drop-shadow(0px 1px 2px rgba(0, 0, 0, 0.3));\n",
              "      fill: #FFFFFF;\n",
              "    }\n",
              "  </style>\n",
              "\n",
              "      <script>\n",
              "        const buttonEl =\n",
              "          document.querySelector('#df-6e2093a3-1bcd-48f2-a93d-b57c9d104ef5 button.colab-df-convert');\n",
              "        buttonEl.style.display =\n",
              "          google.colab.kernel.accessAllowed ? 'block' : 'none';\n",
              "\n",
              "        async function convertToInteractive(key) {\n",
              "          const element = document.querySelector('#df-6e2093a3-1bcd-48f2-a93d-b57c9d104ef5');\n",
              "          const dataTable =\n",
              "            await google.colab.kernel.invokeFunction('convertToInteractive',\n",
              "                                                     [key], {});\n",
              "          if (!dataTable) return;\n",
              "\n",
              "          const docLinkHtml = 'Like what you see? Visit the ' +\n",
              "            '<a target=\"_blank\" href=https://colab.research.google.com/notebooks/data_table.ipynb>data table notebook</a>'\n",
              "            + ' to learn more about interactive tables.';\n",
              "          element.innerHTML = '';\n",
              "          dataTable['output_type'] = 'display_data';\n",
              "          await google.colab.output.renderOutput(dataTable, element);\n",
              "          const docLink = document.createElement('div');\n",
              "          docLink.innerHTML = docLinkHtml;\n",
              "          element.appendChild(docLink);\n",
              "        }\n",
              "      </script>\n",
              "    </div>\n",
              "  </div>\n",
              "  "
            ]
          },
          "metadata": {},
          "execution_count": 186
        }
      ]
    },
    {
      "cell_type": "markdown",
      "source": [
        "### Try it Yourself!"
      ],
      "metadata": {
        "id": "OdUXS6w0wy6i"
      }
    },
    {
      "cell_type": "code",
      "source": [
        "#@markdown That's right, you guessed it again! Now, we're going to try the same\n",
        "#@markdown exercise of applying our `adjust_label_values` function to all of the\n",
        "#@markdown elements of our list!\n",
        "\n",
        "#@markdown Recall that our solution was:\n",
        "#@markdown ```\n",
        "#@markdown for pos, single_id in enumerate(ids_list):\n",
        "#@markdown   ids_list[pos] = adjust_label_values(single_id)\n",
        "#@markdown ```\n",
        "\n",
        "#@markdown Here, write a list comprehension that returns a new list with the values of the corrected ids.\n",
        "#@markdown Click the `Show Code` button if you need a little assistance!\n",
        "\n",
        "# Function\n",
        "def adjust_label_values(label_in):\n",
        "\n",
        "  #adjust value\n",
        "  label_in = label_in - 1\n",
        "\n",
        "  #return the value\n",
        "  return label_in\n",
        "\n",
        "# Demo list\n",
        "ids_list = [2, 6, 3, 2, 1, 8, 2, 3, 2, 1]\n",
        "\n",
        "# Code\n",
        "adjusted_labels = [adjust_label_values(id_value) for id_value in ids_list]\n",
        "print('Adjusted labels', adjusted_labels)\n",
        "print('Original labels', ids_list)\n"
      ],
      "metadata": {
        "id": "bICblF5dzcv4",
        "colab": {
          "base_uri": "https://localhost:8080/"
        },
        "cellView": "form",
        "outputId": "0e3f9c9c-9225-4932-9afc-3164dc54b81e"
      },
      "execution_count": 67,
      "outputs": [
        {
          "output_type": "stream",
          "name": "stdout",
          "text": [
            "Adjusted labels [1, 5, 2, 1, 0, 7, 1, 2, 1, 0]\n",
            "Original labels [2, 6, 3, 2, 1, 8, 2, 3, 2, 1]\n"
          ]
        }
      ]
    },
    {
      "cell_type": "code",
      "source": [
        "# Original function code and labels list\n",
        "\n",
        "# Function\n",
        "def adjust_label_values(label_in):\n",
        "\n",
        "  #adjust value\n",
        "  label_in = label_in - 1\n",
        "\n",
        "  #return the value\n",
        "  return label_in\n",
        "\n",
        "# Demo list\n",
        "ids_list = [2, 6, 3, 2, 1, 8, 2, 3, 2, 1]"
      ],
      "metadata": {
        "id": "AUi9MNQJ1W-n"
      },
      "execution_count": null,
      "outputs": []
    },
    {
      "cell_type": "code",
      "source": [
        "# Your code solution here\n",
        "adjusted_labels = [adjust_label_values(id_value) for id_value in ids_list]\n",
        "adjusted_labels"
      ],
      "metadata": {
        "colab": {
          "base_uri": "https://localhost:8080/"
        },
        "id": "ByfKkn5K1epa",
        "outputId": "5e4ef700-3828-421c-980f-bf459dd647aa"
      },
      "execution_count": 174,
      "outputs": [
        {
          "output_type": "execute_result",
          "data": {
            "text/plain": [
              "[1, 5, 2, 1, 0, 7, 1, 2, 1, 0]"
            ]
          },
          "metadata": {},
          "execution_count": 174
        }
      ]
    },
    {
      "cell_type": "markdown",
      "source": [
        "# Iteration with Huggingface\n",
        "You'll see the syntax of iteration above all through Huggingface and Python, but you'll see the `map` functionality THE MOST with Huggingface due to their favored data structures and desire for speed in vectorized operations.\n",
        "\n",
        "Note that there is a map function provided through Python, and the functionality is similar. Today, we're going to talk about specifically the `map` _method_ of Datasets for iteration over your data in HuggingFace."
      ],
      "metadata": {
        "id": "1kn5gqUm1vKT"
      }
    },
    {
      "cell_type": "code",
      "source": [
        "%%capture\n",
        "\n",
        "#Make HF datasets available to our computing environment\n",
        "!pip install datasets"
      ],
      "metadata": {
        "id": "Hs0DI56Z2rhU"
      },
      "execution_count": 68,
      "outputs": []
    },
    {
      "cell_type": "code",
      "source": [
        "#load relevant packages\n",
        "import pandas as pd #this provides iteractivity with tabular data\n",
        "from datasets import Dataset"
      ],
      "metadata": {
        "id": "oGQPYx5-2IUs"
      },
      "execution_count": 69,
      "outputs": []
    },
    {
      "cell_type": "code",
      "source": [
        "#make a fake data fields\n",
        "texts = ['The dog was happy and ran along playfully.',\n",
        "         'The cat glared at me, judging me from afar.',\n",
        "         'The groundhog peeked its head above the ground.',\n",
        "         'Opposums are criminally underrated.']\n",
        "text_label_names = ['positive', 'negative', 'neutral', 'positive']"
      ],
      "metadata": {
        "id": "dRLpPv2F3Yao"
      },
      "execution_count": 75,
      "outputs": []
    },
    {
      "cell_type": "code",
      "source": [
        "#create label configurations\n",
        "id2label = {0:'negative', 1:'neutral', 2:'positive'}\n",
        "\n",
        "#create label2id configuration\n",
        "label2id = {value:key for key,value in id2label.items()}\n",
        "print(label2id)\n",
        "\n",
        "#create label ids for `labels` above\n",
        "labels = [label2id[text_label] for text_label in text_label_names]\n",
        "labels"
      ],
      "metadata": {
        "colab": {
          "base_uri": "https://localhost:8080/"
        },
        "id": "9TOvWhcF4T9r",
        "outputId": "81821266-89b8-4235-8a80-9c5ee3d2847d"
      },
      "execution_count": 76,
      "outputs": [
        {
          "output_type": "stream",
          "name": "stdout",
          "text": [
            "{'negative': 0, 'neutral': 1, 'positive': 2}\n"
          ]
        },
        {
          "output_type": "execute_result",
          "data": {
            "text/plain": [
              "[2, 0, 1, 2]"
            ]
          },
          "metadata": {},
          "execution_count": 76
        }
      ]
    },
    {
      "cell_type": "code",
      "source": [
        "#make a fake Dataset dictionary\n",
        "dataset_dict = {'text':texts,\n",
        "                'labels':labels,\n",
        "                'label_names':text_label_names}\n",
        "dataset_dict"
      ],
      "metadata": {
        "colab": {
          "base_uri": "https://localhost:8080/"
        },
        "id": "XMd5V8f54cuo",
        "outputId": "178c1a54-3e2f-470e-8c60-1a32309a87f5"
      },
      "execution_count": 77,
      "outputs": [
        {
          "output_type": "execute_result",
          "data": {
            "text/plain": [
              "{'label_names': ['positive', 'negative', 'neutral', 'positive'],\n",
              " 'labels': [2, 0, 1, 2],\n",
              " 'text': ['The dog was happy and ran along playfully.',\n",
              "  'The cat glared at me, judging me from afar.',\n",
              "  'The groundhog peeked its head above the ground.',\n",
              "  'Opposums are criminally underrated.']}"
            ]
          },
          "metadata": {},
          "execution_count": 77
        }
      ]
    },
    {
      "cell_type": "code",
      "source": [
        "#Observe the data in a more intuitive way using pandas\n",
        "pd.DataFrame(dataset_dict)"
      ],
      "metadata": {
        "colab": {
          "base_uri": "https://localhost:8080/",
          "height": 175
        },
        "id": "cHdff8OQ6_QQ",
        "outputId": "df3c62c3-3ccf-4d3c-fd98-d8a8384d7d92"
      },
      "execution_count": 81,
      "outputs": [
        {
          "output_type": "execute_result",
          "data": {
            "text/plain": [
              "                                              text  labels label_names\n",
              "0       The dog was happy and ran along playfully.       2    positive\n",
              "1      The cat glared at me, judging me from afar.       0    negative\n",
              "2  The groundhog peeked its head above the ground.       1     neutral\n",
              "3              Opposums are criminally underrated.       2    positive"
            ],
            "text/html": [
              "\n",
              "  <div id=\"df-33789407-a0e1-4671-b291-e83fde4fb4e5\">\n",
              "    <div class=\"colab-df-container\">\n",
              "      <div>\n",
              "<style scoped>\n",
              "    .dataframe tbody tr th:only-of-type {\n",
              "        vertical-align: middle;\n",
              "    }\n",
              "\n",
              "    .dataframe tbody tr th {\n",
              "        vertical-align: top;\n",
              "    }\n",
              "\n",
              "    .dataframe thead th {\n",
              "        text-align: right;\n",
              "    }\n",
              "</style>\n",
              "<table border=\"1\" class=\"dataframe\">\n",
              "  <thead>\n",
              "    <tr style=\"text-align: right;\">\n",
              "      <th></th>\n",
              "      <th>text</th>\n",
              "      <th>labels</th>\n",
              "      <th>label_names</th>\n",
              "    </tr>\n",
              "  </thead>\n",
              "  <tbody>\n",
              "    <tr>\n",
              "      <th>0</th>\n",
              "      <td>The dog was happy and ran along playfully.</td>\n",
              "      <td>2</td>\n",
              "      <td>positive</td>\n",
              "    </tr>\n",
              "    <tr>\n",
              "      <th>1</th>\n",
              "      <td>The cat glared at me, judging me from afar.</td>\n",
              "      <td>0</td>\n",
              "      <td>negative</td>\n",
              "    </tr>\n",
              "    <tr>\n",
              "      <th>2</th>\n",
              "      <td>The groundhog peeked its head above the ground.</td>\n",
              "      <td>1</td>\n",
              "      <td>neutral</td>\n",
              "    </tr>\n",
              "    <tr>\n",
              "      <th>3</th>\n",
              "      <td>Opposums are criminally underrated.</td>\n",
              "      <td>2</td>\n",
              "      <td>positive</td>\n",
              "    </tr>\n",
              "  </tbody>\n",
              "</table>\n",
              "</div>\n",
              "      <button class=\"colab-df-convert\" onclick=\"convertToInteractive('df-33789407-a0e1-4671-b291-e83fde4fb4e5')\"\n",
              "              title=\"Convert this dataframe to an interactive table.\"\n",
              "              style=\"display:none;\">\n",
              "        \n",
              "  <svg xmlns=\"http://www.w3.org/2000/svg\" height=\"24px\"viewBox=\"0 0 24 24\"\n",
              "       width=\"24px\">\n",
              "    <path d=\"M0 0h24v24H0V0z\" fill=\"none\"/>\n",
              "    <path d=\"M18.56 5.44l.94 2.06.94-2.06 2.06-.94-2.06-.94-.94-2.06-.94 2.06-2.06.94zm-11 1L8.5 8.5l.94-2.06 2.06-.94-2.06-.94L8.5 2.5l-.94 2.06-2.06.94zm10 10l.94 2.06.94-2.06 2.06-.94-2.06-.94-.94-2.06-.94 2.06-2.06.94z\"/><path d=\"M17.41 7.96l-1.37-1.37c-.4-.4-.92-.59-1.43-.59-.52 0-1.04.2-1.43.59L10.3 9.45l-7.72 7.72c-.78.78-.78 2.05 0 2.83L4 21.41c.39.39.9.59 1.41.59.51 0 1.02-.2 1.41-.59l7.78-7.78 2.81-2.81c.8-.78.8-2.07 0-2.86zM5.41 20L4 18.59l7.72-7.72 1.47 1.35L5.41 20z\"/>\n",
              "  </svg>\n",
              "      </button>\n",
              "      \n",
              "  <style>\n",
              "    .colab-df-container {\n",
              "      display:flex;\n",
              "      flex-wrap:wrap;\n",
              "      gap: 12px;\n",
              "    }\n",
              "\n",
              "    .colab-df-convert {\n",
              "      background-color: #E8F0FE;\n",
              "      border: none;\n",
              "      border-radius: 50%;\n",
              "      cursor: pointer;\n",
              "      display: none;\n",
              "      fill: #1967D2;\n",
              "      height: 32px;\n",
              "      padding: 0 0 0 0;\n",
              "      width: 32px;\n",
              "    }\n",
              "\n",
              "    .colab-df-convert:hover {\n",
              "      background-color: #E2EBFA;\n",
              "      box-shadow: 0px 1px 2px rgba(60, 64, 67, 0.3), 0px 1px 3px 1px rgba(60, 64, 67, 0.15);\n",
              "      fill: #174EA6;\n",
              "    }\n",
              "\n",
              "    [theme=dark] .colab-df-convert {\n",
              "      background-color: #3B4455;\n",
              "      fill: #D2E3FC;\n",
              "    }\n",
              "\n",
              "    [theme=dark] .colab-df-convert:hover {\n",
              "      background-color: #434B5C;\n",
              "      box-shadow: 0px 1px 3px 1px rgba(0, 0, 0, 0.15);\n",
              "      filter: drop-shadow(0px 1px 2px rgba(0, 0, 0, 0.3));\n",
              "      fill: #FFFFFF;\n",
              "    }\n",
              "  </style>\n",
              "\n",
              "      <script>\n",
              "        const buttonEl =\n",
              "          document.querySelector('#df-33789407-a0e1-4671-b291-e83fde4fb4e5 button.colab-df-convert');\n",
              "        buttonEl.style.display =\n",
              "          google.colab.kernel.accessAllowed ? 'block' : 'none';\n",
              "\n",
              "        async function convertToInteractive(key) {\n",
              "          const element = document.querySelector('#df-33789407-a0e1-4671-b291-e83fde4fb4e5');\n",
              "          const dataTable =\n",
              "            await google.colab.kernel.invokeFunction('convertToInteractive',\n",
              "                                                     [key], {});\n",
              "          if (!dataTable) return;\n",
              "\n",
              "          const docLinkHtml = 'Like what you see? Visit the ' +\n",
              "            '<a target=\"_blank\" href=https://colab.research.google.com/notebooks/data_table.ipynb>data table notebook</a>'\n",
              "            + ' to learn more about interactive tables.';\n",
              "          element.innerHTML = '';\n",
              "          dataTable['output_type'] = 'display_data';\n",
              "          await google.colab.output.renderOutput(dataTable, element);\n",
              "          const docLink = document.createElement('div');\n",
              "          docLink.innerHTML = docLinkHtml;\n",
              "          element.appendChild(docLink);\n",
              "        }\n",
              "      </script>\n",
              "    </div>\n",
              "  </div>\n",
              "  "
            ]
          },
          "metadata": {},
          "execution_count": 81
        }
      ]
    },
    {
      "cell_type": "markdown",
      "source": [
        "Let's first make a Dataset so that we can use the `map` method on our data."
      ],
      "metadata": {
        "id": "V6BR0dyI7qZR"
      }
    },
    {
      "cell_type": "code",
      "source": [
        "#make the fake Dataset using the API\n",
        "demo_dataset = Dataset.from_dict(dataset_dict)\n",
        "demo_dataset"
      ],
      "metadata": {
        "colab": {
          "base_uri": "https://localhost:8080/"
        },
        "id": "GjTXMrRu5hzB",
        "outputId": "ece99fa5-8838-49a3-abd9-2ca753c8a0cc"
      },
      "execution_count": 166,
      "outputs": [
        {
          "output_type": "execute_result",
          "data": {
            "text/plain": [
              "Dataset({\n",
              "    features: ['text', 'labels', 'label_names'],\n",
              "    num_rows: 4\n",
              "})"
            ]
          },
          "metadata": {},
          "execution_count": 166
        }
      ]
    },
    {
      "cell_type": "code",
      "source": [
        "#assess text field\n",
        "demo_dataset['text']"
      ],
      "metadata": {
        "colab": {
          "base_uri": "https://localhost:8080/"
        },
        "id": "TA-IfPgC5wB-",
        "outputId": "881c379a-3b16-446a-ec66-492bfac55c94"
      },
      "execution_count": 80,
      "outputs": [
        {
          "output_type": "execute_result",
          "data": {
            "text/plain": [
              "['The dog was happy and ran along playfully.',\n",
              " 'The cat glared at me, judging me from afar.',\n",
              " 'The groundhog peeked its head above the ground.',\n",
              " 'Opposums are criminally underrated.']"
            ]
          },
          "metadata": {},
          "execution_count": 80
        }
      ]
    },
    {
      "cell_type": "markdown",
      "source": [
        "## Guided Example: Modifying data\n",
        "Let's say that we wanted to uppercase the entirety of each text field. How could we do this? Keep in mind that for Datasets `map` method, it always wants you to return a dictionary."
      ],
      "metadata": {
        "id": "1UJ5X2nD56HV"
      }
    },
    {
      "cell_type": "code",
      "source": [
        "test_dataset = demo_dataset.map(lambda x: {'upper_text':x['text'].upper()})\n",
        "test_dataset['upper_text']"
      ],
      "metadata": {
        "colab": {
          "base_uri": "https://localhost:8080/",
          "height": 120,
          "referenced_widgets": [
            "f399aa7bb90348c1aefefa5c07c1eaa5",
            "74279b240d2745669076d991e29442fd",
            "04d366ffcebc40c586922f5a634b59ef",
            "98f182339d25471889f73e69c32da85a",
            "977593a9081f4d419922e0f973f4f697",
            "5f49b2f241454d68b1472b1d3f7cf199",
            "b92b57bf8d144906a707fa60ba3c8fc4",
            "c4afcb47f5d448eeaacd448ba180c480",
            "e85151d428cd44f58bac44bc7cb343aa",
            "69aba2c1503d4eafaf10ec0a56361e5f",
            "80303d083c4f4593bdceaf0a89d201c8"
          ]
        },
        "id": "a_ZLtzi19L2A",
        "outputId": "57267d1e-8414-4a60-aa27-a34d50f2c946"
      },
      "execution_count": 87,
      "outputs": [
        {
          "output_type": "display_data",
          "data": {
            "text/plain": [
              "  0%|          | 0/4 [00:00<?, ?ex/s]"
            ],
            "application/vnd.jupyter.widget-view+json": {
              "version_major": 2,
              "version_minor": 0,
              "model_id": "f399aa7bb90348c1aefefa5c07c1eaa5"
            }
          },
          "metadata": {}
        },
        {
          "output_type": "execute_result",
          "data": {
            "text/plain": [
              "['THE DOG WAS HAPPY AND RAN ALONG PLAYFULLY.',\n",
              " 'THE CAT GLARED AT ME, JUDGING ME FROM AFAR.',\n",
              " 'THE GROUNDHOG PEEKED ITS HEAD ABOVE THE GROUND.',\n",
              " 'OPPOSUMS ARE CRIMINALLY UNDERRATED.']"
            ]
          },
          "metadata": {},
          "execution_count": 87
        }
      ]
    },
    {
      "cell_type": "markdown",
      "source": [
        "## Practical Example: Tokenization\n",
        "Tokenization is the process of taking our text inputs and processing them into something that can be used by a computer - some type of numerical representation.\n",
        "\n",
        "Tokenizers go along with a model, so we use a tokenizer to process the text in a way that the model will understand.\n",
        "\n",
        "Yesterday, we looked at pipelines, and we saw that there was a model and tokenizer field. Let's look at if we _didn't_ use pipeline and instead tried to instantiate from the class."
      ],
      "metadata": {
        "id": "RH5gZW4l-EEv"
      }
    },
    {
      "cell_type": "code",
      "source": [
        "%%capture\n",
        "\n",
        "#Make HF datasets available to our computing environment\n",
        "!pip install transformers"
      ],
      "metadata": {
        "id": "MvajV30D_bU5"
      },
      "execution_count": 88,
      "outputs": []
    },
    {
      "cell_type": "code",
      "source": [
        "from transformers import AutoModelForSequenceClassification, AutoTokenizer\n",
        "import torch"
      ],
      "metadata": {
        "id": "e7ZUCB2r_Lvz"
      },
      "execution_count": 161,
      "outputs": []
    },
    {
      "cell_type": "code",
      "source": [
        "# Lets create a model and tokenizer using the API\n",
        "mdl = AutoModelForSequenceClassification.from_pretrained('cardiffnlp/twitter-roberta-base-sentiment')\n",
        "tokenizer = AutoTokenizer.from_pretrained('cardiffnlp/twitter-roberta-base-sentiment')"
      ],
      "metadata": {
        "colab": {
          "base_uri": "https://localhost:8080/",
          "height": 177,
          "referenced_widgets": [
            "79f7b1aba32f4e0cb400cf72c3cfef1a",
            "b89ee5fec6a34c28bf363fe7d72d5dd8",
            "0896551a2f494eb79bcfdc737d04fa74",
            "5d859b9cf4c94d30b772ba6b021b9a9b",
            "0e33c45e8b7f4ba2abf6b0e68e456304",
            "fbf023ff9ab9446ca9e5763a0bd6b07c",
            "ce416f72b106445dbf460027c5406b79",
            "65287e4b9ab448c4add4bb3e47b23398",
            "ac71fe35a43f43e5ba73ef2414923791",
            "005b11f7e41543f7828d38c4ef07b988",
            "a53bc7c79e344d74af7a6420b30288b4",
            "3b55fc71905f482ba2a212ad55d2b9e0",
            "29e1ae36619d42d8a3211b870d66ee4b",
            "66cde47f8b964624ad23c0f64deb3bad",
            "da61a3a3c026422682e083679b3d0dab",
            "58a9f2ea861f4e798a03a9e14581c778",
            "7933efa5f66b40118775c267dc315f99",
            "7ecc04eea9e646c4a728ac879f9dd2f8",
            "100524b60a0b4ce5b7bdc5ca83462d2e",
            "f17e6dc8b02d49ca8659412b8429fee3",
            "5dba6787ffca47e8b7316c8387cedbed",
            "0435c705ee7f44448829adcbc9acfcc1",
            "4dd85d65d5cf4ff0a88c2e5822033db1",
            "b04637cd2366431b8f39988e9e6b90f7",
            "0a063b4a562c41daa7d4270a219692d7",
            "5442181657534beaa1f06a2f973cf299",
            "5967567ec162470dbc6b16c792f02ee6",
            "b3f652e28a754e699fe23ba36a856233",
            "62d8fb592dd04ce9b958188016a41912",
            "363cba8d3b694a698f42cd123958a42c",
            "8fd917cd00cd4f48a63ef983593ad1b2",
            "6f5b61bc271f4c48bef58cbf4e72884c",
            "85cf19c3c4aa4bd593cf0610053a2984",
            "b228553782574060b1ccb722da0689f7",
            "637fd9df6edb4d5ea4ca2dc6b1b0af7b",
            "a4548221839b4243842aca3756c2bbcd",
            "119c0a0456e14cf6b212197035d464c1",
            "6ed24f5ededd4faaa07bea978b235a96",
            "465874f3883640c282215aa6047b69e9",
            "b4100d9037b94e8ebe590ca9ef99c4f3",
            "d5e97333064d4a77ae77e5c2f1e01e3b",
            "7be76931804b4736b3ed33db991d3319",
            "26e3c4e5f65540dc9d2d86d29de9661d",
            "f7856b32fd8845828a2f640822813269",
            "7a2e1ac50a7b4af189d82c82eaba4268",
            "573e9e556d5c4157bfa8fd5af49cba55",
            "74096f0f752d4a8c810639e1579478e6",
            "d5b9ace53b1543f6b21fae3e66fcf85c",
            "8bbe8ef4939545b694583f87680ccfb0",
            "340e103607ea473faefde60f88e34edd",
            "e31f2120d38f4358a9e6db5ee10916a8",
            "0dd4de1b26bf4f2ebe25a1540e0680d5",
            "5e81f93b13d648cc8adfe80466e97290",
            "555388749cfd4bd3906074b9cd7f950c",
            "8e3dbbc5071e4c9eb5601810f8cbe43b"
          ]
        },
        "id": "Ps49mUF89eru",
        "outputId": "dca62e04-58c6-4b6c-c613-6d08f269e2e4"
      },
      "execution_count": 91,
      "outputs": [
        {
          "output_type": "display_data",
          "data": {
            "text/plain": [
              "Downloading:   0%|          | 0.00/747 [00:00<?, ?B/s]"
            ],
            "application/vnd.jupyter.widget-view+json": {
              "version_major": 2,
              "version_minor": 0,
              "model_id": "79f7b1aba32f4e0cb400cf72c3cfef1a"
            }
          },
          "metadata": {}
        },
        {
          "output_type": "display_data",
          "data": {
            "text/plain": [
              "Downloading:   0%|          | 0.00/476M [00:00<?, ?B/s]"
            ],
            "application/vnd.jupyter.widget-view+json": {
              "version_major": 2,
              "version_minor": 0,
              "model_id": "3b55fc71905f482ba2a212ad55d2b9e0"
            }
          },
          "metadata": {}
        },
        {
          "output_type": "display_data",
          "data": {
            "text/plain": [
              "Downloading:   0%|          | 0.00/878k [00:00<?, ?B/s]"
            ],
            "application/vnd.jupyter.widget-view+json": {
              "version_major": 2,
              "version_minor": 0,
              "model_id": "4dd85d65d5cf4ff0a88c2e5822033db1"
            }
          },
          "metadata": {}
        },
        {
          "output_type": "display_data",
          "data": {
            "text/plain": [
              "Downloading:   0%|          | 0.00/446k [00:00<?, ?B/s]"
            ],
            "application/vnd.jupyter.widget-view+json": {
              "version_major": 2,
              "version_minor": 0,
              "model_id": "b228553782574060b1ccb722da0689f7"
            }
          },
          "metadata": {}
        },
        {
          "output_type": "display_data",
          "data": {
            "text/plain": [
              "Downloading:   0%|          | 0.00/150 [00:00<?, ?B/s]"
            ],
            "application/vnd.jupyter.widget-view+json": {
              "version_major": 2,
              "version_minor": 0,
              "model_id": "7a2e1ac50a7b4af189d82c82eaba4268"
            }
          },
          "metadata": {}
        }
      ]
    },
    {
      "cell_type": "code",
      "source": [
        "#explore tokenizer\n",
        "tokenizer(['the dog is cute'], padding='longest', truncation=True, max_length=256, return_tensors='pt')"
      ],
      "metadata": {
        "colab": {
          "base_uri": "https://localhost:8080/"
        },
        "id": "TaZVTB0-_vmZ",
        "outputId": "6a13fcef-1525-4e7c-ca9d-61d29de87350"
      },
      "execution_count": 108,
      "outputs": [
        {
          "output_type": "execute_result",
          "data": {
            "text/plain": [
              "{'input_ids': tensor([[    0,   627,  2335,    16, 11962,     2]]), 'attention_mask': tensor([[1, 1, 1, 1, 1, 1]])}"
            ]
          },
          "metadata": {},
          "execution_count": 108
        }
      ]
    },
    {
      "cell_type": "code",
      "source": [
        "#create tokenizer function\n",
        "def tokenize_data(input_example, tok, how='pt'):\n",
        "\n",
        "  return_dict = tok(input_example['text'], padding='longest', truncation=True, max_length = 256, return_tensors = how)\n",
        "\n",
        "  return return_dict"
      ],
      "metadata": {
        "id": "TXbbC55aAFv1"
      },
      "execution_count": 167,
      "outputs": []
    },
    {
      "cell_type": "code",
      "source": [
        "#explore known lambda functionality\n",
        "tok_dataset = demo_dataset.map(lambda x: tokenize_data(x, tokenizer))\n",
        "tok_dataset"
      ],
      "metadata": {
        "colab": {
          "base_uri": "https://localhost:8080/",
          "height": 120,
          "referenced_widgets": [
            "c6f6936a11a94675971fa79620217f0f",
            "fcf680c958e5464687c66531ba278f41",
            "502c26dd80f44fd3b88fb12a318d4373",
            "e04f9d54539a401c9be2b21fe61c2e74",
            "4363a09da0ef4050b70dcdae779adf71",
            "b65e8f2b90a743b3b6c241a2414ee5f3",
            "575a5aa40b7c4094bc146927b2df1601",
            "f1fb3e39102f4bb0911887b15f7129f0",
            "02e187ea1b6647eab9fbe118ef9e649c",
            "db225aedecdf4f919cb641d7542b7d44",
            "1a1a56520c3e4a63af81b8708f037f49"
          ]
        },
        "id": "-WMnDfxOB1mG",
        "outputId": "d2790c35-eacd-4e4b-b6a5-76ea193d7473"
      },
      "execution_count": 171,
      "outputs": [
        {
          "output_type": "display_data",
          "data": {
            "text/plain": [
              "  0%|          | 0/4 [00:00<?, ?ex/s]"
            ],
            "application/vnd.jupyter.widget-view+json": {
              "version_major": 2,
              "version_minor": 0,
              "model_id": "c6f6936a11a94675971fa79620217f0f"
            }
          },
          "metadata": {}
        },
        {
          "output_type": "execute_result",
          "data": {
            "text/plain": [
              "Dataset({\n",
              "    features: ['text', 'labels', 'label_names', 'input_ids', 'attention_mask'],\n",
              "    num_rows: 4\n",
              "})"
            ]
          },
          "metadata": {},
          "execution_count": 171
        }
      ]
    },
    {
      "cell_type": "code",
      "source": [
        "#explore direct use of function in batch\n",
        "tok_dataset = demo_dataset.map(tokenize_data,\n",
        "                               batched=True,\n",
        "                               fn_kwargs={'tok':tokenizer, 'how':'np'})\n",
        "tok_dataset"
      ],
      "metadata": {
        "colab": {
          "base_uri": "https://localhost:8080/",
          "height": 120,
          "referenced_widgets": [
            "d67fee3b80c9483db23563d660489966",
            "b3043c5ed59a4f9f92cac1f5dec81bff",
            "9e3ac0b7be7b499c9e67a8b689b546c2",
            "11e01b08da05486a996e2a93dbbcbef3",
            "2a821f3cba14489aa966116e266d2094",
            "cf407675bbaf4eb3a0fdcd3cb3170fdd",
            "b1c24eeef56b4e199effaa71d645b3b4",
            "f15628e69939480b96e5d63b28be5bce",
            "b0295c0f9614444798da149193e71053",
            "01a47380ae1c4379acb49c6b52b44d83",
            "94535fa8a5b5473b9de175106ac05618"
          ]
        },
        "id": "wwCPumE7Adeq",
        "outputId": "f71860cc-d3a7-4eb7-b9b5-f3b9c397cba4"
      },
      "execution_count": 172,
      "outputs": [
        {
          "output_type": "display_data",
          "data": {
            "text/plain": [
              "  0%|          | 0/1 [00:00<?, ?ba/s]"
            ],
            "application/vnd.jupyter.widget-view+json": {
              "version_major": 2,
              "version_minor": 0,
              "model_id": "d67fee3b80c9483db23563d660489966"
            }
          },
          "metadata": {}
        },
        {
          "output_type": "execute_result",
          "data": {
            "text/plain": [
              "Dataset({\n",
              "    features: ['text', 'labels', 'label_names', 'input_ids', 'attention_mask'],\n",
              "    num_rows: 4\n",
              "})"
            ]
          },
          "metadata": {},
          "execution_count": 172
        }
      ]
    },
    {
      "cell_type": "code",
      "source": [
        "#call model\n",
        "mdl(**{'input_ids':torch.tensor(tok_dataset['input_ids']),\n",
        "       'attention_mask':torch.tensor(tok_dataset['attention_mask'])})"
      ],
      "metadata": {
        "colab": {
          "base_uri": "https://localhost:8080/"
        },
        "id": "RNdXyd6xAtLH",
        "outputId": "3950cfd0-cde7-4a06-da8a-0584ec1940cd"
      },
      "execution_count": 173,
      "outputs": [
        {
          "output_type": "execute_result",
          "data": {
            "text/plain": [
              "SequenceClassifierOutput([('logits', tensor([[-2.7216,  0.3107,  2.9494],\n",
              "                                   [ 1.3014,  0.9623, -2.3747],\n",
              "                                   [-1.7134,  1.8206, -0.0186],\n",
              "                                   [ 2.2642, -0.0392, -2.3004]], grad_fn=<AddmmBackward0>))])"
            ]
          },
          "metadata": {},
          "execution_count": 173
        }
      ]
    },
    {
      "cell_type": "markdown",
      "source": [
        "# Congratulations!\n",
        "You made it through the first crash course with Python for using HuggingFace! You now:\n",
        "\n",
        "1. How to use Google Colab\n",
        "2. Have built some intuition around what it is to program and that programming is just another language with syntax, semantics, and grammar\n",
        "3. Know several standard Python data types and how to use them\n",
        "4. Know several standard Python data structures and how to use them\n",
        "5. Have learned how to use functions, what they expect, and what they return\n",
        "6. Know packages, libraries, modules, classes, functions, and methods all relate and how you can leverage this information to help understand APIs\n",
        "7. Experienced using the HuggingFace API and understood APIs as contracts about what is expected to be input and what should be returned\n",
        "8. Learned how to communication conditional execution\n",
        "9. Learned about standard types of iteration with Python\n",
        "10. Learned about the map method with HuggingFace\n",
        "\n",
        "That is A LOT to cover in 3 days - and I'm proud of you for sticking with it!\n",
        "\n",
        "Next week, we'll delve into Transformers, and we'll use this Python knowledge to help us understand tutorials and grow on our own in looking at the APIs and documentation HuggingFace provides."
      ],
      "metadata": {
        "id": "uK_WEaEnCQzE"
      }
    },
    {
      "cell_type": "markdown",
      "source": [
        "# Homework Exercises\n",
        "\n",
        "Remember that you can always click the `Show Code` button for help or to check your answers. Now that you're more familiar with the Google Colab interface, creat your own cells - markdown or code - to answer the questions below."
      ],
      "metadata": {
        "id": "0-8QRxhjTrLC"
      }
    },
    {
      "cell_type": "code",
      "source": [
        "#@title Question 1. Mutually Exclusive behavior\n",
        "#@markdown Consider the mutually exclusive behavior of Exercise\n",
        "#@markdown 3 in our Conditional Execution section. Semantically, it\n",
        "#@markdown doesn't make sense as the final `else` somewhat assumes\n",
        "#@markdown that we've specified all of the meaningful foods that we might\n",
        "#@markdown be cooking. How might we go about changing this behavior\n",
        "#@markdown so that the the actual inputs of `time` and `temperature`\n",
        "#@markdown can actually be used?\n",
        "\n",
        "#1\n",
        "#A set of `if` statements rather than `if-elif-else` statements.\n",
        "#This does not confer the same mutually exclusive behavior."
      ],
      "metadata": {
        "cellView": "form",
        "id": "D7GwKatVT5AA"
      },
      "execution_count": 187,
      "outputs": []
    },
    {
      "cell_type": "code",
      "source": [
        "#@title Question 2. Mutually Exclusive Behavior\n",
        "#@markdown Following up to Question 1, what is the impact\n",
        "#@markdown of this change to the execution of our code,\n",
        "#@markdown particularly for \"fish casserole\"? Explain this behavior.\n",
        "\n",
        "#In the if-elif-else construction, the code leaves the if-elif-else\n",
        "#statement once a condition is satisfied. Thus, only the \"fish\" statement\n",
        "#is executed.\n",
        "\n",
        "#In the if-if-if solution of Question 1, ALL if statements are tested\n",
        "#for matches. This means whatever statement that matches last is the one\n",
        "#that will have the time and temp values."
      ],
      "metadata": {
        "cellView": "form",
        "id": "yIV0v-NKWLuj"
      },
      "execution_count": 189,
      "outputs": []
    },
    {
      "cell_type": "code",
      "source": [
        "#@title Question 3: Dictionaries as purses\n",
        "#@markdown Recall the question in class where someone was\n",
        "#@markdown asking whether we could specify the parameters of\n",
        "#@markdown in batch. My answer was that they could do this with\n",
        "#@markdown a dictionary and dump out the values while calling the function.\n",
        "\n",
        "#@markdown Using the `cook_in_oven_if_else` function, explore\n",
        "#@markdown how you can do this.\n",
        "\n",
        "#soln\n",
        "param_dict = {'time': 40, 'temperature':800, 'rack':7}\n",
        "\n",
        "cook_in_oven_if_else('pizza', **param_dict)"
      ],
      "metadata": {
        "colab": {
          "base_uri": "https://localhost:8080/",
          "height": 35
        },
        "id": "aJfYbluaWuU6",
        "outputId": "b9fe411f-7e2b-4325-ffbb-7205b97f96d7"
      },
      "execution_count": 190,
      "outputs": [
        {
          "output_type": "execute_result",
          "data": {
            "text/plain": [
              "'pizza - Cooked!'"
            ],
            "application/vnd.google.colaboratory.intrinsic+json": {
              "type": "string"
            }
          },
          "metadata": {},
          "execution_count": 190
        }
      ]
    },
    {
      "cell_type": "code",
      "source": [
        "#@title Question 3: Iteration\n",
        "#@markdown On day 2, we explored the usage of the `lower`\n",
        "#@markdown String function and wrote an enclosing function around \n",
        "#@markdown it to demonstrate functions. Instead, let's use\n",
        "#@markdown the lower function directly, and apply\n",
        "#@markdown the function exactly as desired - to lower\n",
        "#@markdown some uppercase labels.\n",
        "\n",
        "#@markdown Using the `output` list of dictionaries we've\n",
        "#@markdown been using:\n",
        "#@markdown 1. Write a for loop to implement this functionality,\n",
        "#@markdown updating the list with the appropriate lowercased values\n",
        "#@markdown 2. Write a for loop to implement this functionality\n",
        "#@markdown by populating either an empty list or a list of zeros\n",
        "#@markdown 3. Write a list comprehension to generate the same list\n",
        "#@markdown of dictionaries but with lowercased labels.\n",
        "\n",
        "#@markdown Note that if you write these in order, you'll\n",
        "#@markdown likely have to update (re-run) the cell which\n",
        "#@markdown establishes the initial values of `output`\n",
        "#@markdown between questions 1 and 2.\n",
        "\n",
        "output = [{'label': 'LABEL_2', 'score': 0.9303200244903564},\n",
        "          {'label': 'LABEL_0', 'score': 0.575447142124176},\n",
        "          {'label': 'LABEL_1', 'score': 0.8416591286659241},\n",
        "          {'label': 'LABEL_0', 'score': 0.9006277322769165}]\n",
        "\n",
        "#1.\n",
        "for cls_dict in output:\n",
        "  cls_dict['label'] = cls_dict['label'].lower()\n",
        "\n",
        "#2\n",
        "new_output = list()\n",
        "for cls_dict in output:\n",
        "  new_dict = cls_dict.copy()\n",
        "  new_dict['label'] = new_dict['label'].lower()\n",
        "  new_output.append(new_dict)\n",
        "\n",
        "#3\n",
        "new_output_comp = [{**cls_dict, 'label':cls_dict['label'].lower()} for cls_dict in output]\n"
      ],
      "metadata": {
        "cellView": "form",
        "id": "d66HkRjNYSoZ"
      },
      "execution_count": 199,
      "outputs": []
    }
  ]
}