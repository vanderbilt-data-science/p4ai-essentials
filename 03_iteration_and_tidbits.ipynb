{
  "nbformat": 4,
  "nbformat_minor": 0,
  "metadata": {
    "colab": {
      "name": "03_iteration_and_tidbits.ipynb",
      "provenance": [],
      "collapsed_sections": [
        "p284NtdkQ5N6",
        "PMNjmo64en1y",
        "1kn5gqUm1vKT",
        "0-8QRxhjTrLC"
      ],
      "toc_visible": true,
      "authorship_tag": "ABX9TyP5sHSC8P9vaeL+vXkqDFDN",
      "include_colab_link": true
    },
    "kernelspec": {
      "name": "python3",
      "display_name": "Python 3"
    },
    "language_info": {
      "name": "python"
    }
  },
  "cells": [
    {
      "cell_type": "markdown",
      "metadata": {
        "id": "view-in-github",
        "colab_type": "text"
      },
      "source": [
        "<a href=\"https://colab.research.google.com/github/vanderbilt-data-science/p4ai-essentials/blob/main/03_iteration_and_tidbits.ipynb\" target=\"_parent\"><img src=\"https://colab.research.google.com/assets/colab-badge.svg\" alt=\"Open In Colab\"/></a>"
      ]
    },
    {
      "cell_type": "markdown",
      "source": [
        "# Iteration and Final Tidbits\n",
        "> Rounding out our Python knowledge and tidbits for sucess with HuggingFace\n",
        "\n",
        "Welcome to our last day of our Python for AI crash course! In today's lesson, we'll cover conditional execution, iteration, and some last tidbits to knowledge to bolster your success with HuggingFace. We'll continue learning the syntax and grammar of the Python language to effectively communicate our goals to Python.\n",
        "\n",
        "In this lesson, you'll learn:\n",
        "* Communicating conditional execution syntax to Python\n",
        "* Different ways of communicating iteration to Python\n",
        "* Practice with common tools of iteration with HuggingFace\n",
        "* Tips and tricks common in the HuggingFace documentation and coursework\n",
        "\n",
        "Let's get started!\n"
      ],
      "metadata": {
        "id": "9KxyqOvROcHs"
      }
    },
    {
      "cell_type": "markdown",
      "source": [
        "# Conditional Execution\n",
        "Let's start by revisiting our oven example. Recall that our function was:\n",
        "\n",
        "```\n",
        "# A function to cook in oven\n",
        "def cook_in_oven(food_to_cook, time=25, temperature=375, rack=2):\n",
        "  '''\n",
        "  Function cook_in_oven: cooks input food based on oven parameters\n",
        "    food_to_cook: String indicating the food to be cooked\n",
        "    time (default 25): Integer of the time required to cook the food in minutes\n",
        "    temperature (default 375): Integer temperature at which food should be cooked in degrees Fahrenheit\n",
        "    rack: Integer of rack that the food should be cooked at\n",
        "\n",
        "    returns: string of food, if cooked, returns '- Cooked!' appended to the string\n",
        "  '''\n",
        "\n",
        "  #cook food, an example\n",
        "  if time>20 and temperature>215:\n",
        "    food_to_cook = food_to_cook + ' - Cooked!'\n",
        "  \n",
        "  return food_to_cook\n",
        "```\n",
        "This already has an example of conditional execution, in which a variable is only modified if conditions are met. Let's explore this at greater depth."
      ],
      "metadata": {
        "id": "p284NtdkQ5N6"
      }
    },
    {
      "cell_type": "code",
      "source": [
        "#@title Sweeping Generalizations about Recipes\n",
        "#@markdown Let us for a moment suspend disbelief and assume that\n",
        "#@markdown one can always cook certain foods at certain temperatures\n",
        "#@markdown and times and we would like to encode this programmatically.\n",
        "#@markdown Let's think about what these can be:\n",
        "\n",
        "#@markdown **Condition A** -  food is a cake:\n",
        "time = 0 #@param {type:\"integer\"}\n",
        "temp = 0 #@param {type:\"integer\"}\n",
        "\n",
        "#@markdown **Condition B** - the food is fish:\n",
        "time = 0 #@param {type:\"integer\"}\n",
        "temp = 0 #@param {type:\"integer\"}\n",
        "\n",
        "#@markdown **Condition C** - the food is casserole:\n",
        "time = 0 #@param {type:\"integer\"}\n",
        "temp = 0 #@param {type:\"integer\"}\n",
        "\n",
        "#@markdown If the food is anything else:\n",
        "time = 0 #@param {type:\"integer\"}\n",
        "temp = 0 #@param {type:\"integer\"}\n"
      ],
      "metadata": {
        "cellView": "form",
        "id": "yUnHfR7ESHJi"
      },
      "execution_count": null,
      "outputs": []
    },
    {
      "cell_type": "markdown",
      "source": [
        "## Writing conditional execution code\n",
        "What we've written above is essentially the form of one or more `if`, `if-else`, `if-elif-else` statements. The syntax for communicating conditional execution looks like so:\n",
        "\n",
        "### `if` statements\n",
        "```\n",
        "if condition:\n",
        "  #code block for if condition true\n",
        "```\n",
        "\n",
        "### `if-else` statements\n",
        "`if-else` statements allow binary, mutually exclusive decisions:\n",
        "\n",
        "```\n",
        "if condition:\n",
        "  #code block for if condition true\n",
        "else:\n",
        "  #code block for if condition false\n",
        "```\n",
        "\n",
        "### `if-elif-else` statements\n",
        "\n",
        "`if-elif-else` statements allow multiple, mutually exclusive decisions:\n",
        "```\n",
        "if condition A:\n",
        "  #code block for if condition A true\n",
        "elif condition B:\n",
        "  #code block for if condition B true\n",
        "elif condition C:\n",
        "  #code block for if condition C true\n",
        "else:\n",
        "  #code block for none of the above conditions are true\n",
        "```\n",
        "\n",
        "Let's see what this looks like for our code."
      ],
      "metadata": {
        "id": "ZDo5L8PrU_0H"
      }
    },
    {
      "cell_type": "markdown",
      "source": [
        "## Guided Exercise 1 - `if`\n",
        "Starting with the function that we had, let's ONLY consider Condition A; if only we knew about the settings for fish. Let's amend our code to set the cook and temperature times for cake foods only."
      ],
      "metadata": {
        "id": "gPHv8s1SXqbU"
      }
    },
    {
      "cell_type": "code",
      "source": [
        "# Amend code to reflect only Condition A\n",
        "def cook_in_oven_(food_to_cook, time=20, temperature=375, rack=2):\n",
        "  '''\n",
        "  Function cook_in_oven: cooks input food based on oven parameters\n",
        "    food_to_cook: String indicating the food to be cooked\n",
        "    time (default 20): Integer of the time required to cook the food in minutes\n",
        "    temperature (default 375): Integer temperature at which food should be cooked in degrees Fahrenheit\n",
        "    rack: Integer of rack that the food should be cooked at\n",
        "\n",
        "    returns: string of food, if cooked, returns '- Cooked!' appended to the string\n",
        "  '''\n",
        "  #New code for cake\n",
        "  \n",
        "\n",
        "  #cook food, an example\n",
        "  if time>20 and temperature>215:\n",
        "    food_to_cook = food_to_cook + ' - Cooked!'\n",
        "\n",
        "  return food_to_cook"
      ],
      "metadata": {
        "id": "1tVFQpanYHBq"
      },
      "execution_count": null,
      "outputs": []
    },
    {
      "cell_type": "code",
      "source": [
        "#Verify behavior\n"
      ],
      "metadata": {
        "id": "OgiGJlPjY5LN"
      },
      "execution_count": null,
      "outputs": []
    },
    {
      "cell_type": "markdown",
      "source": [
        "## Guided Exercise 2 - `if-else`\n",
        "Let's say we're unsatisfied with the code we started with and would prefer for uncooked food to have `'- NOT cooked'` appended to it. Let's change the code above to make this happen."
      ],
      "metadata": {
        "id": "VJetkAm2ZEWv"
      }
    },
    {
      "cell_type": "code",
      "source": [
        "# Amend Guided Exercise 1 code to reflect uncooked\n",
        "def cook_in_oven(food_to_cook, time=20, temperature=375, rack=2):\n",
        "  '''\n",
        "  Function cook_in_oven: cooks input food based on oven parameters\n",
        "    food_to_cook: String indicating the food to be cooked\n",
        "    time (default 20): Integer of the time required to cook the food in minutes\n",
        "    temperature (default 375): Integer temperature at which food should be cooked in degrees Fahrenheit\n",
        "    rack: Integer of rack that the food should be cooked at\n",
        "\n",
        "    returns: string of food, if cooked, returns ' - Cooked!' appended to the string, otherwise appends ' - Not Cooked!'\n",
        "  '''\n",
        "  if 'cake' in food_to_cook:\n",
        "    time = 30\n",
        "    temperature = 350\n",
        "    print('cake cooked at', time, 'at temperature', temperature, 'for', food_to_cook)\n",
        "\n",
        "  #cook food, an example\n",
        "  if time>20 and temperature>215:\n",
        "    food_to_cook = food_to_cook + ' - Cooked!'\n",
        "  \n",
        "  #new code for else statement\n",
        "\n",
        "  return food_to_cook"
      ],
      "metadata": {
        "id": "4YP4RS2uaE9z"
      },
      "execution_count": null,
      "outputs": []
    },
    {
      "cell_type": "code",
      "source": [
        "#Verify behavior\n",
        "demo_food_a = 'red velvet cake'\n",
        "\n",
        "\n",
        "demo_food_b = 'lasagna'\n"
      ],
      "metadata": {
        "id": "YPmcQAwpaRNP"
      },
      "execution_count": null,
      "outputs": []
    },
    {
      "cell_type": "markdown",
      "source": [
        "## Guided Exercise 3 - `if-elif-else`\n",
        "Now, let's encode our original form for cakes, fish, and casseroles."
      ],
      "metadata": {
        "id": "ISiiaFP1aiES"
      }
    },
    {
      "cell_type": "code",
      "source": [
        "# Amend Guided Exercise 2 code to reflect all foods\n",
        "def cook_in_oven(food_to_cook, time=20, temperature=375, rack=2):\n",
        "  '''\n",
        "  Function cook_in_oven: cooks input food based on oven parameters\n",
        "    food_to_cook: String indicating the food to be cooked\n",
        "    time (default 20): Integer of the time required to cook the food in minutes\n",
        "    temperature (default 375): Integer temperature at which food should be cooked in degrees Fahrenheit\n",
        "    rack: Integer of rack that the food should be cooked at\n",
        "\n",
        "    returns: string of food, if cooked, returns ' - Cooked!' appended to the string, otherwise appends ' - Not Cooked!'\n",
        "  '''\n",
        "  if 'cake' in food_to_cook:\n",
        "    time = 30\n",
        "    temperature = 350\n",
        "    print('cake cooked at', time, 'at temperature', temperature, 'for', food_to_cook)\n",
        "  \n",
        "  #new elif code\n",
        "\n",
        "  #cook food, an example\n",
        "  if time>20 and temperature>215:\n",
        "    food_to_cook = food_to_cook + ' - Cooked!'\n",
        "  else:\n",
        "    food_to_cook = food_to_cook + ' - Not Cooked!'\n",
        "\n",
        "  return food_to_cook"
      ],
      "metadata": {
        "id": "uhAKTCWqay1u"
      },
      "execution_count": null,
      "outputs": []
    },
    {
      "cell_type": "code",
      "source": [
        "#Verify behavior with demo strings\n"
      ],
      "metadata": {
        "id": "ac0sqTUwbUlD"
      },
      "execution_count": null,
      "outputs": []
    },
    {
      "cell_type": "markdown",
      "source": [
        "Consider the above behavior for `fish casserole`. It executed the line of code for `fish`, but DID NOT execute the line of code for `casserole`. Why is this?"
      ],
      "metadata": {
        "id": "x5TV5C9Yeg-u"
      }
    },
    {
      "cell_type": "markdown",
      "source": [
        "# Iteration\n",
        "We've already seen some examples of iteration, where we need to cycle through a collection data structure to apply statements to one or more of the elements of the collection (e.g. dictionaries, lists).\n",
        "\n",
        "There are 2 primary ways that you see iteration in Python:\n",
        "* `for` loops\n",
        "* `comprehensions` (list, dictionary, generator)\n",
        "\n",
        "A final type that we will see _at length_ with Huggingface is:\n",
        "* `map`\n",
        "\n",
        "Let's explore this."
      ],
      "metadata": {
        "id": "PMNjmo64en1y"
      }
    },
    {
      "cell_type": "markdown",
      "source": [
        "## `for` loops\n",
        "We've already seen some examples of `for` loops when we were learning about lists and dictionaries.\n",
        "\n",
        "We said that our `for` goes through cyclical iterations, updating the index to process each element.\n",
        "\n",
        "Our syntax was as follows:\n",
        "```\n",
        "for dummy_name in collection:\n",
        "  ## indented code block steps to take\n",
        "```\n",
        "\n",
        "Let's explore this."
      ],
      "metadata": {
        "id": "pwJUehyVfhKm"
      }
    },
    {
      "cell_type": "markdown",
      "source": [
        "### Guided Exercise 1 - Avoiding copy/paste\n",
        "Let's build on the exercise that we just did with our cakes. In even trying to do the demo with the cakes, we found that we had to copy/paste individual elements over and over. Let's see how we can combine lists with iteration to help us."
      ],
      "metadata": {
        "id": "YTTY6e-NgIg1"
      }
    },
    {
      "cell_type": "code",
      "source": [
        "#create the list of elements\n",
        "demo_foods = ['red velvet cake',\n",
        "              'swordfish',\n",
        "              'green bean casserole',\n",
        "              'fish casserole',\n",
        "              'lasagna']"
      ],
      "metadata": {
        "id": "diPSVLJsgd6Z"
      },
      "execution_count": null,
      "outputs": []
    },
    {
      "cell_type": "code",
      "source": [
        "#write for loop to iterate through elements and do the task\n"
      ],
      "metadata": {
        "id": "eD63TN8Pgwu4"
      },
      "execution_count": null,
      "outputs": []
    },
    {
      "cell_type": "markdown",
      "source": [
        "### Guided Practical Exercise - Updating Elements\n",
        "In yesterday's class, we saw an output data structure where we didn't like the labels that were in the data. We wanted to replace elements of the form `LABEL_0` with their true name, e.g., `negative`. Let's explore this."
      ],
      "metadata": {
        "id": "gYIjrLQphCA4"
      }
    },
    {
      "cell_type": "code",
      "source": [
        "#output from classifier\n",
        "output = [{'label': 'LABEL_2', 'score': 0.9303200244903564},\n",
        "          {'label': 'LABEL_0', 'score': 0.575447142124176},\n",
        "          {'label': 'LABEL_1', 'score': 0.8416591286659241},\n",
        "          {'label': 'LABEL_0', 'score': 0.9006277322769165}]"
      ],
      "metadata": {
        "id": "-7G_y1X2haMD"
      },
      "execution_count": null,
      "outputs": []
    },
    {
      "cell_type": "code",
      "source": [
        "#build basic intuition with iteration\n"
      ],
      "metadata": {
        "id": "9VDoyefuhwd1"
      },
      "execution_count": null,
      "outputs": []
    },
    {
      "cell_type": "markdown",
      "source": [
        "This is one way in which we could do this. However, you'll see this more often in HuggingFace using the `id2label` style conversions using dictionaries. Let's explore this."
      ],
      "metadata": {
        "id": "K22AgkDgiFpU"
      }
    },
    {
      "cell_type": "code",
      "source": [
        "# Establish lists\n",
        "label_list = ['LABEL_0', 'LABEL_1', 'LABEL_2']\n",
        "label_semantics = ['negative', 'neutral', 'positive']\n",
        "\n",
        "# Create lookup dictionary\n",
        "label2semantics = dict(zip(label_list, label_semantics))\n",
        "label2semantics"
      ],
      "metadata": {
        "id": "tLxaucmYjEfL"
      },
      "execution_count": null,
      "outputs": []
    },
    {
      "cell_type": "markdown",
      "source": [
        "Let's rewrite our for loop using this..."
      ],
      "metadata": {
        "id": "aiMQjwY0j6MN"
      }
    },
    {
      "cell_type": "code",
      "source": [
        "#output from classifier\n",
        "output = [{'label': 'LABEL_2', 'score': 0.9303200244903564},\n",
        "          {'label': 'LABEL_0', 'score': 0.575447142124176},\n",
        "          {'label': 'LABEL_1', 'score': 0.8416591286659241},\n",
        "          {'label': 'LABEL_0', 'score': 0.9006277322769165}]"
      ],
      "metadata": {
        "id": "RHykwp2ej0cT"
      },
      "execution_count": null,
      "outputs": []
    },
    {
      "cell_type": "markdown",
      "source": [
        "Recall: When we look up a value using a key in a dictionary, the value is returned. So we can chain together this returned value with an operation.\n",
        "\n",
        "What? Let's look."
      ],
      "metadata": {
        "id": "d1QfmQrtkpTe"
      }
    },
    {
      "cell_type": "code",
      "source": [
        "# How do we get the value of a label from the dictionary element\n"
      ],
      "metadata": {
        "id": "dIk4R7v4koKy"
      },
      "execution_count": null,
      "outputs": []
    },
    {
      "cell_type": "code",
      "source": [
        "# How do we look up a value in a dictionary?\n"
      ],
      "metadata": {
        "id": "h-0Ym-sSk-MH"
      },
      "execution_count": null,
      "outputs": []
    },
    {
      "cell_type": "code",
      "source": [
        "# What does this look like chained together?\n"
      ],
      "metadata": {
        "id": "OPGUc_PllDLZ"
      },
      "execution_count": null,
      "outputs": []
    },
    {
      "cell_type": "code",
      "source": [
        "#update our for loop\n"
      ],
      "metadata": {
        "id": "k2IMEV4ckAUu"
      },
      "execution_count": null,
      "outputs": []
    },
    {
      "cell_type": "markdown",
      "source": [
        "### Try it Yourself!"
      ],
      "metadata": {
        "id": "ejm17tn1lczy"
      }
    },
    {
      "cell_type": "code",
      "source": [
        "#@markdown Recall yesterday's example where we wrote\n",
        "#@markdown a function because we had a list of class IDs\n",
        "#@markdown which we wanted to subtract 1 from.\n",
        "\n",
        "#@markdown Yesterday, we wrote the function.\n",
        "\n",
        "#@markdown In this exercise, you will apply that function to a list.\n",
        "\n",
        "#@markdown The function that we wrote is shown below and\n",
        "#@markdown placed in a code cell below this cell for execution.\n",
        "#@markdown ```\n",
        "#@markdown def adjust_label_values(label_in):\n",
        "#@markdown \n",
        "#@markdown   #adjust value\n",
        "#@markdown   label_in = label_in - 1\n",
        "#@markdown \n",
        "#@markdown   #return the value\n",
        "#@markdown   return label_in\n",
        "#@markdown ```\n",
        "#@markdown If you get stuck, use the `Show Code` button below\n",
        "#@markdown to see the answer.\n",
        "\n",
        "#@markdown Here is some guidance for how to think through how to solve this:\n",
        "#@markdown 1. How do we access elements of a list?\n",
        "#@markdown 2. How do we get the index and the value of an element when\n",
        "#@markdown performing iteration? Recall the following code from Day 1 of our learning journey:\n",
        "#@markdown ```\n",
        "#@markdown for position, value in enumerate(floor0):\n",
        "#@markdown \n",
        "#@markdown   # Room position 2 becomes a janitor closet\n",
        "#@markdown   if position==2:\n",
        "#@markdown     floor0[position] = 'janitor closet'\n",
        "#@markdown   print(position, floor0[position])\n",
        "#@markdown ```\n",
        "#@markdown 3. What do we need to update the content of a single list element with?\n",
        "#@markdown 4. Once we are able to access the index/position in a list,\n",
        "#@markdown how do we update its contents?\n",
        "#@markdown 5. How would we write the for loop to execute this task?\n",
        "\n",
        "#1\n",
        "# ids_list[0], where 0 is the position we're looking to see the contents of or change\n",
        "\n",
        "#2\n",
        "# We can use the enumerate function, which will provide both the index and value at\n",
        "# that position in the list\n",
        "\n",
        "#3\n",
        "# We need to update the contents with the contents -1\n",
        "# by calling our function\n",
        "\n",
        "#4\n",
        "# ids_list[pos] = adjust_label_values(single_id)\n",
        "\n",
        "# Function\n",
        "def adjust_label_values(label_in):\n",
        "\n",
        "  #adjust value\n",
        "  label_in = label_in - 1\n",
        "\n",
        "  #return the value\n",
        "  return label_in\n",
        "\n",
        "# Demo list\n",
        "ids_list = [2, 6, 3, 2, 1, 8, 2, 3, 2, 1]\n",
        "\n",
        "# Code\n",
        "for pos, single_id in enumerate(ids_list):\n",
        "  ids_list[pos] = adjust_label_values(single_id)\n"
      ],
      "metadata": {
        "cellView": "form",
        "id": "naMSvlz5kNE8"
      },
      "execution_count": null,
      "outputs": []
    },
    {
      "cell_type": "code",
      "source": [
        "# Function\n",
        "def adjust_label_values(label_in):\n",
        "\n",
        "  #adjust value\n",
        "  label_in = label_in - 1\n",
        "\n",
        "  #return the value\n",
        "  return label_in"
      ],
      "metadata": {
        "id": "fYs_fs4kqYfM"
      },
      "execution_count": null,
      "outputs": []
    },
    {
      "cell_type": "code",
      "source": [
        "# Demo list\n",
        "ids_list = [2, 6, 3, 2, 1, 8, 2, 3, 2, 1]"
      ],
      "metadata": {
        "id": "jITNu-RsqUKN"
      },
      "execution_count": null,
      "outputs": []
    },
    {
      "cell_type": "code",
      "source": [
        "# Create your for loop here\n"
      ],
      "metadata": {
        "id": "Ct3rvP9yqXkQ"
      },
      "execution_count": null,
      "outputs": []
    },
    {
      "cell_type": "code",
      "source": [
        "#@ title An alternate solution - Copying\n",
        "#@markdown It can sometimes be super annoying to directly\n",
        "#@markdown update the list while developing your code. If\n",
        "#@markdown your list is short enough (or you can subset) your list\n",
        "#@markdown during development, you can either create a copy\n",
        "#@markdown first or exercise other strategies to not modify\n",
        "#@markdown the original list. \n",
        "\n",
        "#@markdown Let's see what this looks like.\n",
        "\n",
        "# Demo list\n",
        "ids_list = [2, 6, 3, 2, 1, 8, 2, 3, 2, 1]\n",
        "\n",
        "# Method 1: Create a copy\n",
        "ids_copy = ids_list.copy()\n",
        "\n",
        "for pos, single_id in enumerate(ids_copy):\n",
        "  ids_copy[pos] = adjust_label_values(single_id)\n",
        "\n",
        "print('Method 1: Copy')\n",
        "print('Original list:\\n', ids_list)\n",
        "print('Copy operated upon:\\n', ids_copy)\n",
        "\n",
        "# Method 2: Populate from empty list\n",
        "ids_blank = list()\n",
        "for pos, single_id in enumerate(ids_list):\n",
        "  ids_blank.append(adjust_label_values(single_id))\n",
        "\n",
        "print('\\nMethod 2: Populate from empty list')\n",
        "print('Original list:\\n', ids_list)\n",
        "print('Grown list :\\n', ids_blank)\n",
        "\n",
        "# Method 2: Populate from zeros list at size\n",
        "ids_zeros = [0] * len(ids_list)\n",
        "for pos, single_id in enumerate(ids_list):\n",
        "  ids_zeros[pos] = adjust_label_values(single_id)\n",
        "\n",
        "print('\\nMethod 3: Replace elements of Zero List at Size')\n",
        "print('Original list:\\n', ids_list)\n",
        "print('Replaced Zeros list :\\n', ids_zeros)"
      ],
      "metadata": {
        "colab": {
          "base_uri": "https://localhost:8080/"
        },
        "cellView": "form",
        "id": "RP8bNBpOqVdO",
        "outputId": "e86af37d-324e-4d60-9e56-27a3d4e7b8a8"
      },
      "execution_count": null,
      "outputs": [
        {
          "output_type": "stream",
          "name": "stdout",
          "text": [
            "Method 1: Copy\n",
            "Original list:\n",
            " [2, 6, 3, 2, 1, 8, 2, 3, 2, 1]\n",
            "Copy operated upon:\n",
            " [1, 5, 2, 1, 0, 7, 1, 2, 1, 0]\n",
            "\n",
            "Method 2: Populate from empty list\n",
            "Original list:\n",
            " [2, 6, 3, 2, 1, 8, 2, 3, 2, 1]\n",
            "Grown list :\n",
            " [1, 5, 2, 1, 0, 7, 1, 2, 1, 0]\n",
            "\n",
            "Method 3: Replace elements of Zero List at Size\n",
            "Original list:\n",
            " [2, 6, 3, 2, 1, 8, 2, 3, 2, 1]\n",
            "Replaced Zeros list :\n",
            " [1, 5, 2, 1, 0, 7, 1, 2, 1, 0]\n"
          ]
        }
      ]
    },
    {
      "cell_type": "markdown",
      "source": [
        "## List Comprehensions\n",
        "Another very compact way to represent for loops is through list comprehensions. They're great if you:\n",
        "* Essentially have one function to apply to a list of elements\n",
        "* Want to do binary conditional execution on elements of a list\n",
        "* Want to perform filtering of elements (reduce the size of the list based on some condition)\n",
        "\n",
        "The difficulty of list and dictionary comprehensions is the syntax because of the concise expression of the for loop. Let's take a look, but it offers wonderful functionality. It streamlines the creation of new lists based on old lists. Let's look at a brief comparison.\n",
        "\n",
        "<center>\n",
        "<img src=\"https://github.com/vanderbilt-data-science/p4ai-essentials/blob/main/img/iteration_comparison.png?raw=true\" width=\"800\">\n",
        "</center>"
      ],
      "metadata": {
        "id": "OTj7A4LZr42U"
      }
    },
    {
      "cell_type": "markdown",
      "source": [
        "### Guided Example 1 - Avoiding Copy Paste\n",
        "Yep, that's right - we're doing the same exact example again, except using list comprehensions. Don't think about the outputs of this too hard, this is more like gaining experience with the syntax of list comprehensions rather than any output functionality.\n",
        "\n",
        "Recall that we had:\n",
        "```\n",
        "demo_foods = ['red velvet cake',\n",
        "              'swordfish',\n",
        "              'green bean casserole',\n",
        "              'fish casserole',\n",
        "              'lasagna']\n",
        "\n",
        "for demo_food in demo_foods:\n",
        "  print(cook_in_oven_if_elif_else(demo_food))\n",
        "```\n",
        "We can re-express this as a list comprehension."
      ],
      "metadata": {
        "id": "uvKwD2P0uRkY"
      }
    },
    {
      "cell_type": "code",
      "source": [
        "#demo foods\n",
        "demo_foods = ['red velvet cake',\n",
        "              'swordfish',\n",
        "              'green bean casserole',\n",
        "              'fish casserole',\n",
        "              'lasagna']"
      ],
      "metadata": {
        "id": "WvDeimpqvGqf"
      },
      "execution_count": null,
      "outputs": []
    },
    {
      "cell_type": "code",
      "source": [
        "# Re-express as a list comprehension\n"
      ],
      "metadata": {
        "id": "S0sqA6kXuOwe"
      },
      "execution_count": null,
      "outputs": []
    },
    {
      "cell_type": "markdown",
      "source": [
        "### Guided Practical Exercise - Updating Elements\n",
        "You guessed it! We'll now try list comprehensions with our example of replacing labels with their semantic equivalents! Before, we had:\n",
        "```\n",
        "#output from classifier\n",
        "output = [{'label': 'LABEL_2', 'score': 0.9303200244903564},\n",
        "          {'label': 'LABEL_0', 'score': 0.575447142124176},\n",
        "          {'label': 'LABEL_1', 'score': 0.8416591286659241},\n",
        "          {'label': 'LABEL_0', 'score': 0.9006277322769165}]\n",
        "\n",
        "label_list = ['LABEL_0', 'LABEL_1', 'LABEL_2']\n",
        "label_semantics = ['negative', 'neutral', 'positive']\n",
        "\n",
        "# Create lookup dictionary\n",
        "label2semantics = dict(zip(label_list, label_semantics))\n",
        "label2semantics\n",
        "\n",
        "for cls_dict in output:\n",
        "  cls_dict['label'] = label2semantics[cls_dict['label']]\n",
        "```\n",
        "\n",
        "Let's do it again and re-express this as a list comprehension!"
      ],
      "metadata": {
        "id": "Zm-sbSNivLL8"
      }
    },
    {
      "cell_type": "code",
      "source": [
        "#express this as a list comprehension\n"
      ],
      "metadata": {
        "id": "1yesvJ9wwHur"
      },
      "execution_count": null,
      "outputs": []
    },
    {
      "cell_type": "code",
      "source": [
        "#express this as a list comprehension with the dictionary as the elements of the returned list\n"
      ],
      "metadata": {
        "id": "6r0nJLdHwVL-"
      },
      "execution_count": null,
      "outputs": []
    },
    {
      "cell_type": "code",
      "source": [
        "#@title Fun side tidbit\n",
        "#@markdown When you're working with data structures like these,\n",
        "#@markdown they lend themselves nicely to tabular inspection and usage.\n",
        "#@markdown We can do this using the pandas API, which is a common\n",
        "#@markdown Python package for tabular data manipulation. Let's check it out.\n",
        "\n",
        "#@markdown Whoa, this visualization looks much better, and comes\n",
        "#@markdown with tons of functionality for calculation and analysis!\n",
        "\n",
        "import pandas as pd\n",
        "pd.DataFrame(new_label_ids)"
      ],
      "metadata": {
        "colab": {
          "base_uri": "https://localhost:8080/",
          "height": 175
        },
        "cellView": "form",
        "id": "lc-zNOmgMKJu",
        "outputId": "639a1500-0457-4667-a669-5066f6572bdd"
      },
      "execution_count": null,
      "outputs": [
        {
          "output_type": "execute_result",
          "data": {
            "text/plain": [
              "      label     score\n",
              "0  positive  0.930320\n",
              "1  negative  0.575447\n",
              "2   neutral  0.841659\n",
              "3  negative  0.900628"
            ],
            "text/html": [
              "\n",
              "  <div id=\"df-ad65ad45-d163-4e21-a1b7-ef5a7079a605\">\n",
              "    <div class=\"colab-df-container\">\n",
              "      <div>\n",
              "<style scoped>\n",
              "    .dataframe tbody tr th:only-of-type {\n",
              "        vertical-align: middle;\n",
              "    }\n",
              "\n",
              "    .dataframe tbody tr th {\n",
              "        vertical-align: top;\n",
              "    }\n",
              "\n",
              "    .dataframe thead th {\n",
              "        text-align: right;\n",
              "    }\n",
              "</style>\n",
              "<table border=\"1\" class=\"dataframe\">\n",
              "  <thead>\n",
              "    <tr style=\"text-align: right;\">\n",
              "      <th></th>\n",
              "      <th>label</th>\n",
              "      <th>score</th>\n",
              "    </tr>\n",
              "  </thead>\n",
              "  <tbody>\n",
              "    <tr>\n",
              "      <th>0</th>\n",
              "      <td>positive</td>\n",
              "      <td>0.930320</td>\n",
              "    </tr>\n",
              "    <tr>\n",
              "      <th>1</th>\n",
              "      <td>negative</td>\n",
              "      <td>0.575447</td>\n",
              "    </tr>\n",
              "    <tr>\n",
              "      <th>2</th>\n",
              "      <td>neutral</td>\n",
              "      <td>0.841659</td>\n",
              "    </tr>\n",
              "    <tr>\n",
              "      <th>3</th>\n",
              "      <td>negative</td>\n",
              "      <td>0.900628</td>\n",
              "    </tr>\n",
              "  </tbody>\n",
              "</table>\n",
              "</div>\n",
              "      <button class=\"colab-df-convert\" onclick=\"convertToInteractive('df-ad65ad45-d163-4e21-a1b7-ef5a7079a605')\"\n",
              "              title=\"Convert this dataframe to an interactive table.\"\n",
              "              style=\"display:none;\">\n",
              "        \n",
              "  <svg xmlns=\"http://www.w3.org/2000/svg\" height=\"24px\"viewBox=\"0 0 24 24\"\n",
              "       width=\"24px\">\n",
              "    <path d=\"M0 0h24v24H0V0z\" fill=\"none\"/>\n",
              "    <path d=\"M18.56 5.44l.94 2.06.94-2.06 2.06-.94-2.06-.94-.94-2.06-.94 2.06-2.06.94zm-11 1L8.5 8.5l.94-2.06 2.06-.94-2.06-.94L8.5 2.5l-.94 2.06-2.06.94zm10 10l.94 2.06.94-2.06 2.06-.94-2.06-.94-.94-2.06-.94 2.06-2.06.94z\"/><path d=\"M17.41 7.96l-1.37-1.37c-.4-.4-.92-.59-1.43-.59-.52 0-1.04.2-1.43.59L10.3 9.45l-7.72 7.72c-.78.78-.78 2.05 0 2.83L4 21.41c.39.39.9.59 1.41.59.51 0 1.02-.2 1.41-.59l7.78-7.78 2.81-2.81c.8-.78.8-2.07 0-2.86zM5.41 20L4 18.59l7.72-7.72 1.47 1.35L5.41 20z\"/>\n",
              "  </svg>\n",
              "      </button>\n",
              "      \n",
              "  <style>\n",
              "    .colab-df-container {\n",
              "      display:flex;\n",
              "      flex-wrap:wrap;\n",
              "      gap: 12px;\n",
              "    }\n",
              "\n",
              "    .colab-df-convert {\n",
              "      background-color: #E8F0FE;\n",
              "      border: none;\n",
              "      border-radius: 50%;\n",
              "      cursor: pointer;\n",
              "      display: none;\n",
              "      fill: #1967D2;\n",
              "      height: 32px;\n",
              "      padding: 0 0 0 0;\n",
              "      width: 32px;\n",
              "    }\n",
              "\n",
              "    .colab-df-convert:hover {\n",
              "      background-color: #E2EBFA;\n",
              "      box-shadow: 0px 1px 2px rgba(60, 64, 67, 0.3), 0px 1px 3px 1px rgba(60, 64, 67, 0.15);\n",
              "      fill: #174EA6;\n",
              "    }\n",
              "\n",
              "    [theme=dark] .colab-df-convert {\n",
              "      background-color: #3B4455;\n",
              "      fill: #D2E3FC;\n",
              "    }\n",
              "\n",
              "    [theme=dark] .colab-df-convert:hover {\n",
              "      background-color: #434B5C;\n",
              "      box-shadow: 0px 1px 3px 1px rgba(0, 0, 0, 0.15);\n",
              "      filter: drop-shadow(0px 1px 2px rgba(0, 0, 0, 0.3));\n",
              "      fill: #FFFFFF;\n",
              "    }\n",
              "  </style>\n",
              "\n",
              "      <script>\n",
              "        const buttonEl =\n",
              "          document.querySelector('#df-ad65ad45-d163-4e21-a1b7-ef5a7079a605 button.colab-df-convert');\n",
              "        buttonEl.style.display =\n",
              "          google.colab.kernel.accessAllowed ? 'block' : 'none';\n",
              "\n",
              "        async function convertToInteractive(key) {\n",
              "          const element = document.querySelector('#df-ad65ad45-d163-4e21-a1b7-ef5a7079a605');\n",
              "          const dataTable =\n",
              "            await google.colab.kernel.invokeFunction('convertToInteractive',\n",
              "                                                     [key], {});\n",
              "          if (!dataTable) return;\n",
              "\n",
              "          const docLinkHtml = 'Like what you see? Visit the ' +\n",
              "            '<a target=\"_blank\" href=https://colab.research.google.com/notebooks/data_table.ipynb>data table notebook</a>'\n",
              "            + ' to learn more about interactive tables.';\n",
              "          element.innerHTML = '';\n",
              "          dataTable['output_type'] = 'display_data';\n",
              "          await google.colab.output.renderOutput(dataTable, element);\n",
              "          const docLink = document.createElement('div');\n",
              "          docLink.innerHTML = docLinkHtml;\n",
              "          element.appendChild(docLink);\n",
              "        }\n",
              "      </script>\n",
              "    </div>\n",
              "  </div>\n",
              "  "
            ]
          },
          "metadata": {},
          "execution_count": 175
        }
      ]
    },
    {
      "cell_type": "code",
      "source": [
        "#@title Another fun side tidbit\n",
        "#@markdown In the above example, we saw that pandas is super friendly\n",
        "#@markdown for tabular data manipulation. Let's see how hard it would be\n",
        "#@markdown if we wanted to concatenate this with our input text...\n",
        "\n",
        "#make a fake data fields\n",
        "texts = ['The dog was happy and ran along playfully.',\n",
        "         'The cat glared at me, judging me from afar.',\n",
        "         'The groundhog peeked its head above the ground.',\n",
        "         'Opposums are criminally underrated.']\n",
        "\n",
        "#Create new data frame out of texts\n",
        "text_data = pd.DataFrame({'texts':texts}, index=range(4))\n",
        "\n",
        "#Concat this with a data frame made from new_label_ids on the fly\n",
        "pd.concat([text_data, pd.DataFrame(new_label_ids)], axis=1)\n",
        "\n",
        "#@markdown Fun fun in the sun!"
      ],
      "metadata": {
        "colab": {
          "base_uri": "https://localhost:8080/",
          "height": 175
        },
        "cellView": "form",
        "id": "2-fijX_LMq6k",
        "outputId": "9fd118c2-80eb-4876-c454-95d5c8cc2a61"
      },
      "execution_count": null,
      "outputs": [
        {
          "output_type": "execute_result",
          "data": {
            "text/plain": [
              "                                             texts     label     score\n",
              "0       The dog was happy and ran along playfully.  positive  0.930320\n",
              "1      The cat glared at me, judging me from afar.  negative  0.575447\n",
              "2  The groundhog peeked its head above the ground.   neutral  0.841659\n",
              "3              Opposums are criminally underrated.  negative  0.900628"
            ],
            "text/html": [
              "\n",
              "  <div id=\"df-6e2093a3-1bcd-48f2-a93d-b57c9d104ef5\">\n",
              "    <div class=\"colab-df-container\">\n",
              "      <div>\n",
              "<style scoped>\n",
              "    .dataframe tbody tr th:only-of-type {\n",
              "        vertical-align: middle;\n",
              "    }\n",
              "\n",
              "    .dataframe tbody tr th {\n",
              "        vertical-align: top;\n",
              "    }\n",
              "\n",
              "    .dataframe thead th {\n",
              "        text-align: right;\n",
              "    }\n",
              "</style>\n",
              "<table border=\"1\" class=\"dataframe\">\n",
              "  <thead>\n",
              "    <tr style=\"text-align: right;\">\n",
              "      <th></th>\n",
              "      <th>texts</th>\n",
              "      <th>label</th>\n",
              "      <th>score</th>\n",
              "    </tr>\n",
              "  </thead>\n",
              "  <tbody>\n",
              "    <tr>\n",
              "      <th>0</th>\n",
              "      <td>The dog was happy and ran along playfully.</td>\n",
              "      <td>positive</td>\n",
              "      <td>0.930320</td>\n",
              "    </tr>\n",
              "    <tr>\n",
              "      <th>1</th>\n",
              "      <td>The cat glared at me, judging me from afar.</td>\n",
              "      <td>negative</td>\n",
              "      <td>0.575447</td>\n",
              "    </tr>\n",
              "    <tr>\n",
              "      <th>2</th>\n",
              "      <td>The groundhog peeked its head above the ground.</td>\n",
              "      <td>neutral</td>\n",
              "      <td>0.841659</td>\n",
              "    </tr>\n",
              "    <tr>\n",
              "      <th>3</th>\n",
              "      <td>Opposums are criminally underrated.</td>\n",
              "      <td>negative</td>\n",
              "      <td>0.900628</td>\n",
              "    </tr>\n",
              "  </tbody>\n",
              "</table>\n",
              "</div>\n",
              "      <button class=\"colab-df-convert\" onclick=\"convertToInteractive('df-6e2093a3-1bcd-48f2-a93d-b57c9d104ef5')\"\n",
              "              title=\"Convert this dataframe to an interactive table.\"\n",
              "              style=\"display:none;\">\n",
              "        \n",
              "  <svg xmlns=\"http://www.w3.org/2000/svg\" height=\"24px\"viewBox=\"0 0 24 24\"\n",
              "       width=\"24px\">\n",
              "    <path d=\"M0 0h24v24H0V0z\" fill=\"none\"/>\n",
              "    <path d=\"M18.56 5.44l.94 2.06.94-2.06 2.06-.94-2.06-.94-.94-2.06-.94 2.06-2.06.94zm-11 1L8.5 8.5l.94-2.06 2.06-.94-2.06-.94L8.5 2.5l-.94 2.06-2.06.94zm10 10l.94 2.06.94-2.06 2.06-.94-2.06-.94-.94-2.06-.94 2.06-2.06.94z\"/><path d=\"M17.41 7.96l-1.37-1.37c-.4-.4-.92-.59-1.43-.59-.52 0-1.04.2-1.43.59L10.3 9.45l-7.72 7.72c-.78.78-.78 2.05 0 2.83L4 21.41c.39.39.9.59 1.41.59.51 0 1.02-.2 1.41-.59l7.78-7.78 2.81-2.81c.8-.78.8-2.07 0-2.86zM5.41 20L4 18.59l7.72-7.72 1.47 1.35L5.41 20z\"/>\n",
              "  </svg>\n",
              "      </button>\n",
              "      \n",
              "  <style>\n",
              "    .colab-df-container {\n",
              "      display:flex;\n",
              "      flex-wrap:wrap;\n",
              "      gap: 12px;\n",
              "    }\n",
              "\n",
              "    .colab-df-convert {\n",
              "      background-color: #E8F0FE;\n",
              "      border: none;\n",
              "      border-radius: 50%;\n",
              "      cursor: pointer;\n",
              "      display: none;\n",
              "      fill: #1967D2;\n",
              "      height: 32px;\n",
              "      padding: 0 0 0 0;\n",
              "      width: 32px;\n",
              "    }\n",
              "\n",
              "    .colab-df-convert:hover {\n",
              "      background-color: #E2EBFA;\n",
              "      box-shadow: 0px 1px 2px rgba(60, 64, 67, 0.3), 0px 1px 3px 1px rgba(60, 64, 67, 0.15);\n",
              "      fill: #174EA6;\n",
              "    }\n",
              "\n",
              "    [theme=dark] .colab-df-convert {\n",
              "      background-color: #3B4455;\n",
              "      fill: #D2E3FC;\n",
              "    }\n",
              "\n",
              "    [theme=dark] .colab-df-convert:hover {\n",
              "      background-color: #434B5C;\n",
              "      box-shadow: 0px 1px 3px 1px rgba(0, 0, 0, 0.15);\n",
              "      filter: drop-shadow(0px 1px 2px rgba(0, 0, 0, 0.3));\n",
              "      fill: #FFFFFF;\n",
              "    }\n",
              "  </style>\n",
              "\n",
              "      <script>\n",
              "        const buttonEl =\n",
              "          document.querySelector('#df-6e2093a3-1bcd-48f2-a93d-b57c9d104ef5 button.colab-df-convert');\n",
              "        buttonEl.style.display =\n",
              "          google.colab.kernel.accessAllowed ? 'block' : 'none';\n",
              "\n",
              "        async function convertToInteractive(key) {\n",
              "          const element = document.querySelector('#df-6e2093a3-1bcd-48f2-a93d-b57c9d104ef5');\n",
              "          const dataTable =\n",
              "            await google.colab.kernel.invokeFunction('convertToInteractive',\n",
              "                                                     [key], {});\n",
              "          if (!dataTable) return;\n",
              "\n",
              "          const docLinkHtml = 'Like what you see? Visit the ' +\n",
              "            '<a target=\"_blank\" href=https://colab.research.google.com/notebooks/data_table.ipynb>data table notebook</a>'\n",
              "            + ' to learn more about interactive tables.';\n",
              "          element.innerHTML = '';\n",
              "          dataTable['output_type'] = 'display_data';\n",
              "          await google.colab.output.renderOutput(dataTable, element);\n",
              "          const docLink = document.createElement('div');\n",
              "          docLink.innerHTML = docLinkHtml;\n",
              "          element.appendChild(docLink);\n",
              "        }\n",
              "      </script>\n",
              "    </div>\n",
              "  </div>\n",
              "  "
            ]
          },
          "metadata": {},
          "execution_count": 186
        }
      ]
    },
    {
      "cell_type": "markdown",
      "source": [
        "### Try it Yourself!"
      ],
      "metadata": {
        "id": "OdUXS6w0wy6i"
      }
    },
    {
      "cell_type": "code",
      "source": [
        "#@markdown That's right, you guessed it again! Now, we're going to try the same\n",
        "#@markdown exercise of applying our `adjust_label_values` function to all of the\n",
        "#@markdown elements of our list!\n",
        "\n",
        "#@markdown Recall that our solution was:\n",
        "#@markdown ```\n",
        "#@markdown for pos, single_id in enumerate(ids_list):\n",
        "#@markdown   ids_list[pos] = adjust_label_values(single_id)\n",
        "#@markdown ```\n",
        "\n",
        "#@markdown Here, write a list comprehension that returns a new list with the values of the corrected ids.\n",
        "#@markdown Click the `Show Code` button if you need a little assistance!\n",
        "\n",
        "# Function\n",
        "def adjust_label_values(label_in):\n",
        "\n",
        "  #adjust value\n",
        "  label_in = label_in - 1\n",
        "\n",
        "  #return the value\n",
        "  return label_in\n",
        "\n",
        "# Demo list\n",
        "ids_list = [2, 6, 3, 2, 1, 8, 2, 3, 2, 1]\n",
        "\n",
        "# Code\n",
        "adjusted_labels = [adjust_label_values(id_value) for id_value in ids_list]\n",
        "print('Adjusted labels', adjusted_labels)\n",
        "print('Original labels', ids_list)\n"
      ],
      "metadata": {
        "id": "bICblF5dzcv4",
        "colab": {
          "base_uri": "https://localhost:8080/"
        },
        "cellView": "form",
        "outputId": "0e3f9c9c-9225-4932-9afc-3164dc54b81e"
      },
      "execution_count": null,
      "outputs": [
        {
          "output_type": "stream",
          "name": "stdout",
          "text": [
            "Adjusted labels [1, 5, 2, 1, 0, 7, 1, 2, 1, 0]\n",
            "Original labels [2, 6, 3, 2, 1, 8, 2, 3, 2, 1]\n"
          ]
        }
      ]
    },
    {
      "cell_type": "code",
      "source": [
        "# Original function code and labels list\n",
        "\n",
        "# Function\n",
        "def adjust_label_values(label_in):\n",
        "\n",
        "  #adjust value\n",
        "  label_in = label_in - 1\n",
        "\n",
        "  #return the value\n",
        "  return label_in\n",
        "\n",
        "# Demo list\n",
        "ids_list = [2, 6, 3, 2, 1, 8, 2, 3, 2, 1]"
      ],
      "metadata": {
        "id": "AUi9MNQJ1W-n"
      },
      "execution_count": null,
      "outputs": []
    },
    {
      "cell_type": "code",
      "source": [
        "# Your code solution here\n"
      ],
      "metadata": {
        "id": "ByfKkn5K1epa"
      },
      "execution_count": null,
      "outputs": []
    },
    {
      "cell_type": "markdown",
      "source": [
        "# Iteration with Huggingface\n",
        "You'll see the syntax of iteration above all through Huggingface and Python, but you'll see the `map` functionality THE MOST with Huggingface due to their favored data structures and desire for speed in vectorized operations.\n",
        "\n",
        "Note that there is a map function provided through Python, and the functionality is similar. Today, we're going to talk about specifically the `map` _method_ of Datasets for iteration over your data in HuggingFace."
      ],
      "metadata": {
        "id": "1kn5gqUm1vKT"
      }
    },
    {
      "cell_type": "code",
      "source": [
        "%%capture\n",
        "\n",
        "#Make HF datasets available to our computing environment\n",
        "!pip install datasets"
      ],
      "metadata": {
        "id": "Hs0DI56Z2rhU"
      },
      "execution_count": null,
      "outputs": []
    },
    {
      "cell_type": "code",
      "source": [
        "#load relevant packages\n",
        "import pandas as pd #this provides iteractivity with tabular data\n",
        "from datasets import Dataset"
      ],
      "metadata": {
        "id": "oGQPYx5-2IUs"
      },
      "execution_count": null,
      "outputs": []
    },
    {
      "cell_type": "code",
      "source": [
        "#make a fake data fields\n",
        "texts = ['The dog was happy and ran along playfully.',\n",
        "         'The cat glared at me, judging me from afar.',\n",
        "         'The groundhog peeked its head above the ground.',\n",
        "         'Opposums are criminally underrated.']\n",
        "text_label_names = ['positive', 'negative', 'neutral', 'positive']"
      ],
      "metadata": {
        "id": "dRLpPv2F3Yao"
      },
      "execution_count": null,
      "outputs": []
    },
    {
      "cell_type": "code",
      "source": [
        "#create label configurations\n",
        "id2label = {0:'negative', 1:'neutral', 2:'positive'}\n",
        "\n",
        "#create label2id configuration\n",
        "\n",
        "\n",
        "#create label ids for `labels` above\n"
      ],
      "metadata": {
        "id": "9TOvWhcF4T9r"
      },
      "execution_count": null,
      "outputs": []
    },
    {
      "cell_type": "code",
      "source": [
        "#make a fake Dataset dictionary\n",
        "dataset_dict = {'text':texts,\n",
        "                'labels':labels,\n",
        "                'label_names':text_label_names}\n",
        "dataset_dict"
      ],
      "metadata": {
        "id": "XMd5V8f54cuo"
      },
      "execution_count": null,
      "outputs": []
    },
    {
      "cell_type": "code",
      "source": [
        "#Observe the data in a more intuitive way using pandas\n"
      ],
      "metadata": {
        "id": "cHdff8OQ6_QQ"
      },
      "execution_count": null,
      "outputs": []
    },
    {
      "cell_type": "markdown",
      "source": [
        "Let's first make a Dataset so that we can use the `map` method on our data."
      ],
      "metadata": {
        "id": "V6BR0dyI7qZR"
      }
    },
    {
      "cell_type": "code",
      "source": [
        "#make the fake Dataset using the API\n",
        "demo_dataset = Dataset.from_dict(dataset_dict)\n",
        "demo_dataset"
      ],
      "metadata": {
        "id": "GjTXMrRu5hzB"
      },
      "execution_count": null,
      "outputs": []
    },
    {
      "cell_type": "code",
      "source": [
        "#assess text field\n"
      ],
      "metadata": {
        "id": "TA-IfPgC5wB-"
      },
      "execution_count": null,
      "outputs": []
    },
    {
      "cell_type": "markdown",
      "source": [
        "## Guided Example: Modifying data\n",
        "Let's say that we wanted to uppercase the entirety of each text field. How could we do this? Keep in mind that for Datasets `map` method, it always wants you to return a dictionary."
      ],
      "metadata": {
        "id": "1UJ5X2nD56HV"
      }
    },
    {
      "cell_type": "code",
      "source": [
        ""
      ],
      "metadata": {
        "id": "a_ZLtzi19L2A"
      },
      "execution_count": null,
      "outputs": []
    },
    {
      "cell_type": "markdown",
      "source": [
        "## Practical Example: Tokenization\n",
        "Tokenization is the process of taking our text inputs and processing them into something that can be used by a computer - some type of numerical representation.\n",
        "\n",
        "Tokenizers go along with a model, so we use a tokenizer to process the text in a way that the model will understand.\n",
        "\n",
        "Yesterday, we looked at pipelines, and we saw that there was a model and tokenizer field. Let's look at if we _didn't_ use pipeline and instead tried to instantiate from the class."
      ],
      "metadata": {
        "id": "RH5gZW4l-EEv"
      }
    },
    {
      "cell_type": "code",
      "source": [
        "%%capture\n",
        "\n",
        "#Make HF datasets available to our computing environment\n",
        "!pip install transformers"
      ],
      "metadata": {
        "id": "MvajV30D_bU5"
      },
      "execution_count": null,
      "outputs": []
    },
    {
      "cell_type": "code",
      "source": [
        "from transformers import AutoModelForSequenceClassification, AutoTokenizer\n",
        "import torch"
      ],
      "metadata": {
        "id": "e7ZUCB2r_Lvz"
      },
      "execution_count": null,
      "outputs": []
    },
    {
      "cell_type": "code",
      "source": [
        "# Lets create a model and tokenizer using the API\n",
        "mdl = AutoModelForSequenceClassification.from_pretrained('cardiffnlp/twitter-roberta-base-sentiment')\n",
        "tokenizer = AutoTokenizer.from_pretrained('cardiffnlp/twitter-roberta-base-sentiment')"
      ],
      "metadata": {
        "id": "Ps49mUF89eru"
      },
      "execution_count": null,
      "outputs": []
    },
    {
      "cell_type": "code",
      "source": [
        "#explore tokenizer\n",
        "tokenizer(['the dog is cute'], padding='longest', truncation=True, max_length=256, return_tensors='pt')"
      ],
      "metadata": {
        "id": "TaZVTB0-_vmZ"
      },
      "execution_count": null,
      "outputs": []
    },
    {
      "cell_type": "code",
      "source": [
        "#create tokenizer function\n"
      ],
      "metadata": {
        "id": "TXbbC55aAFv1"
      },
      "execution_count": null,
      "outputs": []
    },
    {
      "cell_type": "code",
      "source": [
        "#explore known lambda functionality\n"
      ],
      "metadata": {
        "id": "-WMnDfxOB1mG"
      },
      "execution_count": null,
      "outputs": []
    },
    {
      "cell_type": "code",
      "source": [
        "#explore direct use of function in batch\n"
      ],
      "metadata": {
        "id": "wwCPumE7Adeq"
      },
      "execution_count": null,
      "outputs": []
    },
    {
      "cell_type": "code",
      "source": [
        "#call model\n",
        "mdl(**{'input_ids':torch.tensor(tok_dataset['input_ids']),\n",
        "       'attention_mask':torch.tensor(tok_dataset['attention_mask'])})"
      ],
      "metadata": {
        "id": "RNdXyd6xAtLH"
      },
      "execution_count": null,
      "outputs": []
    },
    {
      "cell_type": "markdown",
      "source": [
        "# Congratulations!\n",
        "You made it through the first crash course with Python for using HuggingFace! You now:\n",
        "\n",
        "1. How to use Google Colab\n",
        "2. Have built some intuition around what it is to program and that programming is just another language with syntax, semantics, and grammar\n",
        "3. Know several standard Python data types and how to use them\n",
        "4. Know several standard Python data structures and how to use them\n",
        "5. Have learned how to use functions, what they expect, and what they return\n",
        "6. Know packages, libraries, modules, classes, functions, and methods all relate and how you can leverage this information to help understand APIs\n",
        "7. Experienced using the HuggingFace API and understood APIs as contracts about what is expected to be input and what should be returned\n",
        "8. Learned how to communication conditional execution\n",
        "9. Learned about standard types of iteration with Python\n",
        "10. Learned about the map method with HuggingFace\n",
        "\n",
        "That is A LOT to cover in 3 days - and I'm proud of you for sticking with it!\n",
        "\n",
        "Next week, we'll delve into Transformers, and we'll use this Python knowledge to help us understand tutorials and grow on our own in looking at the APIs and documentation HuggingFace provides."
      ],
      "metadata": {
        "id": "uK_WEaEnCQzE"
      }
    },
    {
      "cell_type": "markdown",
      "source": [
        "# Homework Exercises\n",
        "\n",
        "Remember that you can always click the `Show Code` button for help or to check your answers. Now that you're more familiar with the Google Colab interface, creat your own cells - markdown or code - to answer the questions below."
      ],
      "metadata": {
        "id": "0-8QRxhjTrLC"
      }
    },
    {
      "cell_type": "code",
      "source": [
        "#@title Question 1. Mutually Exclusive behavior\n",
        "#@markdown Consider the mutually exclusive behavior of Exercise\n",
        "#@markdown 3 in our Conditional Execution section. Semantically, it\n",
        "#@markdown doesn't make sense as the final `else` somewhat assumes\n",
        "#@markdown that we've specified all of the meaningful foods that we might\n",
        "#@markdown be cooking. How might we go about changing this behavior\n",
        "#@markdown so that the the actual inputs of `time` and `temperature`\n",
        "#@markdown can actually be used?\n",
        "\n",
        "#1\n",
        "#A set of `if` statements rather than `if-elif-else` statements.\n",
        "#This does not confer the same mutually exclusive behavior."
      ],
      "metadata": {
        "cellView": "form",
        "id": "D7GwKatVT5AA"
      },
      "execution_count": null,
      "outputs": []
    },
    {
      "cell_type": "code",
      "source": [
        "#@title Question 2. Mutually Exclusive Behavior\n",
        "#@markdown Following up to Question 1, what is the impact\n",
        "#@markdown of this change to the execution of our code,\n",
        "#@markdown particularly for \"fish casserole\"? Explain this behavior.\n",
        "\n",
        "#In the if-elif-else construction, the code leaves the if-elif-else\n",
        "#statement once a condition is satisfied. Thus, only the \"fish\" statement\n",
        "#is executed.\n",
        "\n",
        "#In the if-if-if solution of Question 1, ALL if statements are tested\n",
        "#for matches. This means whatever statement that matches last is the one\n",
        "#that will have the time and temp values."
      ],
      "metadata": {
        "cellView": "form",
        "id": "yIV0v-NKWLuj"
      },
      "execution_count": null,
      "outputs": []
    },
    {
      "cell_type": "code",
      "source": [
        "#@title Question 3: Dictionaries as purses\n",
        "#@markdown Recall the question in class where someone was\n",
        "#@markdown asking whether we could specify the parameters of\n",
        "#@markdown in batch. My answer was that they could do this with\n",
        "#@markdown a dictionary and dump out the values while calling the function.\n",
        "\n",
        "#@markdown Using the `cook_in_oven_if_else` function, explore\n",
        "#@markdown how you can do this.\n",
        "\n",
        "#soln\n",
        "param_dict = {'time': 40, 'temperature':800, 'rack':7}\n",
        "\n",
        "cook_in_oven_if_else('pizza', **param_dict)"
      ],
      "metadata": {
        "colab": {
          "base_uri": "https://localhost:8080/",
          "height": 35
        },
        "id": "aJfYbluaWuU6",
        "outputId": "b9fe411f-7e2b-4325-ffbb-7205b97f96d7",
        "cellView": "form"
      },
      "execution_count": null,
      "outputs": [
        {
          "output_type": "execute_result",
          "data": {
            "text/plain": [
              "'pizza - Cooked!'"
            ],
            "application/vnd.google.colaboratory.intrinsic+json": {
              "type": "string"
            }
          },
          "metadata": {},
          "execution_count": 190
        }
      ]
    },
    {
      "cell_type": "code",
      "source": [
        "#@title Question 3: Iteration\n",
        "#@markdown On day 2, we explored the usage of the `lower`\n",
        "#@markdown String function and wrote an enclosing function around \n",
        "#@markdown it to demonstrate functions. Instead, let's use\n",
        "#@markdown the lower function directly, and apply\n",
        "#@markdown the function exactly as desired - to lower\n",
        "#@markdown some uppercase labels.\n",
        "\n",
        "#@markdown Using the `output` list of dictionaries we've\n",
        "#@markdown been using:\n",
        "#@markdown 1. Write a for loop to implement this functionality,\n",
        "#@markdown updating the list with the appropriate lowercased values\n",
        "#@markdown 2. Write a for loop to implement this functionality\n",
        "#@markdown by populating either an empty list or a list of zeros\n",
        "#@markdown 3. Write a list comprehension to generate the same list\n",
        "#@markdown of dictionaries but with lowercased labels.\n",
        "\n",
        "#@markdown Note that if you write these in order, you'll\n",
        "#@markdown likely have to update (re-run) the cell which\n",
        "#@markdown establishes the initial values of `output`\n",
        "#@markdown between questions 1 and 2.\n",
        "\n",
        "output = [{'label': 'LABEL_2', 'score': 0.9303200244903564},\n",
        "          {'label': 'LABEL_0', 'score': 0.575447142124176},\n",
        "          {'label': 'LABEL_1', 'score': 0.8416591286659241},\n",
        "          {'label': 'LABEL_0', 'score': 0.9006277322769165}]\n",
        "\n",
        "#1.\n",
        "for cls_dict in output:\n",
        "  cls_dict['label'] = cls_dict['label'].lower()\n",
        "\n",
        "#2\n",
        "new_output = list()\n",
        "for cls_dict in output:\n",
        "  new_dict = cls_dict.copy()\n",
        "  new_dict['label'] = new_dict['label'].lower()\n",
        "  new_output.append(new_dict)\n",
        "\n",
        "#3\n",
        "new_output_comp = [{**cls_dict, 'label':cls_dict['label'].lower()} for cls_dict in output]\n"
      ],
      "metadata": {
        "cellView": "form",
        "id": "d66HkRjNYSoZ"
      },
      "execution_count": null,
      "outputs": []
    }
  ]
}